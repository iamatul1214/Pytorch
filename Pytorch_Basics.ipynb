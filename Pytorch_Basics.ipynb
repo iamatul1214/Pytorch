{
  "nbformat": 4,
  "nbformat_minor": 0,
  "metadata": {
    "colab": {
      "name": "Pytorch Basics.ipynb",
      "provenance": [],
      "collapsed_sections": [],
      "authorship_tag": "ABX9TyPlRDaBioQ+5nKvdKyITDzt",
      "include_colab_link": true
    },
    "kernelspec": {
      "name": "python3",
      "display_name": "Python 3"
    },
    "language_info": {
      "name": "python"
    },
    "accelerator": "GPU"
  },
  "cells": [
    {
      "cell_type": "markdown",
      "metadata": {
        "id": "view-in-github",
        "colab_type": "text"
      },
      "source": [
        "<a href=\"https://colab.research.google.com/github/iamatul1214/Pytorch/blob/main/Pytorch_Basics.ipynb\" target=\"_parent\"><img src=\"https://colab.research.google.com/assets/colab-badge.svg\" alt=\"Open In Colab\"/></a>"
      ]
    },
    {
      "cell_type": "code",
      "execution_count": 1,
      "metadata": {
        "id": "6oayy3tHkQSg"
      },
      "outputs": [],
      "source": [
        "import torch     ## There are cpu and GPU versions of Pytorch. Right now we are working on GPU pytorch."
      ]
    },
    {
      "cell_type": "code",
      "source": [
        "## Tensors in pytorch -- A tensor is also known as a matrix/vector or n dimensional array.\n",
        "t1=torch.tensor(4.)\n",
        "t1"
      ],
      "metadata": {
        "colab": {
          "base_uri": "https://localhost:8080/"
        },
        "id": "Ng9pTi75kfqw",
        "outputId": "36071be3-6fc2-499d-9c90-c5a961ab7d71"
      },
      "execution_count": 4,
      "outputs": [
        {
          "output_type": "execute_result",
          "data": {
            "text/plain": [
              "tensor(4.)"
            ]
          },
          "metadata": {},
          "execution_count": 4
        }
      ]
    },
    {
      "cell_type": "code",
      "source": [
        "print(type(t1))\n",
        "print(type(4.))"
      ],
      "metadata": {
        "colab": {
          "base_uri": "https://localhost:8080/"
        },
        "id": "kRO95Op-lY1o",
        "outputId": "3642ffe4-c71f-4493-ec26-ab71382d3036"
      },
      "execution_count": 6,
      "outputs": [
        {
          "output_type": "stream",
          "name": "stdout",
          "text": [
            "<class 'torch.Tensor'>\n",
            "<class 'float'>\n"
          ]
        }
      ]
    },
    {
      "cell_type": "code",
      "source": [
        "t1.dtype"
      ],
      "metadata": {
        "colab": {
          "base_uri": "https://localhost:8080/"
        },
        "id": "dw1kkfn8lgCF",
        "outputId": "1d3093c6-984c-4f3c-f7b1-fe8710597b9b"
      },
      "execution_count": 8,
      "outputs": [
        {
          "output_type": "execute_result",
          "data": {
            "text/plain": [
              "torch.float32"
            ]
          },
          "metadata": {},
          "execution_count": 8
        }
      ]
    },
    {
      "cell_type": "code",
      "source": [
        "## Vector\n",
        "\n",
        "t2=torch.tensor([1.,2.,3.,4.])\n",
        "print(t2)\n",
        "print(t2.dtype)\n"
      ],
      "metadata": {
        "colab": {
          "base_uri": "https://localhost:8080/"
        },
        "id": "sRALaM8imPXd",
        "outputId": "f815fee4-20c0-4eb0-a7d1-2559fc0ef1fb"
      },
      "execution_count": 11,
      "outputs": [
        {
          "output_type": "stream",
          "name": "stdout",
          "text": [
            "tensor([1., 2., 3., 4.])\n",
            "torch.float32\n"
          ]
        }
      ]
    },
    {
      "cell_type": "code",
      "source": [
        "## Matrix\n",
        "t3=torch.tensor(\n",
        "    [\n",
        "     [1,2,3],\n",
        "     [4,5,6]\n",
        "     ]\n",
        ")\n",
        "print(t3)\n",
        "print(type(t3))"
      ],
      "metadata": {
        "colab": {
          "base_uri": "https://localhost:8080/"
        },
        "id": "foedFm-DnY_B",
        "outputId": "ec45a9af-e83d-4f18-da15-ab290e52db4b"
      },
      "execution_count": 13,
      "outputs": [
        {
          "output_type": "stream",
          "name": "stdout",
          "text": [
            "tensor([[1, 2, 3],\n",
            "        [4, 5, 6]])\n",
            "<class 'torch.Tensor'>\n"
          ]
        }
      ]
    },
    {
      "cell_type": "markdown",
      "source": [
        "## Tensors don't support the string values that's why we try to convert everything into numbers when dealing with tensors"
      ],
      "metadata": {
        "id": "M94zeMwwosay"
      }
    },
    {
      "cell_type": "code",
      "source": [
        "t4=torch.tensor([\n",
        "                 [1,2,3],\n",
        "                 [4,5,6],\n",
        "\n",
        "                 [7,8,9]\n",
        "])\n",
        "\n",
        "print(t4)"
      ],
      "metadata": {
        "colab": {
          "base_uri": "https://localhost:8080/"
        },
        "id": "VZ7viCLUohU0",
        "outputId": "509a913d-8663-4638-db29-bbbd2aaf1d8a"
      },
      "execution_count": 14,
      "outputs": [
        {
          "output_type": "stream",
          "name": "stdout",
          "text": [
            "tensor([[1, 2, 3],\n",
            "        [4, 5, 6],\n",
            "        [7, 8, 9]])\n"
          ]
        }
      ]
    },
    {
      "cell_type": "code",
      "source": [
        "print(t1.shape)\n",
        "print(t2.shape)\n",
        "print(t3.shape)\n",
        "print(t4.shape)"
      ],
      "metadata": {
        "colab": {
          "base_uri": "https://localhost:8080/"
        },
        "id": "eR8Lk9GOrX_x",
        "outputId": "b1cda194-1e74-4381-9b55-0516d48a04b4"
      },
      "execution_count": 15,
      "outputs": [
        {
          "output_type": "stream",
          "name": "stdout",
          "text": [
            "torch.Size([])\n",
            "torch.Size([4])\n",
            "torch.Size([2, 3])\n",
            "torch.Size([3, 3])\n"
          ]
        }
      ]
    },
    {
      "cell_type": "code",
      "source": [
        "##Pytorch supports Autograd-> Which means it can find the gradient automatically. Here w=weight and b=bias are only trainable paramters hence, we apply requires_grad=True in them only\n",
        "x=torch.tensor(3)\n",
        "w=torch.tensor(4., requires_grad=True)\n",
        "b=torch.tensor(5., requires_grad=True)\n",
        "\n",
        "x,w,b"
      ],
      "metadata": {
        "colab": {
          "base_uri": "https://localhost:8080/"
        },
        "id": "vTKiPljqrhhE",
        "outputId": "a4b04914-1528-4149-d7d6-afb679044638"
      },
      "execution_count": 19,
      "outputs": [
        {
          "output_type": "execute_result",
          "data": {
            "text/plain": [
              "(tensor(3), tensor(4., requires_grad=True), tensor(5., requires_grad=True))"
            ]
          },
          "metadata": {},
          "execution_count": 19
        }
      ]
    },
    {
      "cell_type": "code",
      "source": [
        "## Arithmatic work for linear regression\n",
        "y=w*x + b\n",
        "y"
      ],
      "metadata": {
        "colab": {
          "base_uri": "https://localhost:8080/"
        },
        "id": "heBvGUyXt6XB",
        "outputId": "fd1250b3-5d94-463d-9b81-c4d76c28b748"
      },
      "execution_count": 23,
      "outputs": [
        {
          "output_type": "execute_result",
          "data": {
            "text/plain": [
              "tensor(17., grad_fn=<AddBackward0>)"
            ]
          },
          "metadata": {},
          "execution_count": 23
        }
      ]
    },
    {
      "cell_type": "code",
      "source": [
        "y.backward()   ##This will calculate all the graidents of Y with respect to W and b"
      ],
      "metadata": {
        "id": "cNM6xGRDu6Qb"
      },
      "execution_count": 24,
      "outputs": []
    },
    {
      "cell_type": "code",
      "source": [
        "print(f\"dy/dx = {x.grad}\")\n",
        "print(f\"dy/dw = {w.grad}\")\n",
        "print(f\"dy/db = {b.grad}\")\n",
        "## dy/dx is Zero because x is our input and non trainable parameter"
      ],
      "metadata": {
        "colab": {
          "base_uri": "https://localhost:8080/"
        },
        "id": "PmyWVm98vZge",
        "outputId": "4ed7446e-f36c-48e9-8e39-b1fdd8dbcb39"
      },
      "execution_count": 27,
      "outputs": [
        {
          "output_type": "stream",
          "name": "stdout",
          "text": [
            "dy/dx = None\n",
            "dy/dw = 6.0\n",
            "dy/db = 3.0\n"
          ]
        }
      ]
    },
    {
      "cell_type": "code",
      "source": [
        ""
      ],
      "metadata": {
        "id": "Lo5Ks31JvsXg"
      },
      "execution_count": 31,
      "outputs": []
    },
    {
      "cell_type": "code",
      "source": [
        "## Tensor functions\n",
        "## creating an empty matrix\n",
        "\n",
        "t5=torch.full((5,5), 1)\n",
        "print(t5)\n",
        "t5=torch.full((5,5), 0)\n",
        "print(t5)\n",
        "t5=torch.full((5,5), -7)\n",
        "print(t5)"
      ],
      "metadata": {
        "colab": {
          "base_uri": "https://localhost:8080/"
        },
        "id": "ZA94bIWnwHYt",
        "outputId": "a10c35e3-24fe-4435-91a4-12c544c1aece"
      },
      "execution_count": 35,
      "outputs": [
        {
          "output_type": "stream",
          "name": "stdout",
          "text": [
            "tensor([[1, 1, 1, 1, 1],\n",
            "        [1, 1, 1, 1, 1],\n",
            "        [1, 1, 1, 1, 1],\n",
            "        [1, 1, 1, 1, 1],\n",
            "        [1, 1, 1, 1, 1]])\n",
            "tensor([[0, 0, 0, 0, 0],\n",
            "        [0, 0, 0, 0, 0],\n",
            "        [0, 0, 0, 0, 0],\n",
            "        [0, 0, 0, 0, 0],\n",
            "        [0, 0, 0, 0, 0]])\n",
            "tensor([[-7, -7, -7, -7, -7],\n",
            "        [-7, -7, -7, -7, -7],\n",
            "        [-7, -7, -7, -7, -7],\n",
            "        [-7, -7, -7, -7, -7],\n",
            "        [-7, -7, -7, -7, -7]])\n"
          ]
        }
      ]
    },
    {
      "cell_type": "code",
      "source": [
        "t6=torch.cat((t3,t4))\n",
        "print(t6)"
      ],
      "metadata": {
        "colab": {
          "base_uri": "https://localhost:8080/"
        },
        "id": "ChFil-35wN2R",
        "outputId": "72664131-68c3-4a20-ea2d-33bb62416f51"
      },
      "execution_count": 38,
      "outputs": [
        {
          "output_type": "stream",
          "name": "stdout",
          "text": [
            "tensor([[1, 2, 3],\n",
            "        [4, 5, 6],\n",
            "        [1, 2, 3],\n",
            "        [4, 5, 6],\n",
            "        [7, 8, 9]])\n"
          ]
        }
      ]
    },
    {
      "cell_type": "code",
      "source": [
        "t7=torch.sin(t6)       ## calculating sin values of t6\n",
        "print(t7)"
      ],
      "metadata": {
        "colab": {
          "base_uri": "https://localhost:8080/"
        },
        "id": "3WXmqmhmxcB-",
        "outputId": "63b2b251-8832-4aee-fa26-f8cc18efb121"
      },
      "execution_count": 41,
      "outputs": [
        {
          "output_type": "stream",
          "name": "stdout",
          "text": [
            "tensor([[ 0.8415,  0.9093,  0.1411],\n",
            "        [-0.7568, -0.9589, -0.2794],\n",
            "        [ 0.8415,  0.9093,  0.1411],\n",
            "        [-0.7568, -0.9589, -0.2794],\n",
            "        [ 0.6570,  0.9894,  0.4121]])\n"
          ]
        }
      ]
    },
    {
      "cell_type": "code",
      "source": [
        "t8=t7.reshape(3,5)   ## Reshaping in pytorch\n",
        "t8"
      ],
      "metadata": {
        "colab": {
          "base_uri": "https://localhost:8080/"
        },
        "id": "MdNuMVa4xs6y",
        "outputId": "00f5d8c1-bd06-4847-c941-9a038b1cf378"
      },
      "execution_count": 49,
      "outputs": [
        {
          "output_type": "execute_result",
          "data": {
            "text/plain": [
              "tensor([[ 0.8415,  0.9093,  0.1411, -0.7568, -0.9589],\n",
              "        [-0.2794,  0.8415,  0.9093,  0.1411, -0.7568],\n",
              "        [-0.9589, -0.2794,  0.6570,  0.9894,  0.4121]])"
            ]
          },
          "metadata": {},
          "execution_count": 49
        }
      ]
    },
    {
      "cell_type": "code",
      "source": [
        "t9=torch.cos(t6)       ## calculating cos values of t6\n",
        "print(t9)"
      ],
      "metadata": {
        "colab": {
          "base_uri": "https://localhost:8080/"
        },
        "id": "MHiNkxRYx7p1",
        "outputId": "1de12192-20a1-4f9a-ab7c-f2913c89ebec"
      },
      "execution_count": 51,
      "outputs": [
        {
          "output_type": "stream",
          "name": "stdout",
          "text": [
            "tensor([[ 0.5403, -0.4161, -0.9900],\n",
            "        [-0.6536,  0.2837,  0.9602],\n",
            "        [ 0.5403, -0.4161, -0.9900],\n",
            "        [-0.6536,  0.2837,  0.9602],\n",
            "        [ 0.7539, -0.1455, -0.9111]])\n"
          ]
        }
      ]
    },
    {
      "cell_type": "code",
      "source": [
        "##Converitng numpy array to tensor in pytorch\n",
        "import numpy as np\n",
        "x=np.array([[1,2,3],[7,8,9]])\n",
        "x"
      ],
      "metadata": {
        "colab": {
          "base_uri": "https://localhost:8080/"
        },
        "id": "r4kwOBltzCTX",
        "outputId": "770802a6-d294-4e95-e2c4-de260d2e2601"
      },
      "execution_count": 52,
      "outputs": [
        {
          "output_type": "execute_result",
          "data": {
            "text/plain": [
              "array([[1, 2, 3],\n",
              "       [7, 8, 9]])"
            ]
          },
          "metadata": {},
          "execution_count": 52
        }
      ]
    },
    {
      "cell_type": "code",
      "source": [
        "y=torch.from_numpy(x)\n",
        "y"
      ],
      "metadata": {
        "colab": {
          "base_uri": "https://localhost:8080/"
        },
        "id": "QXScM9DW1orQ",
        "outputId": "e9522d55-6c28-4c7d-e8b8-b8ae6072830c"
      },
      "execution_count": 53,
      "outputs": [
        {
          "output_type": "execute_result",
          "data": {
            "text/plain": [
              "tensor([[1, 2, 3],\n",
              "        [7, 8, 9]])"
            ]
          },
          "metadata": {},
          "execution_count": 53
        }
      ]
    },
    {
      "cell_type": "code",
      "source": [
        "## Converting tensor to numpy array\n",
        "y.numpy()"
      ],
      "metadata": {
        "colab": {
          "base_uri": "https://localhost:8080/"
        },
        "id": "NG5vmZ0P1u-a",
        "outputId": "30f7188c-8961-4698-e281-9712dfcc57f5"
      },
      "execution_count": 54,
      "outputs": [
        {
          "output_type": "execute_result",
          "data": {
            "text/plain": [
              "array([[1, 2, 3],\n",
              "       [7, 8, 9]])"
            ]
          },
          "metadata": {},
          "execution_count": 54
        }
      ]
    },
    {
      "cell_type": "code",
      "source": [
        ""
      ],
      "metadata": {
        "id": "SdKaHvQn10_s"
      },
      "execution_count": null,
      "outputs": []
    }
  ]
}