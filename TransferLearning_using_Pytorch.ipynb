{
  "nbformat": 4,
  "nbformat_minor": 0,
  "metadata": {
    "colab": {
      "name": "TransferLearning_using_Pytorch.ipynb",
      "provenance": [],
      "collapsed_sections": [],
      "mount_file_id": "1DcuNALoR2ZCL6ftztXJvq3alAbJaAzbi",
      "authorship_tag": "ABX9TyOdMviI25e7ufyXlqXoALeh",
      "include_colab_link": true
    },
    "kernelspec": {
      "name": "python3",
      "display_name": "Python 3"
    },
    "language_info": {
      "name": "python"
    },
    "accelerator": "GPU",
    "widgets": {
      "application/vnd.jupyter.widget-state+json": {
        "f005f246873e4501b86be065e8e04363": {
          "model_module": "@jupyter-widgets/controls",
          "model_name": "HBoxModel",
          "model_module_version": "1.5.0",
          "state": {
            "_dom_classes": [],
            "_model_module": "@jupyter-widgets/controls",
            "_model_module_version": "1.5.0",
            "_model_name": "HBoxModel",
            "_view_count": null,
            "_view_module": "@jupyter-widgets/controls",
            "_view_module_version": "1.5.0",
            "_view_name": "HBoxView",
            "box_style": "",
            "children": [
              "IPY_MODEL_5baca3a8547f4bc58e431feb7c8bdd96",
              "IPY_MODEL_2266600606d14d9d8fc3a238fcc5db00",
              "IPY_MODEL_fb8d8adef4ce44d1b1b80d2937705b3e"
            ],
            "layout": "IPY_MODEL_a1e96d0827de418c8607963ee56e4175"
          }
        },
        "5baca3a8547f4bc58e431feb7c8bdd96": {
          "model_module": "@jupyter-widgets/controls",
          "model_name": "HTMLModel",
          "model_module_version": "1.5.0",
          "state": {
            "_dom_classes": [],
            "_model_module": "@jupyter-widgets/controls",
            "_model_module_version": "1.5.0",
            "_model_name": "HTMLModel",
            "_view_count": null,
            "_view_module": "@jupyter-widgets/controls",
            "_view_module_version": "1.5.0",
            "_view_name": "HTMLView",
            "description": "",
            "description_tooltip": null,
            "layout": "IPY_MODEL_5c6b40b2f8124eb689d6747634cebfbb",
            "placeholder": "​",
            "style": "IPY_MODEL_16eee6b4e1c642c491f844fb2368c819",
            "value": "100%"
          }
        },
        "2266600606d14d9d8fc3a238fcc5db00": {
          "model_module": "@jupyter-widgets/controls",
          "model_name": "FloatProgressModel",
          "model_module_version": "1.5.0",
          "state": {
            "_dom_classes": [],
            "_model_module": "@jupyter-widgets/controls",
            "_model_module_version": "1.5.0",
            "_model_name": "FloatProgressModel",
            "_view_count": null,
            "_view_module": "@jupyter-widgets/controls",
            "_view_module_version": "1.5.0",
            "_view_name": "ProgressView",
            "bar_style": "success",
            "description": "",
            "description_tooltip": null,
            "layout": "IPY_MODEL_b1ca927cf41747978f7fd300e6392746",
            "max": 244408911,
            "min": 0,
            "orientation": "horizontal",
            "style": "IPY_MODEL_612c53b23dab4b0eb714b5833ad7497c",
            "value": 244408911
          }
        },
        "fb8d8adef4ce44d1b1b80d2937705b3e": {
          "model_module": "@jupyter-widgets/controls",
          "model_name": "HTMLModel",
          "model_module_version": "1.5.0",
          "state": {
            "_dom_classes": [],
            "_model_module": "@jupyter-widgets/controls",
            "_model_module_version": "1.5.0",
            "_model_name": "HTMLModel",
            "_view_count": null,
            "_view_module": "@jupyter-widgets/controls",
            "_view_module_version": "1.5.0",
            "_view_name": "HTMLView",
            "description": "",
            "description_tooltip": null,
            "layout": "IPY_MODEL_8295510c2b3c4060abe025580eda0e1c",
            "placeholder": "​",
            "style": "IPY_MODEL_4cb34bc707674776a17c20d395e8b490",
            "value": " 233M/233M [00:01&lt;00:00, 193MB/s]"
          }
        },
        "a1e96d0827de418c8607963ee56e4175": {
          "model_module": "@jupyter-widgets/base",
          "model_name": "LayoutModel",
          "model_module_version": "1.2.0",
          "state": {
            "_model_module": "@jupyter-widgets/base",
            "_model_module_version": "1.2.0",
            "_model_name": "LayoutModel",
            "_view_count": null,
            "_view_module": "@jupyter-widgets/base",
            "_view_module_version": "1.2.0",
            "_view_name": "LayoutView",
            "align_content": null,
            "align_items": null,
            "align_self": null,
            "border": null,
            "bottom": null,
            "display": null,
            "flex": null,
            "flex_flow": null,
            "grid_area": null,
            "grid_auto_columns": null,
            "grid_auto_flow": null,
            "grid_auto_rows": null,
            "grid_column": null,
            "grid_gap": null,
            "grid_row": null,
            "grid_template_areas": null,
            "grid_template_columns": null,
            "grid_template_rows": null,
            "height": null,
            "justify_content": null,
            "justify_items": null,
            "left": null,
            "margin": null,
            "max_height": null,
            "max_width": null,
            "min_height": null,
            "min_width": null,
            "object_fit": null,
            "object_position": null,
            "order": null,
            "overflow": null,
            "overflow_x": null,
            "overflow_y": null,
            "padding": null,
            "right": null,
            "top": null,
            "visibility": null,
            "width": null
          }
        },
        "5c6b40b2f8124eb689d6747634cebfbb": {
          "model_module": "@jupyter-widgets/base",
          "model_name": "LayoutModel",
          "model_module_version": "1.2.0",
          "state": {
            "_model_module": "@jupyter-widgets/base",
            "_model_module_version": "1.2.0",
            "_model_name": "LayoutModel",
            "_view_count": null,
            "_view_module": "@jupyter-widgets/base",
            "_view_module_version": "1.2.0",
            "_view_name": "LayoutView",
            "align_content": null,
            "align_items": null,
            "align_self": null,
            "border": null,
            "bottom": null,
            "display": null,
            "flex": null,
            "flex_flow": null,
            "grid_area": null,
            "grid_auto_columns": null,
            "grid_auto_flow": null,
            "grid_auto_rows": null,
            "grid_column": null,
            "grid_gap": null,
            "grid_row": null,
            "grid_template_areas": null,
            "grid_template_columns": null,
            "grid_template_rows": null,
            "height": null,
            "justify_content": null,
            "justify_items": null,
            "left": null,
            "margin": null,
            "max_height": null,
            "max_width": null,
            "min_height": null,
            "min_width": null,
            "object_fit": null,
            "object_position": null,
            "order": null,
            "overflow": null,
            "overflow_x": null,
            "overflow_y": null,
            "padding": null,
            "right": null,
            "top": null,
            "visibility": null,
            "width": null
          }
        },
        "16eee6b4e1c642c491f844fb2368c819": {
          "model_module": "@jupyter-widgets/controls",
          "model_name": "DescriptionStyleModel",
          "model_module_version": "1.5.0",
          "state": {
            "_model_module": "@jupyter-widgets/controls",
            "_model_module_version": "1.5.0",
            "_model_name": "DescriptionStyleModel",
            "_view_count": null,
            "_view_module": "@jupyter-widgets/base",
            "_view_module_version": "1.2.0",
            "_view_name": "StyleView",
            "description_width": ""
          }
        },
        "b1ca927cf41747978f7fd300e6392746": {
          "model_module": "@jupyter-widgets/base",
          "model_name": "LayoutModel",
          "model_module_version": "1.2.0",
          "state": {
            "_model_module": "@jupyter-widgets/base",
            "_model_module_version": "1.2.0",
            "_model_name": "LayoutModel",
            "_view_count": null,
            "_view_module": "@jupyter-widgets/base",
            "_view_module_version": "1.2.0",
            "_view_name": "LayoutView",
            "align_content": null,
            "align_items": null,
            "align_self": null,
            "border": null,
            "bottom": null,
            "display": null,
            "flex": null,
            "flex_flow": null,
            "grid_area": null,
            "grid_auto_columns": null,
            "grid_auto_flow": null,
            "grid_auto_rows": null,
            "grid_column": null,
            "grid_gap": null,
            "grid_row": null,
            "grid_template_areas": null,
            "grid_template_columns": null,
            "grid_template_rows": null,
            "height": null,
            "justify_content": null,
            "justify_items": null,
            "left": null,
            "margin": null,
            "max_height": null,
            "max_width": null,
            "min_height": null,
            "min_width": null,
            "object_fit": null,
            "object_position": null,
            "order": null,
            "overflow": null,
            "overflow_x": null,
            "overflow_y": null,
            "padding": null,
            "right": null,
            "top": null,
            "visibility": null,
            "width": null
          }
        },
        "612c53b23dab4b0eb714b5833ad7497c": {
          "model_module": "@jupyter-widgets/controls",
          "model_name": "ProgressStyleModel",
          "model_module_version": "1.5.0",
          "state": {
            "_model_module": "@jupyter-widgets/controls",
            "_model_module_version": "1.5.0",
            "_model_name": "ProgressStyleModel",
            "_view_count": null,
            "_view_module": "@jupyter-widgets/base",
            "_view_module_version": "1.2.0",
            "_view_name": "StyleView",
            "bar_color": null,
            "description_width": ""
          }
        },
        "8295510c2b3c4060abe025580eda0e1c": {
          "model_module": "@jupyter-widgets/base",
          "model_name": "LayoutModel",
          "model_module_version": "1.2.0",
          "state": {
            "_model_module": "@jupyter-widgets/base",
            "_model_module_version": "1.2.0",
            "_model_name": "LayoutModel",
            "_view_count": null,
            "_view_module": "@jupyter-widgets/base",
            "_view_module_version": "1.2.0",
            "_view_name": "LayoutView",
            "align_content": null,
            "align_items": null,
            "align_self": null,
            "border": null,
            "bottom": null,
            "display": null,
            "flex": null,
            "flex_flow": null,
            "grid_area": null,
            "grid_auto_columns": null,
            "grid_auto_flow": null,
            "grid_auto_rows": null,
            "grid_column": null,
            "grid_gap": null,
            "grid_row": null,
            "grid_template_areas": null,
            "grid_template_columns": null,
            "grid_template_rows": null,
            "height": null,
            "justify_content": null,
            "justify_items": null,
            "left": null,
            "margin": null,
            "max_height": null,
            "max_width": null,
            "min_height": null,
            "min_width": null,
            "object_fit": null,
            "object_position": null,
            "order": null,
            "overflow": null,
            "overflow_x": null,
            "overflow_y": null,
            "padding": null,
            "right": null,
            "top": null,
            "visibility": null,
            "width": null
          }
        },
        "4cb34bc707674776a17c20d395e8b490": {
          "model_module": "@jupyter-widgets/controls",
          "model_name": "DescriptionStyleModel",
          "model_module_version": "1.5.0",
          "state": {
            "_model_module": "@jupyter-widgets/controls",
            "_model_module_version": "1.5.0",
            "_model_name": "DescriptionStyleModel",
            "_view_count": null,
            "_view_module": "@jupyter-widgets/base",
            "_view_module_version": "1.2.0",
            "_view_name": "StyleView",
            "description_width": ""
          }
        }
      }
    }
  },
  "cells": [
    {
      "cell_type": "markdown",
      "metadata": {
        "id": "view-in-github",
        "colab_type": "text"
      },
      "source": [
        "<a href=\"https://colab.research.google.com/github/iamatul1214/Pytorch/blob/main/TransferLearning_using_Pytorch.ipynb\" target=\"_parent\"><img src=\"https://colab.research.google.com/assets/colab-badge.svg\" alt=\"Open In Colab\"/></a>"
      ]
    },
    {
      "cell_type": "code",
      "execution_count": 1,
      "metadata": {
        "id": "w_l6nNTR9XCi"
      },
      "outputs": [],
      "source": [
        "import os\n",
        "root = \"/content/drive/MyDrive/CNN using Pytorch\"\n",
        "os.chdir(root)"
      ]
    },
    {
      "cell_type": "code",
      "source": [
        "!pwd"
      ],
      "metadata": {
        "colab": {
          "base_uri": "https://localhost:8080/"
        },
        "id": "7EUrfR-y-awx",
        "outputId": "cfe4df03-1e41-4417-f93f-12c3f32b4c08"
      },
      "execution_count": 2,
      "outputs": [
        {
          "output_type": "stream",
          "name": "stdout",
          "text": [
            "/content/drive/MyDrive/CNN using Pytorch\n"
          ]
        }
      ]
    },
    {
      "cell_type": "code",
      "source": [
        "import os\n",
        "import numpy as np\n",
        "import matplotlib.pyplot as plt\n",
        "import seaborn as sns\n",
        "import pandas as pd\n",
        "import torch\n",
        "import torch.nn as nn\n",
        "from torch.utils.data import DataLoader\n",
        "from torchvision import transforms, datasets, models\n",
        "import torch.nn.functional as F\n",
        "from sklearn.metrics import confusion_matrix, accuracy_score\n",
        "from tqdm import tqdm\n",
        "\n",
        "import urllib.request as request"
      ],
      "metadata": {
        "id": "XnAZJIMA-dNj"
      },
      "execution_count": 53,
      "outputs": []
    },
    {
      "cell_type": "code",
      "source": [
        "class Config:\n",
        "  def __init__(self):\n",
        "    self.ROOT_DATA_DIR = \"hymenoptera_data\"\n",
        "    self.EPOCH = 75\n",
        "    self.BATCH_SIZE = 32\n",
        "    self.LEARNING_RATE = 0.01\n",
        "    self.IMAGE_SIZE = (224, 224)\n",
        "    self.DEVICE = \"cuda\" if torch.cuda.is_available() else \"cpu\"\n",
        "    print(f\"this notebook is using device: {self.DEVICE}\")\n",
        "    self.SEED = 2022\n",
        "\n",
        "  def create_dir(self, dir_path):\n",
        "    os.makedirs(dir_path, exist_ok=True)\n",
        "    print(f\"{dir_path} directory is created\")\n",
        "\n",
        "config = Config()"
      ],
      "metadata": {
        "colab": {
          "base_uri": "https://localhost:8080/"
        },
        "id": "PJ4OOPZD-qRa",
        "outputId": "122c2e75-686a-4a37-e2fd-1f143cc912d9"
      },
      "execution_count": 58,
      "outputs": [
        {
          "output_type": "stream",
          "name": "stdout",
          "text": [
            "this notebook is using device: cpu\n"
          ]
        }
      ]
    },
    {
      "cell_type": "markdown",
      "source": [
        "## Downloading the datset"
      ],
      "metadata": {
        "id": "zfHrnpVg_JSl"
      }
    },
    {
      "cell_type": "code",
      "source": [
        "data_URL = \"https://download.pytorch.org/tutorial/hymenoptera_data.zip\""
      ],
      "metadata": {
        "id": "xKGB2nDq_E_N"
      },
      "execution_count": 5,
      "outputs": []
    },
    {
      "cell_type": "code",
      "source": [
        "config.create_dir(config.ROOT_DATA_DIR)"
      ],
      "metadata": {
        "colab": {
          "base_uri": "https://localhost:8080/"
        },
        "id": "8081Nu9S_ILK",
        "outputId": "0a751848-6b48-4a64-bf81-2e8943137e7f"
      },
      "execution_count": 6,
      "outputs": [
        {
          "output_type": "stream",
          "name": "stdout",
          "text": [
            "hymenoptera_data directory is created\n"
          ]
        }
      ]
    },
    {
      "cell_type": "code",
      "source": [
        "data_zip_file = \"data.zip\"\n",
        "\n",
        "data_file_path = os.path.join(config.ROOT_DATA_DIR, data_zip_file)\n",
        "\n",
        "request.urlretrieve(data_URL, data_file_path)\n"
      ],
      "metadata": {
        "colab": {
          "base_uri": "https://localhost:8080/"
        },
        "id": "q3DgAb5I_9Yr",
        "outputId": "3cfbe14f-d6f8-4b4f-c33b-2330dc05e0fc"
      },
      "execution_count": 7,
      "outputs": [
        {
          "output_type": "execute_result",
          "data": {
            "text/plain": [
              "('hymenoptera_data/data.zip', <http.client.HTTPMessage at 0x7f7d133ae850>)"
            ]
          },
          "metadata": {},
          "execution_count": 7
        }
      ]
    },
    {
      "cell_type": "code",
      "source": [
        "## Unzipping the data.zip\n",
        "from zipfile import ZipFile\n",
        "\n",
        "def unzip_file(source:str, dest:str) -> None:\n",
        "  print(\"extraction started...\")\n",
        "  with ZipFile(source,'r') as zip_f:\n",
        "    zip_f.extractall(dest)\n",
        "  print(f\"extraction completed from {source} to {dest}\")\n"
      ],
      "metadata": {
        "id": "Azda6bY6Aase"
      },
      "execution_count": 8,
      "outputs": []
    },
    {
      "cell_type": "code",
      "source": [
        "unzip_file(data_file_path, config.ROOT_DATA_DIR)"
      ],
      "metadata": {
        "colab": {
          "base_uri": "https://localhost:8080/"
        },
        "id": "gn8Zyv4iBIWd",
        "outputId": "c0d33415-266f-433e-cacc-93d11e8067f2"
      },
      "execution_count": 9,
      "outputs": [
        {
          "output_type": "stream",
          "name": "stdout",
          "text": [
            "extraction started...\n",
            "extraction completed from hymenoptera_data/data.zip to hymenoptera_data\n"
          ]
        }
      ]
    },
    {
      "cell_type": "markdown",
      "source": [
        "### The dataset has been extracted and is automatically seperated for training and testing datasets. Now we need to create data loader. But before that as we know, we use os library to create directory paths, but when we have longer paths we will require to pass the list. So to avoid this we use pathlib library."
      ],
      "metadata": {
        "id": "TuTCoyfrEkHQ"
      }
    },
    {
      "cell_type": "code",
      "source": [
        "from pathlib import Path"
      ],
      "metadata": {
        "id": "i9sX8PN7BcGG"
      },
      "execution_count": 10,
      "outputs": []
    },
    {
      "cell_type": "code",
      "source": [
        "Path(\"hymenoptera_data/hymenoptera_data/train\")   ## This library will create path() in any OS"
      ],
      "metadata": {
        "colab": {
          "base_uri": "https://localhost:8080/"
        },
        "id": "mxkXJBh4HogI",
        "outputId": "fc96597c-5277-48d6-9430-f7873e3c1d28"
      },
      "execution_count": 11,
      "outputs": [
        {
          "output_type": "execute_result",
          "data": {
            "text/plain": [
              "PosixPath('hymenoptera_data/hymenoptera_data/train')"
            ]
          },
          "metadata": {},
          "execution_count": 11
        }
      ]
    },
    {
      "cell_type": "code",
      "source": [
        "train_path = Path(\"hymenoptera_data/hymenoptera_data/train\")\n",
        "test_path = Path(\"hymenoptera_data/hymenoptera_data/val\")"
      ],
      "metadata": {
        "id": "TWibSvW3H3jF"
      },
      "execution_count": 12,
      "outputs": []
    },
    {
      "cell_type": "markdown",
      "source": [
        "### Another best practice is to normalize the images as well, the way we used to normalize structured data. For this we do following\n",
        "\n",
        "#### We normalize the each channel present on the image, for eg if channel as 1 channel (i.e it is gray image) then we calculate its mean, and standard deviation.\n",
        "#### If an image has 3 channels then we perform this three times"
      ],
      "metadata": {
        "id": "A-zptAsYIa_G"
      }
    },
    {
      "cell_type": "markdown",
      "source": [
        "mean of the each channel of the image\n",
        "\n",
        "for 28, 28 img size\n",
        "mean = sum(value of the pixels)/784 \n",
        "\n",
        "std = (data - mean) / std"
      ],
      "metadata": {
        "id": "Npd3noY0Iqsm"
      }
    },
    {
      "cell_type": "code",
      "source": [
        "## Lets assume the mean and standard deviation for our images which are in RGB are as follows\n",
        "mean = torch.tensor([0.5,0.5,0.5])\n",
        "std = torch.tensor([0.5,0.5,0.5])"
      ],
      "metadata": {
        "id": "KUGkUoPqIrfw"
      },
      "execution_count": 13,
      "outputs": []
    },
    {
      "cell_type": "code",
      "source": [
        "## Let's do some transformation of our images, which include resizing the image, rotating the image, normalize the image and etc.\n",
        "\n",
        "train_transforms = transforms.Compose([\n",
        "                                       transforms.Resize(config.IMAGE_SIZE),\n",
        "                                       transforms.RandomRotation(degrees=20),\n",
        "                                       transforms.ToTensor(),\n",
        "                                       transforms.Normalize(mean, std)\n",
        "])\n",
        "\n",
        "test_transforms = transforms.Compose([\n",
        "                                       transforms.Resize(config.IMAGE_SIZE),\n",
        "                                       transforms.ToTensor(),   \n",
        "                                       transforms.Normalize(mean, std)\n",
        "])\n",
        "\n",
        "## We don't want to rotate our testing images, we just want testing images to be classified without rotation so that our model can perform better"
      ],
      "metadata": {
        "id": "TmVVS9HOMB8G"
      },
      "execution_count": 14,
      "outputs": []
    },
    {
      "cell_type": "code",
      "source": [
        "## Now let's load the training and testing images from the folders, unlike in previous fashionmnist and mnist dataset, which were inbuilt.\n",
        "\n",
        "train_data = datasets.ImageFolder(root = train_path, transform=train_transforms)\n",
        "test_data = datasets.ImageFolder(root = test_path, transform=test_transforms)\n",
        "\n",
        "## Please note that, datasets is the class of pytorch which has Imagefolder named method, which takes root of image folder and transform as paramter."
      ],
      "metadata": {
        "id": "8Z2RXQwmMmqr"
      },
      "execution_count": 15,
      "outputs": []
    },
    {
      "cell_type": "code",
      "source": [
        "## Let's see what train_data stores\n",
        "train_data"
      ],
      "metadata": {
        "colab": {
          "base_uri": "https://localhost:8080/"
        },
        "id": "2iSNoIapOhR4",
        "outputId": "1ec8781e-d22d-4785-f9fa-38188bdc715e"
      },
      "execution_count": 16,
      "outputs": [
        {
          "output_type": "execute_result",
          "data": {
            "text/plain": [
              "Dataset ImageFolder\n",
              "    Number of datapoints: 244\n",
              "    Root location: hymenoptera_data/hymenoptera_data/train\n",
              "    StandardTransform\n",
              "Transform: Compose(\n",
              "               Resize(size=(224, 224), interpolation=bilinear, max_size=None, antialias=None)\n",
              "               RandomRotation(degrees=[-20.0, 20.0], interpolation=nearest, expand=False, fill=0)\n",
              "               ToTensor()\n",
              "               Normalize(mean=tensor([0.5000, 0.5000, 0.5000]), std=tensor([0.5000, 0.5000, 0.5000]))\n",
              "           )"
            ]
          },
          "metadata": {},
          "execution_count": 16
        }
      ]
    },
    {
      "cell_type": "code",
      "source": [
        "test_data"
      ],
      "metadata": {
        "colab": {
          "base_uri": "https://localhost:8080/"
        },
        "id": "VGEFkIt7Okst",
        "outputId": "9aaf1a8b-42a0-4f9c-d328-c0987312943e"
      },
      "execution_count": 17,
      "outputs": [
        {
          "output_type": "execute_result",
          "data": {
            "text/plain": [
              "Dataset ImageFolder\n",
              "    Number of datapoints: 153\n",
              "    Root location: hymenoptera_data/hymenoptera_data/val\n",
              "    StandardTransform\n",
              "Transform: Compose(\n",
              "               Resize(size=(224, 224), interpolation=bilinear, max_size=None, antialias=None)\n",
              "               ToTensor()\n",
              "               Normalize(mean=tensor([0.5000, 0.5000, 0.5000]), std=tensor([0.5000, 0.5000, 0.5000]))\n",
              "           )"
            ]
          },
          "metadata": {},
          "execution_count": 17
        }
      ]
    },
    {
      "cell_type": "code",
      "source": [
        "train_data.class_to_idx  \n",
        " ## pytorch automatically uses class_t-_idx dictionary to create the labels for the classes we need to classify. \n",
        " ## Here it automatically took bees folder on 1 and ants folder on 0."
      ],
      "metadata": {
        "colab": {
          "base_uri": "https://localhost:8080/"
        },
        "id": "nZZ_hyG9Oqw_",
        "outputId": "1e119491-8669-41e3-c23f-ae63f3e14fda"
      },
      "execution_count": 18,
      "outputs": [
        {
          "output_type": "execute_result",
          "data": {
            "text/plain": [
              "{'ants': 0, 'bees': 1}"
            ]
          },
          "metadata": {},
          "execution_count": 18
        }
      ]
    },
    {
      "cell_type": "code",
      "source": [
        "## Let's create the label map\n",
        "label_map = train_data.class_to_idx  \n",
        "label_map"
      ],
      "metadata": {
        "colab": {
          "base_uri": "https://localhost:8080/"
        },
        "id": "hl7Xq2nKOtj9",
        "outputId": "1c5cc72c-2997-4034-ba8f-f01e2ff00714"
      },
      "execution_count": 19,
      "outputs": [
        {
          "output_type": "execute_result",
          "data": {
            "text/plain": [
              "{'ants': 0, 'bees': 1}"
            ]
          },
          "metadata": {},
          "execution_count": 19
        }
      ]
    },
    {
      "cell_type": "code",
      "source": [
        "## Let's load the data into batches\n",
        "train_loader = DataLoader(train_data, shuffle = True, batch_size=config.BATCH_SIZE)\n",
        "test_loader = DataLoader(test_data, shuffle = False, batch_size=config.BATCH_SIZE)"
      ],
      "metadata": {
        "id": "6VIGMcmFPLoc"
      },
      "execution_count": 20,
      "outputs": []
    },
    {
      "cell_type": "code",
      "source": [
        "data = next(iter(train_loader))\n",
        "data"
      ],
      "metadata": {
        "colab": {
          "base_uri": "https://localhost:8080/"
        },
        "id": "FHjC_EUES3Ul",
        "outputId": "9fc1632b-128a-42f4-9c1a-6589a47c52b6"
      },
      "execution_count": 21,
      "outputs": [
        {
          "output_type": "execute_result",
          "data": {
            "text/plain": [
              "[tensor([[[[-1., -1., -1.,  ..., -1., -1., -1.],\n",
              "           [-1., -1., -1.,  ..., -1., -1., -1.],\n",
              "           [-1., -1., -1.,  ..., -1., -1., -1.],\n",
              "           ...,\n",
              "           [-1., -1., -1.,  ..., -1., -1., -1.],\n",
              "           [-1., -1., -1.,  ..., -1., -1., -1.],\n",
              "           [-1., -1., -1.,  ..., -1., -1., -1.]],\n",
              " \n",
              "          [[-1., -1., -1.,  ..., -1., -1., -1.],\n",
              "           [-1., -1., -1.,  ..., -1., -1., -1.],\n",
              "           [-1., -1., -1.,  ..., -1., -1., -1.],\n",
              "           ...,\n",
              "           [-1., -1., -1.,  ..., -1., -1., -1.],\n",
              "           [-1., -1., -1.,  ..., -1., -1., -1.],\n",
              "           [-1., -1., -1.,  ..., -1., -1., -1.]],\n",
              " \n",
              "          [[-1., -1., -1.,  ..., -1., -1., -1.],\n",
              "           [-1., -1., -1.,  ..., -1., -1., -1.],\n",
              "           [-1., -1., -1.,  ..., -1., -1., -1.],\n",
              "           ...,\n",
              "           [-1., -1., -1.,  ..., -1., -1., -1.],\n",
              "           [-1., -1., -1.,  ..., -1., -1., -1.],\n",
              "           [-1., -1., -1.,  ..., -1., -1., -1.]]],\n",
              " \n",
              " \n",
              "         [[[-1., -1., -1.,  ..., -1., -1., -1.],\n",
              "           [-1., -1., -1.,  ..., -1., -1., -1.],\n",
              "           [-1., -1., -1.,  ..., -1., -1., -1.],\n",
              "           ...,\n",
              "           [-1., -1., -1.,  ..., -1., -1., -1.],\n",
              "           [-1., -1., -1.,  ..., -1., -1., -1.],\n",
              "           [-1., -1., -1.,  ..., -1., -1., -1.]],\n",
              " \n",
              "          [[-1., -1., -1.,  ..., -1., -1., -1.],\n",
              "           [-1., -1., -1.,  ..., -1., -1., -1.],\n",
              "           [-1., -1., -1.,  ..., -1., -1., -1.],\n",
              "           ...,\n",
              "           [-1., -1., -1.,  ..., -1., -1., -1.],\n",
              "           [-1., -1., -1.,  ..., -1., -1., -1.],\n",
              "           [-1., -1., -1.,  ..., -1., -1., -1.]],\n",
              " \n",
              "          [[-1., -1., -1.,  ..., -1., -1., -1.],\n",
              "           [-1., -1., -1.,  ..., -1., -1., -1.],\n",
              "           [-1., -1., -1.,  ..., -1., -1., -1.],\n",
              "           ...,\n",
              "           [-1., -1., -1.,  ..., -1., -1., -1.],\n",
              "           [-1., -1., -1.,  ..., -1., -1., -1.],\n",
              "           [-1., -1., -1.,  ..., -1., -1., -1.]]],\n",
              " \n",
              " \n",
              "         [[[-1., -1., -1.,  ..., -1., -1., -1.],\n",
              "           [-1., -1., -1.,  ..., -1., -1., -1.],\n",
              "           [-1., -1., -1.,  ..., -1., -1., -1.],\n",
              "           ...,\n",
              "           [-1., -1., -1.,  ..., -1., -1., -1.],\n",
              "           [-1., -1., -1.,  ..., -1., -1., -1.],\n",
              "           [-1., -1., -1.,  ..., -1., -1., -1.]],\n",
              " \n",
              "          [[-1., -1., -1.,  ..., -1., -1., -1.],\n",
              "           [-1., -1., -1.,  ..., -1., -1., -1.],\n",
              "           [-1., -1., -1.,  ..., -1., -1., -1.],\n",
              "           ...,\n",
              "           [-1., -1., -1.,  ..., -1., -1., -1.],\n",
              "           [-1., -1., -1.,  ..., -1., -1., -1.],\n",
              "           [-1., -1., -1.,  ..., -1., -1., -1.]],\n",
              " \n",
              "          [[-1., -1., -1.,  ..., -1., -1., -1.],\n",
              "           [-1., -1., -1.,  ..., -1., -1., -1.],\n",
              "           [-1., -1., -1.,  ..., -1., -1., -1.],\n",
              "           ...,\n",
              "           [-1., -1., -1.,  ..., -1., -1., -1.],\n",
              "           [-1., -1., -1.,  ..., -1., -1., -1.],\n",
              "           [-1., -1., -1.,  ..., -1., -1., -1.]]],\n",
              " \n",
              " \n",
              "         ...,\n",
              " \n",
              " \n",
              "         [[[-1., -1., -1.,  ..., -1., -1., -1.],\n",
              "           [-1., -1., -1.,  ..., -1., -1., -1.],\n",
              "           [-1., -1., -1.,  ..., -1., -1., -1.],\n",
              "           ...,\n",
              "           [-1., -1., -1.,  ..., -1., -1., -1.],\n",
              "           [-1., -1., -1.,  ..., -1., -1., -1.],\n",
              "           [-1., -1., -1.,  ..., -1., -1., -1.]],\n",
              " \n",
              "          [[-1., -1., -1.,  ..., -1., -1., -1.],\n",
              "           [-1., -1., -1.,  ..., -1., -1., -1.],\n",
              "           [-1., -1., -1.,  ..., -1., -1., -1.],\n",
              "           ...,\n",
              "           [-1., -1., -1.,  ..., -1., -1., -1.],\n",
              "           [-1., -1., -1.,  ..., -1., -1., -1.],\n",
              "           [-1., -1., -1.,  ..., -1., -1., -1.]],\n",
              " \n",
              "          [[-1., -1., -1.,  ..., -1., -1., -1.],\n",
              "           [-1., -1., -1.,  ..., -1., -1., -1.],\n",
              "           [-1., -1., -1.,  ..., -1., -1., -1.],\n",
              "           ...,\n",
              "           [-1., -1., -1.,  ..., -1., -1., -1.],\n",
              "           [-1., -1., -1.,  ..., -1., -1., -1.],\n",
              "           [-1., -1., -1.,  ..., -1., -1., -1.]]],\n",
              " \n",
              " \n",
              "         [[[-1., -1., -1.,  ..., -1., -1., -1.],\n",
              "           [-1., -1., -1.,  ..., -1., -1., -1.],\n",
              "           [-1., -1., -1.,  ..., -1., -1., -1.],\n",
              "           ...,\n",
              "           [-1., -1., -1.,  ..., -1., -1., -1.],\n",
              "           [-1., -1., -1.,  ..., -1., -1., -1.],\n",
              "           [-1., -1., -1.,  ..., -1., -1., -1.]],\n",
              " \n",
              "          [[-1., -1., -1.,  ..., -1., -1., -1.],\n",
              "           [-1., -1., -1.,  ..., -1., -1., -1.],\n",
              "           [-1., -1., -1.,  ..., -1., -1., -1.],\n",
              "           ...,\n",
              "           [-1., -1., -1.,  ..., -1., -1., -1.],\n",
              "           [-1., -1., -1.,  ..., -1., -1., -1.],\n",
              "           [-1., -1., -1.,  ..., -1., -1., -1.]],\n",
              " \n",
              "          [[-1., -1., -1.,  ..., -1., -1., -1.],\n",
              "           [-1., -1., -1.,  ..., -1., -1., -1.],\n",
              "           [-1., -1., -1.,  ..., -1., -1., -1.],\n",
              "           ...,\n",
              "           [-1., -1., -1.,  ..., -1., -1., -1.],\n",
              "           [-1., -1., -1.,  ..., -1., -1., -1.],\n",
              "           [-1., -1., -1.,  ..., -1., -1., -1.]]],\n",
              " \n",
              " \n",
              "         [[[-1., -1., -1.,  ..., -1., -1., -1.],\n",
              "           [-1., -1., -1.,  ..., -1., -1., -1.],\n",
              "           [-1., -1., -1.,  ..., -1., -1., -1.],\n",
              "           ...,\n",
              "           [-1., -1., -1.,  ..., -1., -1., -1.],\n",
              "           [-1., -1., -1.,  ..., -1., -1., -1.],\n",
              "           [-1., -1., -1.,  ..., -1., -1., -1.]],\n",
              " \n",
              "          [[-1., -1., -1.,  ..., -1., -1., -1.],\n",
              "           [-1., -1., -1.,  ..., -1., -1., -1.],\n",
              "           [-1., -1., -1.,  ..., -1., -1., -1.],\n",
              "           ...,\n",
              "           [-1., -1., -1.,  ..., -1., -1., -1.],\n",
              "           [-1., -1., -1.,  ..., -1., -1., -1.],\n",
              "           [-1., -1., -1.,  ..., -1., -1., -1.]],\n",
              " \n",
              "          [[-1., -1., -1.,  ..., -1., -1., -1.],\n",
              "           [-1., -1., -1.,  ..., -1., -1., -1.],\n",
              "           [-1., -1., -1.,  ..., -1., -1., -1.],\n",
              "           ...,\n",
              "           [-1., -1., -1.,  ..., -1., -1., -1.],\n",
              "           [-1., -1., -1.,  ..., -1., -1., -1.],\n",
              "           [-1., -1., -1.,  ..., -1., -1., -1.]]]]),\n",
              " tensor([1, 0, 0, 1, 1, 1, 1, 0, 1, 0, 0, 1, 0, 0, 1, 1, 0, 0, 0, 0, 1, 0, 1, 0,\n",
              "         0, 0, 0, 1, 1, 0, 0, 0])]"
            ]
          },
          "metadata": {},
          "execution_count": 21
        }
      ]
    },
    {
      "cell_type": "code",
      "source": [
        "len(data)    ## Even it has two things one is image and other labels"
      ],
      "metadata": {
        "colab": {
          "base_uri": "https://localhost:8080/"
        },
        "id": "bjKW3Z5zS6Yq",
        "outputId": "461cd9d3-89dc-4c24-de99-8c8ee3b62b86"
      },
      "execution_count": 22,
      "outputs": [
        {
          "output_type": "execute_result",
          "data": {
            "text/plain": [
              "2"
            ]
          },
          "metadata": {},
          "execution_count": 22
        }
      ]
    },
    {
      "cell_type": "code",
      "source": [
        "images, label = data\n",
        "images.shape   ## It is colored image"
      ],
      "metadata": {
        "colab": {
          "base_uri": "https://localhost:8080/"
        },
        "id": "yzNsvVvCTDqM",
        "outputId": "fe91112c-19c9-478b-b067-2cd75cccbb61"
      },
      "execution_count": 23,
      "outputs": [
        {
          "output_type": "execute_result",
          "data": {
            "text/plain": [
              "torch.Size([32, 3, 224, 224])"
            ]
          },
          "metadata": {},
          "execution_count": 23
        }
      ]
    },
    {
      "cell_type": "code",
      "source": [
        "label.shape"
      ],
      "metadata": {
        "colab": {
          "base_uri": "https://localhost:8080/"
        },
        "id": "e6zwmTIMTThP",
        "outputId": "e1d9d7f3-06d0-4040-8dba-9b6d372678fb"
      },
      "execution_count": 24,
      "outputs": [
        {
          "output_type": "execute_result",
          "data": {
            "text/plain": [
              "torch.Size([32])"
            ]
          },
          "metadata": {},
          "execution_count": 24
        }
      ]
    },
    {
      "cell_type": "code",
      "source": [
        "img = images[11]\n",
        "img.shape"
      ],
      "metadata": {
        "colab": {
          "base_uri": "https://localhost:8080/"
        },
        "id": "f-mRMik4TXWC",
        "outputId": "63afb2ab-63f9-4c77-81fc-8fdce7d88dd5"
      },
      "execution_count": 25,
      "outputs": [
        {
          "output_type": "execute_result",
          "data": {
            "text/plain": [
              "torch.Size([3, 224, 224])"
            ]
          },
          "metadata": {},
          "execution_count": 25
        }
      ]
    },
    {
      "cell_type": "code",
      "source": [
        "plt.imshow(img.permute(1,2,0))"
      ],
      "metadata": {
        "colab": {
          "base_uri": "https://localhost:8080/",
          "height": 304
        },
        "id": "HzB-zrDDTc6L",
        "outputId": "3f7e1fdd-ec25-4aa2-ab28-38a0ab8fd4dc"
      },
      "execution_count": 26,
      "outputs": [
        {
          "output_type": "stream",
          "name": "stderr",
          "text": [
            "Clipping input data to the valid range for imshow with RGB data ([0..1] for floats or [0..255] for integers).\n"
          ]
        },
        {
          "output_type": "execute_result",
          "data": {
            "text/plain": [
              "<matplotlib.image.AxesImage at 0x7f7d12e59cd0>"
            ]
          },
          "metadata": {},
          "execution_count": 26
        },
        {
          "output_type": "display_data",
          "data": {
            "text/plain": [
              "<Figure size 432x288 with 1 Axes>"
            ],
            "image/png": "[encoded data removed]"
          },
          "metadata": {
            "needs_background": "light"
          }
        }
      ]
    },
    {
      "cell_type": "code",
      "source": [
        "permute_size = img.permute(1,2,0)   ## squeeze doesn't work with rgb channeled images hence we use permute()\n",
        "print(permute_size.shape)\n",
        "\n",
        "# permute is used to replace the indexing of the numbers present. we can see that in output\n",
        "permute_size = img.permute(1,0,2)\n",
        "print(permute_size.shape)"
      ],
      "metadata": {
        "colab": {
          "base_uri": "https://localhost:8080/"
        },
        "id": "00gkz0WDT1hh",
        "outputId": "4e10c61c-f408-4a2b-f012-b09b9c3a06c7"
      },
      "execution_count": 27,
      "outputs": [
        {
          "output_type": "stream",
          "name": "stdout",
          "text": [
            "torch.Size([224, 224, 3])\n",
            "torch.Size([224, 3, 224])\n"
          ]
        }
      ]
    },
    {
      "cell_type": "markdown",
      "source": [
        "## Download a pre trained model "
      ],
      "metadata": {
        "id": "hJnxqKn3WB-h"
      }
    },
    {
      "cell_type": "code",
      "source": [
        "model = models.alexnet(pretrained=True)   ## alexnet is an architecture which came in 2014, it is trained on 1000 classes"
      ],
      "metadata": {
        "id": "JL8-7z_XVgO8",
        "colab": {
          "base_uri": "https://localhost:8080/",
          "height": 66,
          "referenced_widgets": [
            "f005f246873e4501b86be065e8e04363",
            "5baca3a8547f4bc58e431feb7c8bdd96",
            "2266600606d14d9d8fc3a238fcc5db00",
            "fb8d8adef4ce44d1b1b80d2937705b3e",
            "a1e96d0827de418c8607963ee56e4175",
            "5c6b40b2f8124eb689d6747634cebfbb",
            "16eee6b4e1c642c491f844fb2368c819",
            "b1ca927cf41747978f7fd300e6392746",
            "612c53b23dab4b0eb714b5833ad7497c",
            "8295510c2b3c4060abe025580eda0e1c",
            "4cb34bc707674776a17c20d395e8b490"
          ]
        },
        "outputId": "84421d28-f82b-4c6c-8783-f2e1d0a4587f"
      },
      "execution_count": 28,
      "outputs": [
        {
          "output_type": "stream",
          "name": "stderr",
          "text": [
            "Downloading: \"https://download.pytorch.org/models/alexnet-owt-7be5be79.pth\" to /root/.cache/torch/hub/checkpoints/alexnet-owt-7be5be79.pth\n"
          ]
        },
        {
          "output_type": "display_data",
          "data": {
            "text/plain": [
              "  0%|          | 0.00/233M [00:00<?, ?B/s]"
            ],
            "application/vnd.jupyter.widget-view+json": {
              "version_major": 2,
              "version_minor": 0,
              "model_id": "f005f246873e4501b86be065e8e04363"
            }
          },
          "metadata": {}
        }
      ]
    },
    {
      "cell_type": "code",
      "source": [
        "## Let's see the alexnet model arch\n",
        "print(model)"
      ],
      "metadata": {
        "id": "TOs2xE9vKNqq",
        "outputId": "8709502d-c008-4b61-bce4-b2b75262585e",
        "colab": {
          "base_uri": "https://localhost:8080/"
        }
      },
      "execution_count": 29,
      "outputs": [
        {
          "output_type": "stream",
          "name": "stdout",
          "text": [
            "AlexNet(\n",
            "  (features): Sequential(\n",
            "    (0): Conv2d(3, 64, kernel_size=(11, 11), stride=(4, 4), padding=(2, 2))\n",
            "    (1): ReLU(inplace=True)\n",
            "    (2): MaxPool2d(kernel_size=3, stride=2, padding=0, dilation=1, ceil_mode=False)\n",
            "    (3): Conv2d(64, 192, kernel_size=(5, 5), stride=(1, 1), padding=(2, 2))\n",
            "    (4): ReLU(inplace=True)\n",
            "    (5): MaxPool2d(kernel_size=3, stride=2, padding=0, dilation=1, ceil_mode=False)\n",
            "    (6): Conv2d(192, 384, kernel_size=(3, 3), stride=(1, 1), padding=(1, 1))\n",
            "    (7): ReLU(inplace=True)\n",
            "    (8): Conv2d(384, 256, kernel_size=(3, 3), stride=(1, 1), padding=(1, 1))\n",
            "    (9): ReLU(inplace=True)\n",
            "    (10): Conv2d(256, 256, kernel_size=(3, 3), stride=(1, 1), padding=(1, 1))\n",
            "    (11): ReLU(inplace=True)\n",
            "    (12): MaxPool2d(kernel_size=3, stride=2, padding=0, dilation=1, ceil_mode=False)\n",
            "  )\n",
            "  (avgpool): AdaptiveAvgPool2d(output_size=(6, 6))\n",
            "  (classifier): Sequential(\n",
            "    (0): Dropout(p=0.5, inplace=False)\n",
            "    (1): Linear(in_features=9216, out_features=4096, bias=True)\n",
            "    (2): ReLU(inplace=True)\n",
            "    (3): Dropout(p=0.5, inplace=False)\n",
            "    (4): Linear(in_features=4096, out_features=4096, bias=True)\n",
            "    (5): ReLU(inplace=True)\n",
            "    (6): Linear(in_features=4096, out_features=1000, bias=True)\n",
            "  )\n",
            ")\n"
          ]
        }
      ]
    },
    {
      "cell_type": "markdown",
      "source": [
        "### Let's count the number of trainable parameters in alexnet"
      ],
      "metadata": {
        "id": "ZGV2SxrYKvCu"
      }
    },
    {
      "cell_type": "code",
      "source": [
        "def count_params(model):\n",
        "  model_params= {\"Modules\":list(), \"Parameters\":list()}\n",
        "  total={\"trainable\":0, \"non-trainable\":0}\n",
        "\n",
        "  for name, parameters in model.named_parameters():\n",
        "    param = parameters.numel()\n",
        "\n",
        "    if not parameters.requires_grad:\n",
        "      total['non-trainable'] += param\n",
        "      continue\n",
        "    model_params[\"Modules\"].append(name)\n",
        "    model_params[\"Parameters\"].append(param)\n",
        "    total[\"trainable\"] += param\n",
        "\n",
        "  df=pd.DataFrame(model_params)\n",
        "  df=df.style.set_caption(f\" total parameters of the model : {total}\")\n",
        "  return df\n",
        "\n",
        "count_params(model)"
      ],
      "metadata": {
        "id": "SeUUg-l9KTeo",
        "outputId": "f8940f72-cff7-4490-89d4-ea4f01d036f2",
        "colab": {
          "base_uri": "https://localhost:8080/",
          "height": 586
        }
      },
      "execution_count": 30,
      "outputs": [
        {
          "output_type": "execute_result",
          "data": {
            "text/plain": [
              "<pandas.io.formats.style.Styler at 0x7f7d1100af90>"
            ],
            "text/html": [
              "<style type=\"text/css\">\n",
              "</style>\n",
              "<table id=\"T_a9929_\" class=\"dataframe\">\n",
              "  <caption> total parameters of the model : {'trainable': 61100840, 'non-trainable': 0}</caption>\n",
              "  <thead>\n",
              "    <tr>\n",
              "      <th class=\"blank level0\" >&nbsp;</th>\n",
              "      <th class=\"col_heading level0 col0\" >Modules</th>\n",
              "      <th class=\"col_heading level0 col1\" >Parameters</th>\n",
              "    </tr>\n",
              "  </thead>\n",
              "  <tbody>\n",
              "    <tr>\n",
              "      <th id=\"T_a9929_level0_row0\" class=\"row_heading level0 row0\" >0</th>\n",
              "      <td id=\"T_a9929_row0_col0\" class=\"data row0 col0\" >features.0.weight</td>\n",
              "      <td id=\"T_a9929_row0_col1\" class=\"data row0 col1\" >23232</td>\n",
              "    </tr>\n",
              "    <tr>\n",
              "      <th id=\"T_a9929_level0_row1\" class=\"row_heading level0 row1\" >1</th>\n",
              "      <td id=\"T_a9929_row1_col0\" class=\"data row1 col0\" >features.0.bias</td>\n",
              "      <td id=\"T_a9929_row1_col1\" class=\"data row1 col1\" >64</td>\n",
              "    </tr>\n",
              "    <tr>\n",
              "      <th id=\"T_a9929_level0_row2\" class=\"row_heading level0 row2\" >2</th>\n",
              "      <td id=\"T_a9929_row2_col0\" class=\"data row2 col0\" >features.3.weight</td>\n",
              "      <td id=\"T_a9929_row2_col1\" class=\"data row2 col1\" >307200</td>\n",
              "    </tr>\n",
              "    <tr>\n",
              "      <th id=\"T_a9929_level0_row3\" class=\"row_heading level0 row3\" >3</th>\n",
              "      <td id=\"T_a9929_row3_col0\" class=\"data row3 col0\" >features.3.bias</td>\n",
              "      <td id=\"T_a9929_row3_col1\" class=\"data row3 col1\" >192</td>\n",
              "    </tr>\n",
              "    <tr>\n",
              "      <th id=\"T_a9929_level0_row4\" class=\"row_heading level0 row4\" >4</th>\n",
              "      <td id=\"T_a9929_row4_col0\" class=\"data row4 col0\" >features.6.weight</td>\n",
              "      <td id=\"T_a9929_row4_col1\" class=\"data row4 col1\" >663552</td>\n",
              "    </tr>\n",
              "    <tr>\n",
              "      <th id=\"T_a9929_level0_row5\" class=\"row_heading level0 row5\" >5</th>\n",
              "      <td id=\"T_a9929_row5_col0\" class=\"data row5 col0\" >features.6.bias</td>\n",
              "      <td id=\"T_a9929_row5_col1\" class=\"data row5 col1\" >384</td>\n",
              "    </tr>\n",
              "    <tr>\n",
              "      <th id=\"T_a9929_level0_row6\" class=\"row_heading level0 row6\" >6</th>\n",
              "      <td id=\"T_a9929_row6_col0\" class=\"data row6 col0\" >features.8.weight</td>\n",
              "      <td id=\"T_a9929_row6_col1\" class=\"data row6 col1\" >884736</td>\n",
              "    </tr>\n",
              "    <tr>\n",
              "      <th id=\"T_a9929_level0_row7\" class=\"row_heading level0 row7\" >7</th>\n",
              "      <td id=\"T_a9929_row7_col0\" class=\"data row7 col0\" >features.8.bias</td>\n",
              "      <td id=\"T_a9929_row7_col1\" class=\"data row7 col1\" >256</td>\n",
              "    </tr>\n",
              "    <tr>\n",
              "      <th id=\"T_a9929_level0_row8\" class=\"row_heading level0 row8\" >8</th>\n",
              "      <td id=\"T_a9929_row8_col0\" class=\"data row8 col0\" >features.10.weight</td>\n",
              "      <td id=\"T_a9929_row8_col1\" class=\"data row8 col1\" >589824</td>\n",
              "    </tr>\n",
              "    <tr>\n",
              "      <th id=\"T_a9929_level0_row9\" class=\"row_heading level0 row9\" >9</th>\n",
              "      <td id=\"T_a9929_row9_col0\" class=\"data row9 col0\" >features.10.bias</td>\n",
              "      <td id=\"T_a9929_row9_col1\" class=\"data row9 col1\" >256</td>\n",
              "    </tr>\n",
              "    <tr>\n",
              "      <th id=\"T_a9929_level0_row10\" class=\"row_heading level0 row10\" >10</th>\n",
              "      <td id=\"T_a9929_row10_col0\" class=\"data row10 col0\" >classifier.1.weight</td>\n",
              "      <td id=\"T_a9929_row10_col1\" class=\"data row10 col1\" >37748736</td>\n",
              "    </tr>\n",
              "    <tr>\n",
              "      <th id=\"T_a9929_level0_row11\" class=\"row_heading level0 row11\" >11</th>\n",
              "      <td id=\"T_a9929_row11_col0\" class=\"data row11 col0\" >classifier.1.bias</td>\n",
              "      <td id=\"T_a9929_row11_col1\" class=\"data row11 col1\" >4096</td>\n",
              "    </tr>\n",
              "    <tr>\n",
              "      <th id=\"T_a9929_level0_row12\" class=\"row_heading level0 row12\" >12</th>\n",
              "      <td id=\"T_a9929_row12_col0\" class=\"data row12 col0\" >classifier.4.weight</td>\n",
              "      <td id=\"T_a9929_row12_col1\" class=\"data row12 col1\" >16777216</td>\n",
              "    </tr>\n",
              "    <tr>\n",
              "      <th id=\"T_a9929_level0_row13\" class=\"row_heading level0 row13\" >13</th>\n",
              "      <td id=\"T_a9929_row13_col0\" class=\"data row13 col0\" >classifier.4.bias</td>\n",
              "      <td id=\"T_a9929_row13_col1\" class=\"data row13 col1\" >4096</td>\n",
              "    </tr>\n",
              "    <tr>\n",
              "      <th id=\"T_a9929_level0_row14\" class=\"row_heading level0 row14\" >14</th>\n",
              "      <td id=\"T_a9929_row14_col0\" class=\"data row14 col0\" >classifier.6.weight</td>\n",
              "      <td id=\"T_a9929_row14_col1\" class=\"data row14 col1\" >4096000</td>\n",
              "    </tr>\n",
              "    <tr>\n",
              "      <th id=\"T_a9929_level0_row15\" class=\"row_heading level0 row15\" >15</th>\n",
              "      <td id=\"T_a9929_row15_col0\" class=\"data row15 col0\" >classifier.6.bias</td>\n",
              "      <td id=\"T_a9929_row15_col1\" class=\"data row15 col1\" >1000</td>\n",
              "    </tr>\n",
              "  </tbody>\n",
              "</table>\n"
            ]
          },
          "metadata": {},
          "execution_count": 30
        }
      ]
    },
    {
      "cell_type": "markdown",
      "source": [
        "### So as we saw in above output the no of trainable paramteres are lot, and it will take a lot of time if we start training it from scratch. So that's why we will freeze some layers and just train the last layers."
      ],
      "metadata": {
        "id": "bfxTMmYZK3DZ"
      }
    },
    {
      "cell_type": "code",
      "source": [
        "## Let's freeze all the parameters and layers\n",
        "\n",
        "for parameters in model.parameters():\n",
        "  parameters.requires_grad = False"
      ],
      "metadata": {
        "id": "xIYpgNKhK0j-"
      },
      "execution_count": 31,
      "outputs": []
    },
    {
      "cell_type": "code",
      "source": [
        "count_params(model)    ## Now all the paramters are non trainable"
      ],
      "metadata": {
        "id": "PQ50Uy0kL0bj",
        "outputId": "68fa5c34-a302-47bd-8810-b2d4a8421a3b",
        "colab": {
          "base_uri": "https://localhost:8080/",
          "height": 102
        }
      },
      "execution_count": 33,
      "outputs": [
        {
          "output_type": "execute_result",
          "data": {
            "text/plain": [
              "<pandas.io.formats.style.Styler at 0x7f7d10499550>"
            ],
            "text/html": [
              "<style type=\"text/css\">\n",
              "</style>\n",
              "<table id=\"T_b8edb_\" class=\"dataframe\">\n",
              "  <caption> total parameters of the model : {'trainable': 0, 'non-trainable': 61100840}</caption>\n",
              "  <thead>\n",
              "    <tr>\n",
              "      <th class=\"blank level0\" >&nbsp;</th>\n",
              "      <th class=\"col_heading level0 col0\" >Modules</th>\n",
              "      <th class=\"col_heading level0 col1\" >Parameters</th>\n",
              "    </tr>\n",
              "  </thead>\n",
              "  <tbody>\n",
              "  </tbody>\n",
              "</table>\n"
            ]
          },
          "metadata": {},
          "execution_count": 33
        }
      ]
    },
    {
      "cell_type": "code",
      "source": [
        "from torch.nn.modules.dropout import Dropout\n",
        "## We will create changes in the classifier layers which is responsible for classifying.\n",
        "\n",
        "model.classifier = nn.Sequential(\n",
        "    nn.Linear(in_features=9216, out_features=100, bias=True),  ## we changed out_features to be 100\n",
        "    nn.ReLU(inplace = True),\n",
        "    nn.Dropout(p=0.5, inplace=False),                      ## During training, randomly zeroes some of the elements of the input tensor with probability p using samples from a Bernoulli distribution. Each channel will be zeroed out independently on every forward call.\n",
        "    nn.Linear(in_features = 100, out_features=2, bias=True)   ## We will finally have 2 features out because we hve only two classification to make\n",
        ")\n"
      ],
      "metadata": {
        "id": "miR-TB6vL2-B"
      },
      "execution_count": 37,
      "outputs": []
    },
    {
      "cell_type": "code",
      "source": [
        "model.classifier"
      ],
      "metadata": {
        "id": "tc4AUfqWNZcx",
        "outputId": "05e819c4-b6bb-4659-f1b0-1ab984a4589c",
        "colab": {
          "base_uri": "https://localhost:8080/"
        }
      },
      "execution_count": 36,
      "outputs": [
        {
          "output_type": "execute_result",
          "data": {
            "text/plain": [
              "Sequential(\n",
              "  (0): Linear(in_features=9216, out_features=100, bias=True)\n",
              "  (1): ReLU(inplace=True)\n",
              "  (2): Dropout(p=0.5, inplace=False)\n",
              "  (3): Linear(in_features=100, out_features=2, bias=True)\n",
              ")"
            ]
          },
          "metadata": {},
          "execution_count": 36
        }
      ]
    },
    {
      "cell_type": "code",
      "source": [
        "## Now let's count the parameters\n",
        "count_params(model)"
      ],
      "metadata": {
        "id": "B2B80dHDNbuz",
        "outputId": "787c08a4-ad60-41a5-bfd6-d2777dd72247",
        "colab": {
          "base_uri": "https://localhost:8080/",
          "height": 227
        }
      },
      "execution_count": 39,
      "outputs": [
        {
          "output_type": "execute_result",
          "data": {
            "text/plain": [
              "<pandas.io.formats.style.Styler at 0x7f7d0e61f1d0>"
            ],
            "text/html": [
              "<style type=\"text/css\">\n",
              "</style>\n",
              "<table id=\"T_00a08_\" class=\"dataframe\">\n",
              "  <caption> total parameters of the model : {'trainable': 921902, 'non-trainable': 2469696}</caption>\n",
              "  <thead>\n",
              "    <tr>\n",
              "      <th class=\"blank level0\" >&nbsp;</th>\n",
              "      <th class=\"col_heading level0 col0\" >Modules</th>\n",
              "      <th class=\"col_heading level0 col1\" >Parameters</th>\n",
              "    </tr>\n",
              "  </thead>\n",
              "  <tbody>\n",
              "    <tr>\n",
              "      <th id=\"T_00a08_level0_row0\" class=\"row_heading level0 row0\" >0</th>\n",
              "      <td id=\"T_00a08_row0_col0\" class=\"data row0 col0\" >classifier.0.weight</td>\n",
              "      <td id=\"T_00a08_row0_col1\" class=\"data row0 col1\" >921600</td>\n",
              "    </tr>\n",
              "    <tr>\n",
              "      <th id=\"T_00a08_level0_row1\" class=\"row_heading level0 row1\" >1</th>\n",
              "      <td id=\"T_00a08_row1_col0\" class=\"data row1 col0\" >classifier.0.bias</td>\n",
              "      <td id=\"T_00a08_row1_col1\" class=\"data row1 col1\" >100</td>\n",
              "    </tr>\n",
              "    <tr>\n",
              "      <th id=\"T_00a08_level0_row2\" class=\"row_heading level0 row2\" >2</th>\n",
              "      <td id=\"T_00a08_row2_col0\" class=\"data row2 col0\" >classifier.3.weight</td>\n",
              "      <td id=\"T_00a08_row2_col1\" class=\"data row2 col1\" >200</td>\n",
              "    </tr>\n",
              "    <tr>\n",
              "      <th id=\"T_00a08_level0_row3\" class=\"row_heading level0 row3\" >3</th>\n",
              "      <td id=\"T_00a08_row3_col0\" class=\"data row3 col0\" >classifier.3.bias</td>\n",
              "      <td id=\"T_00a08_row3_col1\" class=\"data row3 col1\" >2</td>\n",
              "    </tr>\n",
              "  </tbody>\n",
              "</table>\n"
            ]
          },
          "metadata": {},
          "execution_count": 39
        }
      ]
    },
    {
      "cell_type": "code",
      "source": [
        "criterion = nn.CrossEntropyLoss()   ## defining our loss function\n",
        "optimizer = torch.optim.Adam(model.parameters(), lr = config.LEARNING_RATE)"
      ],
      "metadata": {
        "id": "iYAjp_mROQoI"
      },
      "execution_count": 40,
      "outputs": []
    },
    {
      "cell_type": "code",
      "source": [
        "train_loss = []\n",
        "for epoch in range(config.EPOCH):\n",
        "  with tqdm(train_loader) as tqdm_epoch:\n",
        "    for images, label in tqdm_epoch:\n",
        "      tqdm_epoch.set_description(f\"EPOCH {epoch + 1}/{config.EPOCH}\")\n",
        "\n",
        "      images = images.to(config.DEVICE)\n",
        "      label = label.to(config.DEVICE)\n",
        "\n",
        "      ## forward pass\n",
        "\n",
        "      output =  model(images)\n",
        "      loss = criterion(output, label)\n",
        "\n",
        "\n",
        "      ## backward pass\n",
        "      optimizer.zero_grad()\n",
        "      loss.backward()\n",
        "      optimizer.step\n",
        "\n",
        "      train_loss.append(loss.item())\n",
        "      tqdm_epoch.set_postfix(loss = loss.item())"
      ],
      "metadata": {
        "id": "7_0SPRpDPBo0",
        "outputId": "77a1b537-017f-41ab-c242-948d0c9f7870",
        "colab": {
          "base_uri": "https://localhost:8080/"
        }
      },
      "execution_count": 60,
      "outputs": [
        {
          "output_type": "stream",
          "name": "stderr",
          "text": [
            "EPOCH 1/75: 100%|██████████| 8/8 [00:09<00:00,  1.20s/it, loss=0.771]\n",
            "EPOCH 2/75: 100%|██████████| 8/8 [00:17<00:00,  2.18s/it, loss=0.774]\n",
            "EPOCH 3/75: 100%|██████████| 8/8 [00:11<00:00,  1.41s/it, loss=0.784]\n",
            "EPOCH 4/75: 100%|██████████| 8/8 [00:09<00:00,  1.17s/it, loss=0.676]\n",
            "EPOCH 5/75: 100%|██████████| 8/8 [00:09<00:00,  1.15s/it, loss=0.8]\n",
            "EPOCH 6/75: 100%|██████████| 8/8 [00:09<00:00,  1.15s/it, loss=0.791]\n",
            "EPOCH 7/75: 100%|██████████| 8/8 [00:09<00:00,  1.15s/it, loss=0.811]\n",
            "EPOCH 8/75: 100%|██████████| 8/8 [00:09<00:00,  1.15s/it, loss=0.599]\n",
            "EPOCH 9/75: 100%|██████████| 8/8 [00:09<00:00,  1.16s/it, loss=0.712]\n",
            "EPOCH 10/75: 100%|██████████| 8/8 [00:09<00:00,  1.15s/it, loss=0.782]\n",
            "EPOCH 11/75: 100%|██████████| 8/8 [00:09<00:00,  1.15s/it, loss=0.698]\n",
            "EPOCH 12/75: 100%|██████████| 8/8 [00:09<00:00,  1.16s/it, loss=0.752]\n",
            "EPOCH 13/75: 100%|██████████| 8/8 [00:09<00:00,  1.15s/it, loss=0.668]\n",
            "EPOCH 14/75: 100%|██████████| 8/8 [00:10<00:00,  1.28s/it, loss=0.663]\n",
            "EPOCH 15/75: 100%|██████████| 8/8 [00:09<00:00,  1.17s/it, loss=0.801]\n",
            "EPOCH 16/75: 100%|██████████| 8/8 [00:09<00:00,  1.17s/it, loss=0.849]\n",
            "EPOCH 17/75: 100%|██████████| 8/8 [00:11<00:00,  1.40s/it, loss=0.697]\n",
            "EPOCH 18/75: 100%|██████████| 8/8 [00:09<00:00,  1.16s/it, loss=0.889]\n",
            "EPOCH 19/75: 100%|██████████| 8/8 [00:09<00:00,  1.16s/it, loss=0.697]\n",
            "EPOCH 20/75: 100%|██████████| 8/8 [00:09<00:00,  1.15s/it, loss=0.778]\n",
            "EPOCH 21/75: 100%|██████████| 8/8 [00:09<00:00,  1.16s/it, loss=0.788]\n",
            "EPOCH 22/75: 100%|██████████| 8/8 [00:13<00:00,  1.72s/it, loss=0.727]\n",
            "EPOCH 23/75: 100%|██████████| 8/8 [00:10<00:00,  1.27s/it, loss=0.646]\n",
            "EPOCH 24/75: 100%|██████████| 8/8 [00:14<00:00,  1.85s/it, loss=0.751]\n",
            "EPOCH 25/75: 100%|██████████| 8/8 [00:10<00:00,  1.34s/it, loss=0.778]\n",
            "EPOCH 26/75: 100%|██████████| 8/8 [00:13<00:00,  1.74s/it, loss=0.776]\n",
            "EPOCH 27/75: 100%|██████████| 8/8 [00:13<00:00,  1.71s/it, loss=0.755]\n",
            "EPOCH 28/75: 100%|██████████| 8/8 [00:10<00:00,  1.33s/it, loss=0.766]\n",
            "EPOCH 29/75: 100%|██████████| 8/8 [00:09<00:00,  1.14s/it, loss=0.802]\n",
            "EPOCH 30/75: 100%|██████████| 8/8 [00:09<00:00,  1.15s/it, loss=0.651]\n",
            "EPOCH 31/75: 100%|██████████| 8/8 [00:09<00:00,  1.22s/it, loss=0.716]\n",
            "EPOCH 32/75: 100%|██████████| 8/8 [00:11<00:00,  1.46s/it, loss=0.655]\n",
            "EPOCH 33/75: 100%|██████████| 8/8 [00:10<00:00,  1.26s/it, loss=0.96]\n",
            "EPOCH 34/75: 100%|██████████| 8/8 [00:09<00:00,  1.18s/it, loss=0.699]\n",
            "EPOCH 35/75: 100%|██████████| 8/8 [00:10<00:00,  1.31s/it, loss=0.887]\n",
            "EPOCH 36/75: 100%|██████████| 8/8 [00:09<00:00,  1.15s/it, loss=0.743]\n",
            "EPOCH 37/75: 100%|██████████| 8/8 [00:09<00:00,  1.15s/it, loss=0.808]\n",
            "EPOCH 38/75: 100%|██████████| 8/8 [00:09<00:00,  1.16s/it, loss=0.813]\n",
            "EPOCH 39/75: 100%|██████████| 8/8 [00:09<00:00,  1.16s/it, loss=0.779]\n",
            "EPOCH 40/75: 100%|██████████| 8/8 [00:09<00:00,  1.16s/it, loss=0.718]\n",
            "EPOCH 41/75: 100%|██████████| 8/8 [00:09<00:00,  1.15s/it, loss=0.725]\n",
            "EPOCH 42/75: 100%|██████████| 8/8 [00:09<00:00,  1.16s/it, loss=0.881]\n",
            "EPOCH 43/75: 100%|██████████| 8/8 [00:09<00:00,  1.16s/it, loss=0.693]\n",
            "EPOCH 44/75: 100%|██████████| 8/8 [00:10<00:00,  1.26s/it, loss=0.735]\n",
            "EPOCH 45/75: 100%|██████████| 8/8 [00:09<00:00,  1.17s/it, loss=0.609]\n",
            "EPOCH 46/75: 100%|██████████| 8/8 [00:09<00:00,  1.23s/it, loss=0.737]\n",
            "EPOCH 47/75: 100%|██████████| 8/8 [00:09<00:00,  1.16s/it, loss=0.897]\n",
            "EPOCH 48/75: 100%|██████████| 8/8 [00:09<00:00,  1.16s/it, loss=0.68]\n",
            "EPOCH 49/75: 100%|██████████| 8/8 [00:10<00:00,  1.28s/it, loss=0.764]\n",
            "EPOCH 50/75: 100%|██████████| 8/8 [00:09<00:00,  1.15s/it, loss=0.65]\n",
            "EPOCH 51/75: 100%|██████████| 8/8 [00:09<00:00,  1.15s/it, loss=0.78]\n",
            "EPOCH 52/75: 100%|██████████| 8/8 [00:09<00:00,  1.15s/it, loss=0.754]\n",
            "EPOCH 53/75: 100%|██████████| 8/8 [00:09<00:00,  1.16s/it, loss=0.796]\n",
            "EPOCH 54/75: 100%|██████████| 8/8 [00:09<00:00,  1.16s/it, loss=0.861]\n",
            "EPOCH 55/75: 100%|██████████| 8/8 [00:09<00:00,  1.16s/it, loss=0.797]\n",
            "EPOCH 56/75: 100%|██████████| 8/8 [00:09<00:00,  1.16s/it, loss=0.654]\n",
            "EPOCH 57/75: 100%|██████████| 8/8 [00:12<00:00,  1.62s/it, loss=0.722]\n",
            "EPOCH 58/75: 100%|██████████| 8/8 [00:17<00:00,  2.15s/it, loss=0.678]\n",
            "EPOCH 59/75: 100%|██████████| 8/8 [00:15<00:00,  1.98s/it, loss=0.599]\n",
            "EPOCH 60/75: 100%|██████████| 8/8 [00:10<00:00,  1.32s/it, loss=0.89]\n",
            "EPOCH 61/75: 100%|██████████| 8/8 [00:09<00:00,  1.15s/it, loss=0.672]\n",
            "EPOCH 62/75: 100%|██████████| 8/8 [00:09<00:00,  1.15s/it, loss=0.911]\n",
            "EPOCH 63/75: 100%|██████████| 8/8 [00:09<00:00,  1.15s/it, loss=0.622]\n",
            "EPOCH 64/75: 100%|██████████| 8/8 [00:09<00:00,  1.15s/it, loss=0.688]\n",
            "EPOCH 65/75: 100%|██████████| 8/8 [00:09<00:00,  1.16s/it, loss=0.836]\n",
            "EPOCH 66/75: 100%|██████████| 8/8 [00:09<00:00,  1.15s/it, loss=0.773]\n",
            "EPOCH 67/75: 100%|██████████| 8/8 [00:09<00:00,  1.14s/it, loss=0.727]\n",
            "EPOCH 68/75: 100%|██████████| 8/8 [00:09<00:00,  1.15s/it, loss=0.8]\n",
            "EPOCH 69/75: 100%|██████████| 8/8 [00:09<00:00,  1.20s/it, loss=0.678]\n",
            "EPOCH 70/75: 100%|██████████| 8/8 [00:09<00:00,  1.16s/it, loss=0.642]\n",
            "EPOCH 71/75: 100%|██████████| 8/8 [00:09<00:00,  1.22s/it, loss=0.765]\n",
            "EPOCH 72/75: 100%|██████████| 8/8 [00:09<00:00,  1.15s/it, loss=0.898]\n",
            "EPOCH 73/75: 100%|██████████| 8/8 [00:09<00:00,  1.15s/it, loss=0.81]\n",
            "EPOCH 74/75: 100%|██████████| 8/8 [00:09<00:00,  1.16s/it, loss=0.7]\n",
            "EPOCH 75/75: 100%|██████████| 8/8 [00:09<00:00,  1.16s/it, loss=0.843]\n"
          ]
        }
      ]
    },
    {
      "cell_type": "markdown",
      "source": [
        "## Evaluating the model\n"
      ],
      "metadata": {
        "id": "_Z_jb7_rQ7ag"
      }
    },
    {
      "cell_type": "code",
      "source": [
        "pred = np.array([])\n",
        "target = np.array([])\n",
        "\n",
        "with torch.no_grad():    ## because we are only doing forward pass to predict and not backward pass, hence no need of gradient calculation\n",
        "  for batch, data in enumerate(train_loader): # Since, enumerator returns the index and data. Hence, here index is the batch and data contains labels and images\n",
        "    images = data[0].to(config.DEVICE)     # converting the images for GPU\n",
        "    labels = data[1].to(config.DEVICE)\n",
        "\n",
        "    y_pred = model(images)\n",
        "\n",
        "    pred = np.concatenate((pred, torch.argmax(y_pred,1).cpu().numpy()))   ## we selected the probability of the highest class prediction using argmax, converted it into cpu as pred is a numpy array and then converted it into numpy()\n",
        "    target = np.concatenate((target, labels.cpu().numpy()))"
      ],
      "metadata": {
        "id": "SG2rcSXKQe7J"
      },
      "execution_count": 61,
      "outputs": []
    },
    {
      "cell_type": "code",
      "source": [
        "## Let's print the confusion matrix\n",
        "cm = confusion_matrix(target, pred)\n",
        "cm"
      ],
      "metadata": {
        "id": "ezMjcbCnRR7_",
        "outputId": "c0bd054c-f610-4a5d-a889-b65c02dd467a",
        "colab": {
          "base_uri": "https://localhost:8080/"
        }
      },
      "execution_count": 62,
      "outputs": [
        {
          "output_type": "execute_result",
          "data": {
            "text/plain": [
              "array([[32, 91],\n",
              "       [49, 72]])"
            ]
          },
          "metadata": {},
          "execution_count": 62
        }
      ]
    },
    {
      "cell_type": "code",
      "source": [
        "label_map"
      ],
      "metadata": {
        "id": "mrbs9iTVSWzk",
        "outputId": "beb29a91-0b9f-4e31-a628-25cac55c075e",
        "colab": {
          "base_uri": "https://localhost:8080/"
        }
      },
      "execution_count": 63,
      "outputs": [
        {
          "output_type": "execute_result",
          "data": {
            "text/plain": [
              "{'ants': 0, 'bees': 1}"
            ]
          },
          "metadata": {},
          "execution_count": 63
        }
      ]
    },
    {
      "cell_type": "code",
      "source": [
        "## Let's reverse the label maps\n",
        "converted_label_map = {value:key for key, value in label_map.items()}\n",
        "converted_label_map"
      ],
      "metadata": {
        "id": "cAysdNIlRqnT",
        "outputId": "b9017249-1195-4d74-f9dd-7ff7a7a06cf5",
        "colab": {
          "base_uri": "https://localhost:8080/"
        }
      },
      "execution_count": 64,
      "outputs": [
        {
          "output_type": "execute_result",
          "data": {
            "text/plain": [
              "{0: 'ants', 1: 'bees'}"
            ]
          },
          "metadata": {},
          "execution_count": 64
        }
      ]
    },
    {
      "cell_type": "code",
      "source": [
        "## Let's plot the confusion matrix\n",
        "plt.figure(figsize=(5,5))\n",
        "plt.title(\"Confusion matrix of Fashionmnist data\")\n",
        "sns.heatmap(cm, annot = True,fmt='d', xticklabels=converted_label_map.values(), yticklabels=converted_label_map.values(), cbar = False)"
      ],
      "metadata": {
        "id": "sYHMRCKERVrH",
        "outputId": "2a2518ea-8a8e-4ff2-f09a-193f5b16fa87",
        "colab": {
          "base_uri": "https://localhost:8080/",
          "height": 354
        }
      },
      "execution_count": 65,
      "outputs": [
        {
          "output_type": "execute_result",
          "data": {
            "text/plain": [
              "<matplotlib.axes._subplots.AxesSubplot at 0x7f7d0c67d190>"
            ]
          },
          "metadata": {},
          "execution_count": 65
        },
        {
          "output_type": "display_data",
          "data": {
            "text/plain": [
              "<Figure size 360x360 with 1 Axes>"
            ],
            "image/png": "[encoded data removed]"
          },
          "metadata": {
            "needs_background": "light"
          }
        }
      ]
    },
    {
      "cell_type": "code",
      "source": [
        "score =  accuracy_score(target, pred)\n",
        "score"
      ],
      "metadata": {
        "id": "Unv0k5J7Rmqw",
        "outputId": "40b2cd2f-a2b5-404a-b205-7f20f136f9dd",
        "colab": {
          "base_uri": "https://localhost:8080/"
        }
      },
      "execution_count": 66,
      "outputs": [
        {
          "output_type": "execute_result",
          "data": {
            "text/plain": [
              "0.4262295081967213"
            ]
          },
          "metadata": {},
          "execution_count": 66
        }
      ]
    },
    {
      "cell_type": "markdown",
      "source": [
        "## predict on our model"
      ],
      "metadata": {
        "id": "IfguJKRCUZ-8"
      }
    },
    {
      "cell_type": "code",
      "source": [
        "data = next(iter(test_loader))    #As equvilent to writing--->  i[0] for i in test_data_loader\n",
        "data     "
      ],
      "metadata": {
        "id": "9Rggr9D4Sq-U",
        "outputId": "22567fac-473f-4f3e-86ec-2a8ce618a07d",
        "colab": {
          "base_uri": "https://localhost:8080/"
        }
      },
      "execution_count": 67,
      "outputs": [
        {
          "output_type": "execute_result",
          "data": {
            "text/plain": [
              "[tensor([[[[ 0.6078,  0.5765,  0.7176,  ...,  0.4275,  0.3490,  0.2784],\n",
              "           [ 0.4667,  0.5373,  0.6078,  ...,  0.4353,  0.4353,  0.3176],\n",
              "           [ 0.5294,  0.5529,  0.4902,  ...,  0.3569,  0.3569,  0.3569],\n",
              "           ...,\n",
              "           [ 0.0980,  0.3490,  0.6941,  ...,  0.2392,  0.2863,  0.6078],\n",
              "           [ 0.2863,  0.4588,  0.6157,  ...,  0.0667,  0.1059,  0.1922],\n",
              "           [ 0.2706,  0.3961,  0.5294,  ...,  0.0275,  0.2549,  0.0902]],\n",
              " \n",
              "          [[ 0.9216,  0.8275,  0.8980,  ...,  0.7412,  0.5686,  0.4667],\n",
              "           [ 0.8353,  0.8745,  0.8980,  ...,  0.7490,  0.6314,  0.4902],\n",
              "           [ 0.8196,  0.8588,  0.7961,  ...,  0.6706,  0.6157,  0.6157],\n",
              "           ...,\n",
              "           [ 0.3255,  0.4510,  0.8588,  ...,  0.3569,  0.4196,  0.7255],\n",
              "           [ 0.5686,  0.6000,  0.8118,  ...,  0.1843,  0.2392,  0.2549],\n",
              "           [ 0.5059,  0.6314,  0.7961,  ...,  0.1294,  0.4196,  0.1529]],\n",
              " \n",
              "          [[ 0.9843,  0.8902,  0.9216,  ...,  0.7961,  0.6549,  0.4275],\n",
              "           [ 0.8667,  0.9059,  0.9216,  ...,  0.7725,  0.7412,  0.5216],\n",
              "           [ 0.8667,  0.8902,  0.8667,  ...,  0.6863,  0.7176,  0.6863],\n",
              "           ...,\n",
              "           [ 0.3961,  0.5922,  0.8902,  ..., -0.1059,  0.2157,  0.5608],\n",
              "           [ 0.6235,  0.7333,  0.8353,  ..., -0.2941, -0.2235, -0.1765],\n",
              "           [ 0.6078,  0.7647,  0.8275,  ..., -0.3412, -0.1137, -0.3098]]],\n",
              " \n",
              " \n",
              "         [[[ 0.2078,  0.1922,  0.1686,  ..., -0.0667, -0.0588, -0.0353],\n",
              "           [ 0.1922,  0.1765,  0.1529,  ..., -0.0510, -0.0510, -0.0431],\n",
              "           [ 0.1922,  0.1765,  0.1529,  ..., -0.0275, -0.0431, -0.0431],\n",
              "           ...,\n",
              "           [-0.2392, -0.2235, -0.2157,  ...,  0.0824,  0.0902,  0.0902],\n",
              "           [-0.1922, -0.1765, -0.1765,  ...,  0.0745,  0.0980,  0.1137],\n",
              "           [-0.1922, -0.1765, -0.1608,  ...,  0.0588,  0.0824,  0.1059]],\n",
              " \n",
              "          [[ 0.0667,  0.0667,  0.0510,  ..., -0.1451, -0.1373, -0.1137],\n",
              "           [ 0.0510,  0.0510,  0.0275,  ..., -0.1451, -0.1294, -0.1216],\n",
              "           [ 0.0510,  0.0431,  0.0118,  ..., -0.1294, -0.1294, -0.1216],\n",
              "           ...,\n",
              "           [-0.3490, -0.3333, -0.3333,  ..., -0.0980, -0.0824, -0.0745],\n",
              "           [-0.3020, -0.3020, -0.3020,  ..., -0.0902, -0.0902, -0.0902],\n",
              "           [-0.2941, -0.3176, -0.2941,  ..., -0.0902, -0.0902, -0.0824]],\n",
              " \n",
              "          [[-0.0431, -0.0510, -0.0588,  ..., -0.2157, -0.2078, -0.1843],\n",
              "           [-0.0588, -0.0745, -0.0902,  ..., -0.2157, -0.2000, -0.1922],\n",
              "           [-0.0667, -0.0824, -0.1137,  ..., -0.2000, -0.2000, -0.1922],\n",
              "           ...,\n",
              "           [-0.4353, -0.4353, -0.4353,  ..., -0.2392, -0.2314, -0.2549],\n",
              "           [-0.3961, -0.4118, -0.4196,  ..., -0.2549, -0.2627, -0.2549],\n",
              "           [-0.3882, -0.4118, -0.4118,  ..., -0.2784, -0.2706, -0.2627]]],\n",
              " \n",
              " \n",
              "         [[[ 0.2941,  0.3255,  0.3176,  ...,  0.3882,  0.4039,  0.3961],\n",
              "           [ 0.3098,  0.3333,  0.3255,  ...,  0.3882,  0.4039,  0.4118],\n",
              "           [ 0.3569,  0.3490,  0.3333,  ...,  0.4039,  0.3961,  0.4118],\n",
              "           ...,\n",
              "           [ 1.0000,  0.9922,  0.9922,  ...,  0.4196,  0.6392,  0.6549],\n",
              "           [ 1.0000,  0.9922,  0.9922,  ...,  0.4824,  0.5843,  0.5922],\n",
              "           [ 1.0000,  1.0000,  0.9922,  ...,  0.5294,  0.5529,  0.5608]],\n",
              " \n",
              "          [[-0.0745, -0.0353, -0.0353,  ...,  0.0510,  0.0588,  0.0667],\n",
              "           [-0.0431, -0.0275, -0.0275,  ...,  0.0510,  0.0588,  0.0588],\n",
              "           [-0.0275, -0.0275, -0.0353,  ...,  0.0667,  0.0667,  0.0824],\n",
              "           ...,\n",
              "           [-0.0275, -0.0275, -0.0353,  ...,  0.0588,  0.2863,  0.3020],\n",
              "           [-0.0275, -0.0353, -0.0353,  ...,  0.0431,  0.1765,  0.1451],\n",
              "           [-0.0353, -0.0353, -0.0275,  ...,  0.1216,  0.1294,  0.0980]],\n",
              " \n",
              "          [[-0.0118,  0.0118, -0.0039,  ...,  0.1059,  0.0902,  0.1059],\n",
              "           [ 0.0196,  0.0353,  0.0118,  ...,  0.1137,  0.1137,  0.1294],\n",
              "           [ 0.0588,  0.0588,  0.0431,  ...,  0.1294,  0.1137,  0.1373],\n",
              "           ...,\n",
              "           [ 0.0824,  0.0824,  0.0745,  ...,  0.0745,  0.1608,  0.3804],\n",
              "           [ 0.0824,  0.0745,  0.0745,  ...,  0.0902,  0.1137,  0.1686],\n",
              "           [ 0.0667,  0.0745,  0.0667,  ...,  0.0431, -0.0275, -0.0510]]],\n",
              " \n",
              " \n",
              "         ...,\n",
              " \n",
              " \n",
              "         [[[-0.7020, -0.7333, -0.7333,  ...,  0.9294,  0.6784,  0.0039],\n",
              "           [-0.7255, -0.7176, -0.7255,  ...,  0.9294,  0.5922, -0.1137],\n",
              "           [-0.7176, -0.7490, -0.7412,  ...,  0.9137,  0.5059, -0.2157],\n",
              "           ...,\n",
              "           [ 0.8039,  0.8039,  0.8039,  ..., -0.5294, -0.5373, -0.5059],\n",
              "           [ 0.8039,  0.8118,  0.8118,  ..., -0.5137, -0.5294, -0.4902],\n",
              "           [ 0.8039,  0.8196,  0.8118,  ..., -0.5059, -0.5373, -0.4902]],\n",
              " \n",
              "          [[-0.4980, -0.5137, -0.5294,  ..., -0.4824, -0.6863, -0.9451],\n",
              "           [-0.5059, -0.5137, -0.5373,  ..., -0.4980, -0.7098, -0.9608],\n",
              "           [-0.5216, -0.5373, -0.5451,  ..., -0.5137, -0.7569, -0.9686],\n",
              "           ...,\n",
              "           [-0.5765, -0.5686, -0.5529,  ..., -0.2627, -0.2471, -0.2471],\n",
              "           [-0.5686, -0.5608, -0.5608,  ..., -0.2549, -0.2471, -0.2471],\n",
              "           [-0.5686, -0.5529, -0.5608,  ..., -0.2392, -0.2471, -0.2549]],\n",
              " \n",
              "          [[-0.9686, -0.9686, -0.9843,  ..., -0.9686, -0.9451, -0.9529],\n",
              "           [-0.9686, -0.9686, -0.9843,  ..., -0.9686, -0.9451, -0.9686],\n",
              "           [-0.9765, -0.9843, -0.9843,  ..., -0.9608, -0.9216, -0.9529],\n",
              "           ...,\n",
              "           [-0.9765, -0.9922, -0.9922,  ..., -0.2471, -0.2392, -0.2314],\n",
              "           [-0.9843, -0.9922, -0.9922,  ..., -0.2235, -0.2235, -0.2157],\n",
              "           [-0.9922, -0.9843, -0.9843,  ..., -0.2000, -0.2235, -0.2000]]],\n",
              " \n",
              " \n",
              "         [[[ 0.0980,  0.1216,  0.1294,  ...,  0.1451,  0.2392,  0.2471],\n",
              "           [ 0.0745,  0.0902,  0.0824,  ...,  0.1686,  0.2471,  0.2392],\n",
              "           [-0.0745, -0.0824,  0.0039,  ...,  0.2392,  0.2941,  0.2784],\n",
              "           ...,\n",
              "           [-0.2157, -0.2941, -0.2941,  ...,  0.4431,  0.5137,  0.4588],\n",
              "           [-0.2627, -0.3020, -0.2784,  ...,  0.4824,  0.5294,  0.4745],\n",
              "           [-0.2471, -0.2863, -0.2471,  ...,  0.4275,  0.4353,  0.4039]],\n",
              " \n",
              "          [[ 0.0980,  0.1216,  0.1451,  ...,  0.1765,  0.2549,  0.2706],\n",
              "           [ 0.1216,  0.1373,  0.1451,  ...,  0.2000,  0.2627,  0.2549],\n",
              "           [ 0.0667,  0.0510,  0.1216,  ...,  0.2706,  0.3098,  0.2863],\n",
              "           ...,\n",
              "           [-0.2235, -0.2784, -0.2627,  ...,  0.3961,  0.4824,  0.4353],\n",
              "           [-0.2314, -0.2627, -0.2392,  ...,  0.4196,  0.4980,  0.4588],\n",
              "           [-0.2314, -0.2471, -0.2157,  ...,  0.3412,  0.4039,  0.3961]],\n",
              " \n",
              "          [[-0.7333, -0.7176, -0.7098,  ..., -0.8667, -0.8118, -0.8039],\n",
              "           [-0.6941, -0.6863, -0.7098,  ..., -0.8275, -0.7647, -0.7647],\n",
              "           [-0.8196, -0.8353, -0.7725,  ..., -0.7569, -0.7098, -0.7176],\n",
              "           ...,\n",
              "           [-0.9843, -0.9922, -0.9843,  ..., -0.4275, -0.3569, -0.4275],\n",
              "           [-0.9686, -0.9922, -0.9686,  ..., -0.4118, -0.3255, -0.4039],\n",
              "           [-0.9529, -0.9843, -0.9373,  ..., -0.4902, -0.4196, -0.4667]]],\n",
              " \n",
              " \n",
              "         [[[-0.4667, -0.3804, -0.3882,  ..., -0.4980, -0.3490, -0.3020],\n",
              "           [-0.5451, -0.4275, -0.3020,  ..., -0.4745, -0.2314, -0.4667],\n",
              "           [-0.4196, -0.2784, -0.3961,  ..., -0.3333, -0.2235, -0.3882],\n",
              "           ...,\n",
              "           [ 0.6549,  0.5686,  0.5686,  ...,  0.5529,  0.5765,  0.5451],\n",
              "           [ 0.5608,  0.5765,  0.5373,  ...,  0.5608,  0.5529,  0.5608],\n",
              "           [ 0.5294,  0.5137,  0.5451,  ...,  0.4431,  0.4902,  0.5059]],\n",
              " \n",
              "          [[-0.2941, -0.2235, -0.3176,  ..., -0.3412, -0.2941, -0.3255],\n",
              "           [-0.3804, -0.2784, -0.2000,  ..., -0.3255, -0.2627, -0.4824],\n",
              "           [-0.2235, -0.1294, -0.2235,  ..., -0.2000, -0.2627, -0.3333],\n",
              "           ...,\n",
              "           [ 0.6157,  0.5294,  0.5373,  ...,  0.5137,  0.5451,  0.5216],\n",
              "           [ 0.5059,  0.5529,  0.4902,  ...,  0.5529,  0.5059,  0.5216],\n",
              "           [ 0.5059,  0.4588,  0.4902,  ...,  0.3176,  0.4745,  0.4980]],\n",
              " \n",
              "          [[-0.7490, -0.6235, -0.6784,  ..., -0.6941, -0.4980, -0.6549],\n",
              "           [-0.7725, -0.6863, -0.5843,  ..., -0.6235, -0.4980, -0.7725],\n",
              "           [-0.6627, -0.5686, -0.6549,  ..., -0.4980, -0.5608, -0.7490],\n",
              "           ...,\n",
              "           [ 0.6863,  0.5843,  0.5608,  ...,  0.5608,  0.5843,  0.5686],\n",
              "           [ 0.5529,  0.5843,  0.5451,  ...,  0.5843,  0.5451,  0.5686],\n",
              "           [ 0.5529,  0.5059,  0.5216,  ...,  0.3804,  0.4980,  0.5294]]]]),\n",
              " tensor([0, 0, 0, 0, 0, 0, 0, 0, 0, 0, 0, 0, 0, 0, 0, 0, 0, 0, 0, 0, 0, 0, 0, 0,\n",
              "         0, 0, 0, 0, 0, 0, 0, 0])]"
            ]
          },
          "metadata": {},
          "execution_count": 67
        }
      ]
    },
    {
      "cell_type": "code",
      "source": [
        "## Let;s display any of the random image \n",
        "img = images[3]\n",
        "img"
      ],
      "metadata": {
        "id": "APzpw3WQUnry",
        "outputId": "0880239d-66d4-48e2-dce7-06a25063238f",
        "colab": {
          "base_uri": "https://localhost:8080/"
        }
      },
      "execution_count": 68,
      "outputs": [
        {
          "output_type": "execute_result",
          "data": {
            "text/plain": [
              "tensor([[[-1., -1., -1.,  ..., -1., -1., -1.],\n",
              "         [-1., -1., -1.,  ..., -1., -1., -1.],\n",
              "         [-1., -1., -1.,  ..., -1., -1., -1.],\n",
              "         ...,\n",
              "         [-1., -1., -1.,  ..., -1., -1., -1.],\n",
              "         [-1., -1., -1.,  ..., -1., -1., -1.],\n",
              "         [-1., -1., -1.,  ..., -1., -1., -1.]],\n",
              "\n",
              "        [[-1., -1., -1.,  ..., -1., -1., -1.],\n",
              "         [-1., -1., -1.,  ..., -1., -1., -1.],\n",
              "         [-1., -1., -1.,  ..., -1., -1., -1.],\n",
              "         ...,\n",
              "         [-1., -1., -1.,  ..., -1., -1., -1.],\n",
              "         [-1., -1., -1.,  ..., -1., -1., -1.],\n",
              "         [-1., -1., -1.,  ..., -1., -1., -1.]],\n",
              "\n",
              "        [[-1., -1., -1.,  ..., -1., -1., -1.],\n",
              "         [-1., -1., -1.,  ..., -1., -1., -1.],\n",
              "         [-1., -1., -1.,  ..., -1., -1., -1.],\n",
              "         ...,\n",
              "         [-1., -1., -1.,  ..., -1., -1., -1.],\n",
              "         [-1., -1., -1.,  ..., -1., -1., -1.],\n",
              "         [-1., -1., -1.,  ..., -1., -1., -1.]]])"
            ]
          },
          "metadata": {},
          "execution_count": 68
        }
      ]
    },
    {
      "cell_type": "code",
      "source": [
        "print(img.permute(1,2,0).shape)\n",
        "plt.imshow(img.permute(1,2,0))"
      ],
      "metadata": {
        "id": "GJXvqlBOUnu9",
        "outputId": "5686dd15-5cf3-498f-bd83-7fc84190b9c4",
        "colab": {
          "base_uri": "https://localhost:8080/",
          "height": 321
        }
      },
      "execution_count": 69,
      "outputs": [
        {
          "output_type": "stream",
          "name": "stderr",
          "text": [
            "Clipping input data to the valid range for imshow with RGB data ([0..1] for floats or [0..255] for integers).\n"
          ]
        },
        {
          "output_type": "stream",
          "name": "stdout",
          "text": [
            "torch.Size([224, 224, 3])\n"
          ]
        },
        {
          "output_type": "execute_result",
          "data": {
            "text/plain": [
              "<matplotlib.image.AxesImage at 0x7f7d0c5e93d0>"
            ]
          },
          "metadata": {},
          "execution_count": 69
        },
        {
          "output_type": "display_data",
          "data": {
            "text/plain": [
              "<Figure size 432x288 with 1 Axes>"
            ],
            "image/png": "[encoded data removed]"
          },
          "metadata": {
            "needs_background": "light"
          }
        }
      ]
    },
    {
      "cell_type": "code",
      "source": [
        "def predict(data, model,device,label_map,index=0):\n",
        "  images, labels = data\n",
        "  img = images[index]\n",
        "  label = labels[index]\n",
        "\n",
        "  plt.imshow(img.permute(1,2,0))\n",
        "  logit = model(img.unsqueeze(0).to(device))\n",
        "  pred_prob = F.softmax(logit, dim=1)\n",
        "  max_prob = torch.argmax(pred_prob).item()\n",
        "\n",
        "  predicted_label = label_map[max_prob]\n",
        "  actual_label = label_map[label.item()]\n",
        "\n",
        "\n",
        "  plt.title(f\"Actual label = {actual_label} | Predicted label = {predicted_label}\")\n",
        "  plt.axis(\"off\")\n",
        "  plt.show()"
      ],
      "metadata": {
        "id": "S0A2urLDUnx3"
      },
      "execution_count": 75,
      "outputs": []
    },
    {
      "cell_type": "code",
      "source": [
        "predict(data, model, config.DEVICE,converted_label_map, index=12)"
      ],
      "metadata": {
        "id": "QolSOqAjUnz_",
        "outputId": "de959620-33fb-4833-b35a-5f7260b498b5",
        "colab": {
          "base_uri": "https://localhost:8080/",
          "height": 282
        }
      },
      "execution_count": 76,
      "outputs": [
        {
          "output_type": "stream",
          "name": "stderr",
          "text": [
            "Clipping input data to the valid range for imshow with RGB data ([0..1] for floats or [0..255] for integers).\n"
          ]
        },
        {
          "output_type": "display_data",
          "data": {
            "text/plain": [
              "<Figure size 432x288 with 1 Axes>"
            ],
            "image/png": "[encoded data removed]"
          },
          "metadata": {
            "needs_background": "light"
          }
        }
      ]
    },
    {
      "cell_type": "code",
      "source": [
        ""
      ],
      "metadata": {
        "id": "VDpkoFQAUn2s"
      },
      "execution_count": null,
      "outputs": []
    },
    {
      "cell_type": "code",
      "source": [
        ""
      ],
      "metadata": {
        "id": "En2bvtRDUn5o"
      },
      "execution_count": null,
      "outputs": []
    }
  ]
}