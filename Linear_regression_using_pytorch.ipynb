{
  "nbformat": 4,
  "nbformat_minor": 0,
  "metadata": {
    "colab": {
      "name": "Linear regression using pytorch.ipynb",
      "provenance": [],
      "collapsed_sections": [],
      "authorship_tag": "ABX9TyNX2zDHKsHjuaCJm1ErQ98x",
      "include_colab_link": true
    },
    "kernelspec": {
      "name": "python3",
      "display_name": "Python 3"
    },
    "language_info": {
      "name": "python"
    }
  },
  "cells": [
    {
      "cell_type": "markdown",
      "metadata": {
        "id": "view-in-github",
        "colab_type": "text"
      },
      "source": [
        "<a href=\"https://colab.research.google.com/github/iamatul1214/Pytorch/blob/main/Linear_regression_using_pytorch.ipynb\" target=\"_parent\"><img src=\"https://colab.research.google.com/assets/colab-badge.svg\" alt=\"Open In Colab\"/></a>"
      ]
    },
    {
      "cell_type": "code",
      "execution_count": 4,
      "metadata": {
        "colab": {
          "base_uri": "https://localhost:8080/"
        },
        "id": "ArL4gbNIjsTz",
        "outputId": "c98bf485-8e6e-4525-b513-a9da9b016213"
      },
      "outputs": [
        {
          "output_type": "stream",
          "name": "stdout",
          "text": [
            "Mon Mar  7 18:08:18 2022       \n",
            "+-----------------------------------------------------------------------------+\n",
            "| NVIDIA-SMI 460.32.03    Driver Version: 460.32.03    CUDA Version: 11.2     |\n",
            "|-------------------------------+----------------------+----------------------+\n",
            "| GPU  Name        Persistence-M| Bus-Id        Disp.A | Volatile Uncorr. ECC |\n",
            "| Fan  Temp  Perf  Pwr:Usage/Cap|         Memory-Usage | GPU-Util  Compute M. |\n",
            "|                               |                      |               MIG M. |\n",
            "|===============================+======================+======================|\n",
            "|   0  Tesla K80           Off  | 00000000:00:04.0 Off |                    0 |\n",
            "| N/A   62C    P8    32W / 149W |      0MiB / 11441MiB |      0%      Default |\n",
            "|                               |                      |                  N/A |\n",
            "+-------------------------------+----------------------+----------------------+\n",
            "                                                                               \n",
            "+-----------------------------------------------------------------------------+\n",
            "| Processes:                                                                  |\n",
            "|  GPU   GI   CI        PID   Type   Process name                  GPU Memory |\n",
            "|        ID   ID                                                   Usage      |\n",
            "|=============================================================================|\n",
            "|  No running processes found                                                 |\n",
            "+-----------------------------------------------------------------------------+\n"
          ]
        }
      ],
      "source": [
        "## To check the GPU allocated\n",
        "!nvidia-smi"
      ]
    },
    {
      "cell_type": "code",
      "source": [
        "## We have got Tesla K80 GPU"
      ],
      "metadata": {
        "id": "qkVOW6edkHMP"
      },
      "execution_count": 5,
      "outputs": []
    },
    {
      "cell_type": "markdown",
      "source": [
        "## Let's create a sample dataset with 4 features and two labels.\n",
        "### Features- Region, Temperature, Rainfall, humidity\n",
        "### Label- Production of wheat, production of rice.\n",
        "## Here we have two labels in same data so we will have two different equations for each label. \n",
        "### y1 (Prod. of wheat)=w11*temp + w12*rainfall + w13*humidity + bias1\n",
        "### y2 (Prod. of Rice)=w21*temp + w22*rainfall + w23*humidity + bias2\n"
      ],
      "metadata": {
        "id": "sRhYRo2akxdQ"
      }
    },
    {
      "cell_type": "code",
      "source": [
        "import numpy as np\n",
        "import torch\n",
        "import matplotlib.pyplot as plt\n"
      ],
      "metadata": {
        "id": "xXMrflVukcG3"
      },
      "execution_count": 25,
      "outputs": []
    },
    {
      "cell_type": "code",
      "source": [
        "## Let's create input data\n",
        "input=np.array([[32,55,77],\n",
        "                [82,15,37],\n",
        "                [72,74,90],\n",
        "                [34,56,90],\n",
        "                [67,32,45],\n",
        "                [91,90,45],], dtype='float32')        ## We can take float64 as well, but in order to save memory we are taking float32\n",
        "input"
      ],
      "metadata": {
        "colab": {
          "base_uri": "https://localhost:8080/"
        },
        "id": "oRzSfUV9keiL",
        "outputId": "ebfa64d0-fb4a-4e24-929e-68f68fed2216"
      },
      "execution_count": 19,
      "outputs": [
        {
          "output_type": "execute_result",
          "data": {
            "text/plain": [
              "array([[32., 55., 77.],\n",
              "       [82., 15., 37.],\n",
              "       [72., 74., 90.],\n",
              "       [34., 56., 90.],\n",
              "       [67., 32., 45.],\n",
              "       [91., 90., 45.]], dtype=float32)"
            ]
          },
          "metadata": {},
          "execution_count": 19
        }
      ]
    },
    {
      "cell_type": "code",
      "source": [
        "## Let's create the target data of label\n",
        "target=np.array([[32,44],\n",
        "                 [78,61],\n",
        "                 [90,71],\n",
        "                 [74,32],\n",
        "                 [36,32],\n",
        "                 [22,69]], dtype='float32')\n",
        "target"
      ],
      "metadata": {
        "colab": {
          "base_uri": "https://localhost:8080/"
        },
        "id": "HgH3IyKJmn8V",
        "outputId": "51e2f836-ff69-4838-8076-3541cb0a6c4a"
      },
      "execution_count": 20,
      "outputs": [
        {
          "output_type": "execute_result",
          "data": {
            "text/plain": [
              "array([[32., 44.],\n",
              "       [78., 61.],\n",
              "       [90., 71.],\n",
              "       [74., 32.],\n",
              "       [36., 32.],\n",
              "       [22., 69.]], dtype=float32)"
            ]
          },
          "metadata": {},
          "execution_count": 20
        }
      ]
    },
    {
      "cell_type": "code",
      "source": [
        "## Now we need to convert input and target to tensors because we are going to work with pytorch. Pytorch and Tensorflow required tensors only because they also work on GPU\n",
        "\n",
        "input=torch.from_numpy(input)\n",
        "target=torch.from_numpy(target)\n",
        "\n",
        "print(input)\n",
        "print(target)"
      ],
      "metadata": {
        "colab": {
          "base_uri": "https://localhost:8080/"
        },
        "id": "_Kzkpmu9nVQg",
        "outputId": "fc641562-039a-45e9-e4c4-a6a84b4e45d6"
      },
      "execution_count": 21,
      "outputs": [
        {
          "output_type": "stream",
          "name": "stdout",
          "text": [
            "tensor([[32., 55., 77.],\n",
            "        [82., 15., 37.],\n",
            "        [72., 74., 90.],\n",
            "        [34., 56., 90.],\n",
            "        [67., 32., 45.],\n",
            "        [91., 90., 45.]])\n",
            "tensor([[32., 44.],\n",
            "        [78., 61.],\n",
            "        [90., 71.],\n",
            "        [74., 32.],\n",
            "        [36., 32.],\n",
            "        [22., 69.]])\n"
          ]
        }
      ]
    },
    {
      "cell_type": "code",
      "source": [
        "## assigning random weights and biases initially\n",
        "weights=torch.randn(2,3, requires_grad=True)     ## We need 3 weights for wheat and rice each\n",
        "bias=torch.randn(2, requires_grad=True)          ## We only need two biases\n",
        "\n",
        "print(weights)\n",
        "print(bias)"
      ],
      "metadata": {
        "colab": {
          "base_uri": "https://localhost:8080/"
        },
        "id": "PYTZzNAOoCXP",
        "outputId": "f48f8618-db18-471b-9545-7ab319366f6e"
      },
      "execution_count": 22,
      "outputs": [
        {
          "output_type": "stream",
          "name": "stdout",
          "text": [
            "tensor([[ 0.3738, -0.8324, -0.5374],\n",
            "        [ 0.4515,  0.3903,  0.5958]], requires_grad=True)\n",
            "tensor([-1.5068, -0.1233], requires_grad=True)\n"
          ]
        }
      ]
    },
    {
      "cell_type": "code",
      "source": [
        "## Now let's create the matrix multiplication of our model\n",
        "def model(input):\n",
        "  return input @ weights.t() + bias       ## input @ weights.t()--> dot product of the input and transpose of weight matrix"
      ],
      "metadata": {
        "id": "3FT0dxR1p6rb"
      },
      "execution_count": 23,
      "outputs": []
    },
    {
      "cell_type": "code",
      "source": [
        "prediction=model(input)\n",
        "print(prediction)"
      ],
      "metadata": {
        "colab": {
          "base_uri": "https://localhost:8080/"
        },
        "id": "EbLoaoNIrA31",
        "outputId": "c945d1ef-fa96-4868-a4b1-e61a87f7d109"
      },
      "execution_count": 24,
      "outputs": [
        {
          "output_type": "stream",
          "name": "stdout",
          "text": [
            "tensor([[-76.7061,  81.6638],\n",
            "        [ -3.2249,  64.7983],\n",
            "        [-84.5552, 114.8846],\n",
            "        [-83.7773,  90.7019],\n",
            "        [-27.2813,  69.4263],\n",
            "        [-66.5866, 102.8990]], grad_fn=<AddBackward0>)\n"
          ]
        }
      ]
    },
    {
      "cell_type": "code",
      "source": [
        "from numpy.lib.function_base import diff\n",
        "## Let's calculate Mean squared error\n",
        "def MSE(t1,t2):\n",
        "  difference=t1-t2\n",
        "  return torch.sum(difference * difference)/ difference.numel()\n",
        "\n"
      ],
      "metadata": {
        "id": "GpDYrqv2rJot"
      },
      "execution_count": 30,
      "outputs": []
    },
    {
      "cell_type": "code",
      "source": [
        "loss= MSE(prediction, target)\n",
        "print(loss)"
      ],
      "metadata": {
        "colab": {
          "base_uri": "https://localhost:8080/"
        },
        "id": "gDRXE3M5r0cP",
        "outputId": "1aefc082-0047-4a67-b01f-b6fa19d08ddb"
      },
      "execution_count": 31,
      "outputs": [
        {
          "output_type": "stream",
          "name": "stdout",
          "text": [
            "tensor(7915.3711, grad_fn=<DivBackward0>)\n"
          ]
        }
      ]
    },
    {
      "cell_type": "code",
      "source": [
        "plt.plot(prediction.detach().numpy(), target.detach().numpy())\n",
        "plt.show()"
      ],
      "metadata": {
        "colab": {
          "base_uri": "https://localhost:8080/",
          "height": 265
        },
        "id": "dQ7cG5dEsqbl",
        "outputId": "120032b5-9ee4-4bd1-d34f-ca53a9a0a424"
      },
      "execution_count": 33,
      "outputs": [
        {
          "output_type": "display_data",
          "data": {
            "image/png": "[encoded data removed]",
            "text/plain": [
              "<Figure size 432x288 with 1 Axes>"
            ]
          },
          "metadata": {
            "needs_background": "light"
          }
        }
      ]
    },
    {
      "cell_type": "markdown",
      "source": [
        "### We observed the loss value and also the grapgh and found that there are lot of differnces among both of the prediction and actual."
      ],
      "metadata": {
        "id": "USTTr84ctdtZ"
      }
    },
    {
      "cell_type": "code",
      "source": [
        ""
      ],
      "metadata": {
        "id": "cqH4g4Yys9mR"
      },
      "execution_count": null,
      "outputs": []
    }
  ]
}