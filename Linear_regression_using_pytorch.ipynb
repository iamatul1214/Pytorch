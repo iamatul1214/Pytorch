{
  "nbformat": 4,
  "nbformat_minor": 0,
  "metadata": {
    "colab": {
      "name": "Linear regression using pytorch.ipynb",
      "provenance": [],
      "collapsed_sections": [],
      "authorship_tag": "ABX9TyPQHV9VNuANcFHDYpKsmK3L",
      "include_colab_link": true
    },
    "kernelspec": {
      "name": "python3",
      "display_name": "Python 3"
    },
    "language_info": {
      "name": "python"
    },
    "accelerator": "GPU"
  },
  "cells": [
    {
      "cell_type": "markdown",
      "metadata": {
        "id": "view-in-github",
        "colab_type": "text"
      },
      "source": [
        "<a href=\"https://colab.research.google.com/github/iamatul1214/Pytorch/blob/main/Linear_regression_using_pytorch.ipynb\" target=\"_parent\"><img src=\"https://colab.research.google.com/assets/colab-badge.svg\" alt=\"Open In Colab\"/></a>"
      ]
    },
    {
      "cell_type": "code",
      "execution_count": 113,
      "metadata": {
        "colab": {
          "base_uri": "https://localhost:8080/"
        },
        "id": "ArL4gbNIjsTz",
        "outputId": "69f3555f-8263-461c-b398-12562caf00b8"
      },
      "outputs": [
        {
          "output_type": "stream",
          "name": "stdout",
          "text": [
            "Tue Mar  8 16:39:42 2022       \n",
            "+-----------------------------------------------------------------------------+\n",
            "| NVIDIA-SMI 460.32.03    Driver Version: 460.32.03    CUDA Version: 11.2     |\n",
            "|-------------------------------+----------------------+----------------------+\n",
            "| GPU  Name        Persistence-M| Bus-Id        Disp.A | Volatile Uncorr. ECC |\n",
            "| Fan  Temp  Perf  Pwr:Usage/Cap|         Memory-Usage | GPU-Util  Compute M. |\n",
            "|                               |                      |               MIG M. |\n",
            "|===============================+======================+======================|\n",
            "|   0  Tesla T4            Off  | 00000000:00:04.0 Off |                    0 |\n",
            "| N/A   35C    P8     9W /  70W |      3MiB / 15109MiB |      0%      Default |\n",
            "|                               |                      |                  N/A |\n",
            "+-------------------------------+----------------------+----------------------+\n",
            "                                                                               \n",
            "+-----------------------------------------------------------------------------+\n",
            "| Processes:                                                                  |\n",
            "|  GPU   GI   CI        PID   Type   Process name                  GPU Memory |\n",
            "|        ID   ID                                                   Usage      |\n",
            "|=============================================================================|\n",
            "|  No running processes found                                                 |\n",
            "+-----------------------------------------------------------------------------+\n"
          ]
        }
      ],
      "source": [
        "## To check the GPU allocated\n",
        "!nvidia-smi"
      ]
    },
    {
      "cell_type": "code",
      "source": [
        "## We have got Tesla K80 GPU"
      ],
      "metadata": {
        "id": "qkVOW6edkHMP"
      },
      "execution_count": 114,
      "outputs": []
    },
    {
      "cell_type": "markdown",
      "source": [
        "## Let's create a sample dataset with 4 features and two labels.\n",
        "### Features- Region, Temperature, Rainfall, humidity\n",
        "### Label- Production of wheat, production of rice.\n",
        "## Here we have two labels in same data so we will have two different equations for each label. \n",
        "### y1 (Prod. of wheat)=w11*temp + w12*rainfall + w13*humidity + bias1\n",
        "### y2 (Prod. of Rice)=w21*temp + w22*rainfall + w23*humidity + bias2\n"
      ],
      "metadata": {
        "id": "sRhYRo2akxdQ"
      }
    },
    {
      "cell_type": "code",
      "source": [
        "import numpy as np\n",
        "import torch\n",
        "import matplotlib.pyplot as plt\n"
      ],
      "metadata": {
        "id": "xXMrflVukcG3"
      },
      "execution_count": 115,
      "outputs": []
    },
    {
      "cell_type": "code",
      "source": [
        "## Let's create input data\n",
        "input=np.array([[32,55,77],\n",
        "                [82,15,37],\n",
        "                [72,74,90],\n",
        "                [34,56,90],\n",
        "                [67,32,45],\n",
        "                [91,90,45],], dtype='float32')        ## We can take float64 as well, but in order to save memory we are taking float32\n",
        "input"
      ],
      "metadata": {
        "colab": {
          "base_uri": "https://localhost:8080/"
        },
        "id": "oRzSfUV9keiL",
        "outputId": "71676dc9-1480-4164-cb43-2cde26591f75"
      },
      "execution_count": 116,
      "outputs": [
        {
          "output_type": "execute_result",
          "data": {
            "text/plain": [
              "array([[32., 55., 77.],\n",
              "       [82., 15., 37.],\n",
              "       [72., 74., 90.],\n",
              "       [34., 56., 90.],\n",
              "       [67., 32., 45.],\n",
              "       [91., 90., 45.]], dtype=float32)"
            ]
          },
          "metadata": {},
          "execution_count": 116
        }
      ]
    },
    {
      "cell_type": "code",
      "source": [
        "## Let's create the target data of label\n",
        "target=np.array([[32,44],\n",
        "                 [78,61],\n",
        "                 [90,71],\n",
        "                 [74,32],\n",
        "                 [36,32],\n",
        "                 [22,69]], dtype='float32')\n",
        "target"
      ],
      "metadata": {
        "colab": {
          "base_uri": "https://localhost:8080/"
        },
        "id": "HgH3IyKJmn8V",
        "outputId": "f871b3ab-6fa0-4f6f-b044-c405bce9c5b8"
      },
      "execution_count": 117,
      "outputs": [
        {
          "output_type": "execute_result",
          "data": {
            "text/plain": [
              "array([[32., 44.],\n",
              "       [78., 61.],\n",
              "       [90., 71.],\n",
              "       [74., 32.],\n",
              "       [36., 32.],\n",
              "       [22., 69.]], dtype=float32)"
            ]
          },
          "metadata": {},
          "execution_count": 117
        }
      ]
    },
    {
      "cell_type": "code",
      "source": [
        "## Now we need to convert input and target to tensors because we are going to work with pytorch. Pytorch and Tensorflow required tensors only because they also work on GPU\n",
        "\n",
        "input=torch.from_numpy(input)\n",
        "target=torch.from_numpy(target)\n",
        "\n",
        "print(input)\n",
        "print(target)"
      ],
      "metadata": {
        "colab": {
          "base_uri": "https://localhost:8080/"
        },
        "id": "_Kzkpmu9nVQg",
        "outputId": "9fc29872-3e8d-459b-b440-2936b2dca0fb"
      },
      "execution_count": 118,
      "outputs": [
        {
          "output_type": "stream",
          "name": "stdout",
          "text": [
            "tensor([[32., 55., 77.],\n",
            "        [82., 15., 37.],\n",
            "        [72., 74., 90.],\n",
            "        [34., 56., 90.],\n",
            "        [67., 32., 45.],\n",
            "        [91., 90., 45.]])\n",
            "tensor([[32., 44.],\n",
            "        [78., 61.],\n",
            "        [90., 71.],\n",
            "        [74., 32.],\n",
            "        [36., 32.],\n",
            "        [22., 69.]])\n"
          ]
        }
      ]
    },
    {
      "cell_type": "code",
      "source": [
        "## assigning random weights and biases initially\n",
        "weights=torch.randn(2,3, requires_grad=True)     ## We need 3 weights for wheat and rice each\n",
        "bias=torch.randn(2, requires_grad=True)          ## We only need two biases\n",
        "\n",
        "print(weights)\n",
        "print(bias)"
      ],
      "metadata": {
        "colab": {
          "base_uri": "https://localhost:8080/"
        },
        "id": "PYTZzNAOoCXP",
        "outputId": "cedc9ac2-80c0-42d0-ef74-a3f1e175eeaf"
      },
      "execution_count": 119,
      "outputs": [
        {
          "output_type": "stream",
          "name": "stdout",
          "text": [
            "tensor([[-1.1647, -0.7748,  1.1168],\n",
            "        [ 0.3772,  1.1557, -0.4336]], requires_grad=True)\n",
            "tensor([0.3817, 1.2857], requires_grad=True)\n"
          ]
        }
      ]
    },
    {
      "cell_type": "code",
      "source": [
        "## Now let's create the matrix multiplication of our model\n",
        "def model(input):\n",
        "  return input @ weights.t() + bias       ## input @ weights.t()--> dot product of the input and transpose of weight matrix"
      ],
      "metadata": {
        "id": "3FT0dxR1p6rb"
      },
      "execution_count": 120,
      "outputs": []
    },
    {
      "cell_type": "code",
      "source": [
        "prediction=model(input)\n",
        "print(prediction)"
      ],
      "metadata": {
        "colab": {
          "base_uri": "https://localhost:8080/"
        },
        "id": "EbLoaoNIrA31",
        "outputId": "7121a584-284e-4427-86c5-2b671579bbb1"
      },
      "execution_count": 121,
      "outputs": [
        {
          "output_type": "stream",
          "name": "stdout",
          "text": [
            "tensor([[   6.4907,   43.5342],\n",
            "        [ -65.4247,   33.5075],\n",
            "        [ -40.3006,   74.9439],\n",
            "        [  17.9050,   39.8075],\n",
            "        [ -52.1914,   44.0287],\n",
            "        [-125.0837,  120.1146]], grad_fn=<AddBackward0>)\n"
          ]
        }
      ]
    },
    {
      "cell_type": "code",
      "source": [
        "from numpy.lib.function_base import diff\n",
        "## Let's calculate Mean squared error\n",
        "def MSE(t1,t2):\n",
        "  difference=t1-t2\n",
        "  return torch.sum(difference * difference)/ difference.numel()\n",
        "\n"
      ],
      "metadata": {
        "id": "GpDYrqv2rJot"
      },
      "execution_count": 122,
      "outputs": []
    },
    {
      "cell_type": "code",
      "source": [
        "loss= MSE(prediction, target)\n",
        "print(loss)"
      ],
      "metadata": {
        "colab": {
          "base_uri": "https://localhost:8080/"
        },
        "id": "gDRXE3M5r0cP",
        "outputId": "7d9b38bc-78e6-4581-cba2-731c88cd9de3"
      },
      "execution_count": 123,
      "outputs": [
        {
          "output_type": "stream",
          "name": "stdout",
          "text": [
            "tensor(6195.6309, grad_fn=<DivBackward0>)\n"
          ]
        }
      ]
    },
    {
      "cell_type": "code",
      "source": [
        "plt.plot(prediction.detach().numpy(), target.detach().numpy())\n",
        "plt.show()"
      ],
      "metadata": {
        "colab": {
          "base_uri": "https://localhost:8080/",
          "height": 265
        },
        "id": "dQ7cG5dEsqbl",
        "outputId": "ffee0bc6-1423-4a00-ac4b-36f84a2ee765"
      },
      "execution_count": 124,
      "outputs": [
        {
          "output_type": "display_data",
          "data": {
            "image/png": "[encoded data removed]",
            "text/plain": [
              "<Figure size 432x288 with 1 Axes>"
            ]
          },
          "metadata": {
            "needs_background": "light"
          }
        }
      ]
    },
    {
      "cell_type": "markdown",
      "source": [
        "### We observed the loss value and also the graph and found that there are lot of differnces among both of the prediction and actual."
      ],
      "metadata": {
        "id": "USTTr84ctdtZ"
      }
    },
    {
      "cell_type": "code",
      "source": [
        "## Let's compute the gradient\n",
        "loss.backward()"
      ],
      "metadata": {
        "id": "wyMBxxCWRHlJ"
      },
      "execution_count": 125,
      "outputs": []
    },
    {
      "cell_type": "code",
      "source": [
        "print(\"Weights and biases before any kind of training\\n\"+\"**\"* 30)\n",
        "\n",
        "print(weights)\n",
        "print(weights.grad)\n",
        "\n",
        "print(bias)\n",
        "print(bias.grad)"
      ],
      "metadata": {
        "id": "cqH4g4Yys9mR",
        "colab": {
          "base_uri": "https://localhost:8080/"
        },
        "outputId": "154e20ea-b073-412a-ef7e-696f814aa94b"
      },
      "execution_count": 126,
      "outputs": [
        {
          "output_type": "stream",
          "name": "stdout",
          "text": [
            "Weights and biases before any kind of training\n",
            "************************************************************\n",
            "tensor([[-1.1647, -0.7748,  1.1168],\n",
            "        [ 0.3772,  1.1557, -0.4336]], requires_grad=True)\n",
            "tensor([[-7193.2407, -5399.6011, -5772.3203],\n",
            "        [  622.9124,   879.3813,   474.3301]])\n",
            "tensor([0.3817, 1.2857], requires_grad=True)\n",
            "tensor([-98.4341,   7.8227])\n"
          ]
        }
      ]
    },
    {
      "cell_type": "code",
      "source": [
        "## Now let's try to change the value of weights and biases by multiplying it with some learning rate and using optimizer\n",
        "with torch.no_grad():\n",
        "  weights -= weights.grad * 1e-5\n",
        "  bias -= bias.grad * 1e-5"
      ],
      "metadata": {
        "id": "5U6uD0NlQqxG"
      },
      "execution_count": 127,
      "outputs": []
    },
    {
      "cell_type": "code",
      "source": [
        "print(\"Weights and biases After modifying them with multiplication with learning rate but not training\\n\"+\"**\"* 50)\n",
        "\n",
        "print(weights)\n",
        "print(weights.grad)\n",
        "\n",
        "print(bias)\n",
        "print(bias.grad)"
      ],
      "metadata": {
        "colab": {
          "base_uri": "https://localhost:8080/"
        },
        "id": "0rkjrByXbhCz",
        "outputId": "27bd7707-1ec3-4e3e-a1e4-d9bcae4cc3cb"
      },
      "execution_count": 128,
      "outputs": [
        {
          "output_type": "stream",
          "name": "stdout",
          "text": [
            "Weights and biases After modifying them with multiplication with learning rate but not training\n",
            "****************************************************************************************************\n",
            "tensor([[-1.0928, -0.7208,  1.1745],\n",
            "        [ 0.3710,  1.1470, -0.4383]], requires_grad=True)\n",
            "tensor([[-7193.2407, -5399.6011, -5772.3203],\n",
            "        [  622.9124,   879.3813,   474.3301]])\n",
            "tensor([0.3827, 1.2857], requires_grad=True)\n",
            "tensor([-98.4341,   7.8227])\n"
          ]
        }
      ]
    },
    {
      "cell_type": "markdown",
      "source": [
        "## Now let's try to predict the output and check the loss with the modification of the weight what we did. Note that it was not training and just the modification of weights and biases once,."
      ],
      "metadata": {
        "id": "uEiJyQs0cKwY"
      }
    },
    {
      "cell_type": "code",
      "source": [
        "prediction=model(input=input)"
      ],
      "metadata": {
        "id": "hRb7p1i1brCQ"
      },
      "execution_count": 129,
      "outputs": []
    },
    {
      "cell_type": "code",
      "source": [
        "loss=MSE(prediction,target)\n",
        "print(f\"loss after checking with modfication of weights and biases= {loss}\")"
      ],
      "metadata": {
        "colab": {
          "base_uri": "https://localhost:8080/"
        },
        "id": "zbGRgr2Bcge5",
        "outputId": "c8365af0-f956-43d7-f593-3eb01bc24f5a"
      },
      "execution_count": 130,
      "outputs": [
        {
          "output_type": "stream",
          "name": "stdout",
          "text": [
            "loss after checking with modfication of weights and biases= 5104.60400390625\n"
          ]
        }
      ]
    },
    {
      "cell_type": "code",
      "source": [
        "## Let's try to plot the loss now\n",
        "plt.plot(prediction.detach().numpy(), target.detach().numpy())\n",
        "plt.show()"
      ],
      "metadata": {
        "colab": {
          "base_uri": "https://localhost:8080/",
          "height": 265
        },
        "id": "U6dTz8accqzJ",
        "outputId": "f772c6b3-2383-477e-8e71-333c3e09d14c"
      },
      "execution_count": 131,
      "outputs": [
        {
          "output_type": "display_data",
          "data": {
            "image/png": "[encoded data removed]",
            "text/plain": [
              "<Figure size 432x288 with 1 Axes>"
            ]
          },
          "metadata": {
            "needs_background": "light"
          }
        }
      ]
    },
    {
      "cell_type": "code",
      "source": [
        ""
      ],
      "metadata": {
        "id": "FnFZsZswc9zH"
      },
      "execution_count": 131,
      "outputs": []
    },
    {
      "cell_type": "markdown",
      "source": [
        "### We can observe very minute difference now, but we need to train our model in number of epochs which is a hyperparameter to get better result and lesser loss value."
      ],
      "metadata": {
        "id": "TF1p2OTSdXzB"
      }
    },
    {
      "cell_type": "code",
      "source": [
        "## Let's do training\n",
        "n=5000\n",
        "def training(weights,bias,epochs=100):\n",
        "  for i in range(epochs):\n",
        "    prediction=model(input)\n",
        "    loss=MSE(prediction,target)\n",
        "    loss.backward()\n",
        "\n",
        "    ## Updating weights and biases\n",
        "    with torch.no_grad():\n",
        "      weights -= weights.grad * 1e-5   ## W(new)=W(old) - [(dx/dw)*learning rate]\n",
        "      bias -= bias.grad * 1e-5\n",
        "\n",
        "      weights.grad.zero_()\n",
        "      bias.grad.zero_()\n",
        "    if i % 10 == 0:\n",
        "      print(f\"Epochs: {i}/{epochs} -> Loss : {loss}\")\n",
        "\n",
        "\n"
      ],
      "metadata": {
        "id": "D5UkgTYddmR-"
      },
      "execution_count": 132,
      "outputs": []
    },
    {
      "cell_type": "code",
      "source": [
        "## Let's try to plot the loss now\n",
        "def prediction_vs_real_plot(prediction,target):\n",
        "  plt.plot(prediction.detach().numpy(), target.detach().numpy())\n",
        "  plt.legend(['Prediction','Actual'])\n",
        "  plt.show()"
      ],
      "metadata": {
        "id": "MX-hDY-Wgm-b"
      },
      "execution_count": 133,
      "outputs": []
    },
    {
      "cell_type": "code",
      "source": [
        "## Let's create training with only 200 epochs\n",
        "training(weights=weights,bias=bias,epochs=200)"
      ],
      "metadata": {
        "colab": {
          "base_uri": "https://localhost:8080/"
        },
        "id": "AgX178jDob1L",
        "outputId": "a79e320d-8353-43ac-b27d-6e7a9cfc0db7"
      },
      "execution_count": 134,
      "outputs": [
        {
          "output_type": "stream",
          "name": "stdout",
          "text": [
            "Epochs: 0/200 -> Loss : 5104.60400390625\n",
            "Epochs: 10/200 -> Loss : 1279.9730224609375\n",
            "Epochs: 20/200 -> Loss : 929.87548828125\n",
            "Epochs: 30/200 -> Loss : 808.6091918945312\n",
            "Epochs: 40/200 -> Loss : 720.9723510742188\n",
            "Epochs: 50/200 -> Loss : 647.5838623046875\n",
            "Epochs: 60/200 -> Loss : 584.9868774414062\n",
            "Epochs: 70/200 -> Loss : 531.4107055664062\n",
            "Epochs: 80/200 -> Loss : 485.4646301269531\n",
            "Epochs: 90/200 -> Loss : 445.98486328125\n",
            "Epochs: 100/200 -> Loss : 411.9908142089844\n",
            "Epochs: 110/200 -> Loss : 382.6553039550781\n",
            "Epochs: 120/200 -> Loss : 357.2800598144531\n",
            "Epochs: 130/200 -> Loss : 335.2754821777344\n",
            "Epochs: 140/200 -> Loss : 316.1436767578125\n",
            "Epochs: 150/200 -> Loss : 299.4634704589844\n",
            "Epochs: 160/200 -> Loss : 284.8789367675781\n",
            "Epochs: 170/200 -> Loss : 272.08856201171875\n",
            "Epochs: 180/200 -> Loss : 260.83734130859375\n",
            "Epochs: 190/200 -> Loss : 250.90887451171875\n"
          ]
        }
      ]
    },
    {
      "cell_type": "code",
      "source": [
        "prediction=model(input)\n",
        "prediction_vs_real_plot(prediction,target)"
      ],
      "metadata": {
        "colab": {
          "base_uri": "https://localhost:8080/",
          "height": 265
        },
        "id": "mWp06TBjCYLc",
        "outputId": "990cac0d-2f2d-4a05-d629-a76204cbe61a"
      },
      "execution_count": 135,
      "outputs": [
        {
          "output_type": "display_data",
          "data": {
            "image/png": "[encoded data removed]",
            "text/plain": [
              "<Figure size 432x288 with 1 Axes>"
            ]
          },
          "metadata": {
            "needs_background": "light"
          }
        }
      ]
    },
    {
      "cell_type": "code",
      "source": [
        "## Let's do training with 2000 epochs and check the graph\n",
        "training(weights=weights, bias=bias, epochs=2000)"
      ],
      "metadata": {
        "colab": {
          "base_uri": "https://localhost:8080/"
        },
        "id": "cO3Ab9fHCvom",
        "outputId": "36e5f9bc-7f7c-4153-c3fa-31fbbdda5c93"
      },
      "execution_count": 136,
      "outputs": [
        {
          "output_type": "stream",
          "name": "stdout",
          "text": [
            "Epochs: 0/2000 -> Loss : 242.1193389892578\n",
            "Epochs: 10/2000 -> Loss : 234.313232421875\n",
            "Epochs: 20/2000 -> Loss : 227.35777282714844\n",
            "Epochs: 30/2000 -> Loss : 221.14013671875\n",
            "Epochs: 40/2000 -> Loss : 215.5642547607422\n",
            "Epochs: 50/2000 -> Loss : 210.54786682128906\n",
            "Epochs: 60/2000 -> Loss : 206.02105712890625\n",
            "Epochs: 70/2000 -> Loss : 201.92356872558594\n",
            "Epochs: 80/2000 -> Loss : 198.203857421875\n",
            "Epochs: 90/2000 -> Loss : 194.8175811767578\n",
            "Epochs: 100/2000 -> Loss : 191.72669982910156\n",
            "Epochs: 110/2000 -> Loss : 188.89808654785156\n",
            "Epochs: 120/2000 -> Loss : 186.3032989501953\n",
            "Epochs: 130/2000 -> Loss : 183.91761779785156\n",
            "Epochs: 140/2000 -> Loss : 181.719482421875\n",
            "Epochs: 150/2000 -> Loss : 179.69020080566406\n",
            "Epochs: 160/2000 -> Loss : 177.813232421875\n",
            "Epochs: 170/2000 -> Loss : 176.07420349121094\n",
            "Epochs: 180/2000 -> Loss : 174.46038818359375\n",
            "Epochs: 190/2000 -> Loss : 172.96070861816406\n",
            "Epochs: 200/2000 -> Loss : 171.56517028808594\n",
            "Epochs: 210/2000 -> Loss : 170.2648162841797\n",
            "Epochs: 220/2000 -> Loss : 169.05209350585938\n",
            "Epochs: 230/2000 -> Loss : 167.91969299316406\n",
            "Epochs: 240/2000 -> Loss : 166.8614501953125\n",
            "Epochs: 250/2000 -> Loss : 165.87158203125\n",
            "Epochs: 260/2000 -> Loss : 164.94505310058594\n",
            "Epochs: 270/2000 -> Loss : 164.0772247314453\n",
            "Epochs: 280/2000 -> Loss : 163.26376342773438\n",
            "Epochs: 290/2000 -> Loss : 162.5010223388672\n",
            "Epochs: 300/2000 -> Loss : 161.78526306152344\n",
            "Epochs: 310/2000 -> Loss : 161.11346435546875\n",
            "Epochs: 320/2000 -> Loss : 160.48260498046875\n",
            "Epochs: 330/2000 -> Loss : 159.88987731933594\n",
            "Epochs: 340/2000 -> Loss : 159.33294677734375\n",
            "Epochs: 350/2000 -> Loss : 158.8094024658203\n",
            "Epochs: 360/2000 -> Loss : 158.3171844482422\n",
            "Epochs: 370/2000 -> Loss : 157.8541717529297\n",
            "Epochs: 380/2000 -> Loss : 157.41868591308594\n",
            "Epochs: 390/2000 -> Loss : 157.0089569091797\n",
            "Epochs: 400/2000 -> Loss : 156.62335205078125\n",
            "Epochs: 410/2000 -> Loss : 156.26043701171875\n",
            "Epochs: 420/2000 -> Loss : 155.9188995361328\n",
            "Epochs: 430/2000 -> Loss : 155.59732055664062\n",
            "Epochs: 440/2000 -> Loss : 155.29454040527344\n",
            "Epochs: 450/2000 -> Loss : 155.00942993164062\n",
            "Epochs: 460/2000 -> Loss : 154.7409210205078\n",
            "Epochs: 470/2000 -> Loss : 154.48814392089844\n",
            "Epochs: 480/2000 -> Loss : 154.24998474121094\n",
            "Epochs: 490/2000 -> Loss : 154.025634765625\n",
            "Epochs: 500/2000 -> Loss : 153.81436157226562\n",
            "Epochs: 510/2000 -> Loss : 153.61532592773438\n",
            "Epochs: 520/2000 -> Loss : 153.42782592773438\n",
            "Epochs: 530/2000 -> Loss : 153.25111389160156\n",
            "Epochs: 540/2000 -> Loss : 153.08470153808594\n",
            "Epochs: 550/2000 -> Loss : 152.9279327392578\n",
            "Epochs: 560/2000 -> Loss : 152.7801513671875\n",
            "Epochs: 570/2000 -> Loss : 152.6409454345703\n",
            "Epochs: 580/2000 -> Loss : 152.50978088378906\n",
            "Epochs: 590/2000 -> Loss : 152.3861541748047\n",
            "Epochs: 600/2000 -> Loss : 152.2696533203125\n",
            "Epochs: 610/2000 -> Loss : 152.15989685058594\n",
            "Epochs: 620/2000 -> Loss : 152.05642700195312\n",
            "Epochs: 630/2000 -> Loss : 151.95899963378906\n",
            "Epochs: 640/2000 -> Loss : 151.8671112060547\n",
            "Epochs: 650/2000 -> Loss : 151.78053283691406\n",
            "Epochs: 660/2000 -> Loss : 151.6989288330078\n",
            "Epochs: 670/2000 -> Loss : 151.6220703125\n",
            "Epochs: 680/2000 -> Loss : 151.54962158203125\n",
            "Epochs: 690/2000 -> Loss : 151.48130798339844\n",
            "Epochs: 700/2000 -> Loss : 151.41690063476562\n",
            "Epochs: 710/2000 -> Loss : 151.35621643066406\n",
            "Epochs: 720/2000 -> Loss : 151.29901123046875\n",
            "Epochs: 730/2000 -> Loss : 151.24513244628906\n",
            "Epochs: 740/2000 -> Loss : 151.19430541992188\n",
            "Epochs: 750/2000 -> Loss : 151.14637756347656\n",
            "Epochs: 760/2000 -> Loss : 151.1012725830078\n",
            "Epochs: 770/2000 -> Loss : 151.0587158203125\n",
            "Epochs: 780/2000 -> Loss : 151.0185089111328\n",
            "Epochs: 790/2000 -> Loss : 150.98072814941406\n",
            "Epochs: 800/2000 -> Loss : 150.94505310058594\n",
            "Epochs: 810/2000 -> Loss : 150.9114532470703\n",
            "Epochs: 820/2000 -> Loss : 150.8797149658203\n",
            "Epochs: 830/2000 -> Loss : 150.849853515625\n",
            "Epochs: 840/2000 -> Loss : 150.82164001464844\n",
            "Epochs: 850/2000 -> Loss : 150.7950897216797\n",
            "Epochs: 860/2000 -> Loss : 150.77001953125\n",
            "Epochs: 870/2000 -> Loss : 150.74644470214844\n",
            "Epochs: 880/2000 -> Loss : 150.72413635253906\n",
            "Epochs: 890/2000 -> Loss : 150.7031707763672\n",
            "Epochs: 900/2000 -> Loss : 150.683349609375\n",
            "Epochs: 910/2000 -> Loss : 150.6646270751953\n",
            "Epochs: 920/2000 -> Loss : 150.64700317382812\n",
            "Epochs: 930/2000 -> Loss : 150.63043212890625\n",
            "Epochs: 940/2000 -> Loss : 150.61473083496094\n",
            "Epochs: 950/2000 -> Loss : 150.5999298095703\n",
            "Epochs: 960/2000 -> Loss : 150.5860137939453\n",
            "Epochs: 970/2000 -> Loss : 150.57278442382812\n",
            "Epochs: 980/2000 -> Loss : 150.56039428710938\n",
            "Epochs: 990/2000 -> Loss : 150.5486297607422\n",
            "Epochs: 1000/2000 -> Loss : 150.53758239746094\n",
            "Epochs: 1010/2000 -> Loss : 150.52711486816406\n",
            "Epochs: 1020/2000 -> Loss : 150.51730346679688\n",
            "Epochs: 1030/2000 -> Loss : 150.50804138183594\n",
            "Epochs: 1040/2000 -> Loss : 150.49925231933594\n",
            "Epochs: 1050/2000 -> Loss : 150.4908905029297\n",
            "Epochs: 1060/2000 -> Loss : 150.48313903808594\n",
            "Epochs: 1070/2000 -> Loss : 150.4757080078125\n",
            "Epochs: 1080/2000 -> Loss : 150.46871948242188\n",
            "Epochs: 1090/2000 -> Loss : 150.46214294433594\n",
            "Epochs: 1100/2000 -> Loss : 150.4558868408203\n",
            "Epochs: 1110/2000 -> Loss : 150.4499969482422\n",
            "Epochs: 1120/2000 -> Loss : 150.4444122314453\n",
            "Epochs: 1130/2000 -> Loss : 150.43919372558594\n",
            "Epochs: 1140/2000 -> Loss : 150.43417358398438\n",
            "Epochs: 1150/2000 -> Loss : 150.4294891357422\n",
            "Epochs: 1160/2000 -> Loss : 150.42503356933594\n",
            "Epochs: 1170/2000 -> Loss : 150.42083740234375\n",
            "Epochs: 1180/2000 -> Loss : 150.4168701171875\n",
            "Epochs: 1190/2000 -> Loss : 150.41307067871094\n",
            "Epochs: 1200/2000 -> Loss : 150.40951538085938\n",
            "Epochs: 1210/2000 -> Loss : 150.40614318847656\n",
            "Epochs: 1220/2000 -> Loss : 150.4029541015625\n",
            "Epochs: 1230/2000 -> Loss : 150.39991760253906\n",
            "Epochs: 1240/2000 -> Loss : 150.39703369140625\n",
            "Epochs: 1250/2000 -> Loss : 150.39434814453125\n",
            "Epochs: 1260/2000 -> Loss : 150.3917236328125\n",
            "Epochs: 1270/2000 -> Loss : 150.3892822265625\n",
            "Epochs: 1280/2000 -> Loss : 150.38697814941406\n",
            "Epochs: 1290/2000 -> Loss : 150.384765625\n",
            "Epochs: 1300/2000 -> Loss : 150.3826904296875\n",
            "Epochs: 1310/2000 -> Loss : 150.38070678710938\n",
            "Epochs: 1320/2000 -> Loss : 150.37884521484375\n",
            "Epochs: 1330/2000 -> Loss : 150.37701416015625\n",
            "Epochs: 1340/2000 -> Loss : 150.37530517578125\n",
            "Epochs: 1350/2000 -> Loss : 150.3737030029297\n",
            "Epochs: 1360/2000 -> Loss : 150.3721466064453\n",
            "Epochs: 1370/2000 -> Loss : 150.3706512451172\n",
            "Epochs: 1380/2000 -> Loss : 150.3692169189453\n",
            "Epochs: 1390/2000 -> Loss : 150.3678741455078\n",
            "Epochs: 1400/2000 -> Loss : 150.3665771484375\n",
            "Epochs: 1410/2000 -> Loss : 150.3654022216797\n",
            "Epochs: 1420/2000 -> Loss : 150.36422729492188\n",
            "Epochs: 1430/2000 -> Loss : 150.36309814453125\n",
            "Epochs: 1440/2000 -> Loss : 150.36204528808594\n",
            "Epochs: 1450/2000 -> Loss : 150.3610076904297\n",
            "Epochs: 1460/2000 -> Loss : 150.36001586914062\n",
            "Epochs: 1470/2000 -> Loss : 150.35910034179688\n",
            "Epochs: 1480/2000 -> Loss : 150.35818481445312\n",
            "Epochs: 1490/2000 -> Loss : 150.3572998046875\n",
            "Epochs: 1500/2000 -> Loss : 150.35646057128906\n",
            "Epochs: 1510/2000 -> Loss : 150.35565185546875\n",
            "Epochs: 1520/2000 -> Loss : 150.3549041748047\n",
            "Epochs: 1530/2000 -> Loss : 150.35414123535156\n",
            "Epochs: 1540/2000 -> Loss : 150.3534393310547\n",
            "Epochs: 1550/2000 -> Loss : 150.35275268554688\n",
            "Epochs: 1560/2000 -> Loss : 150.35206604003906\n",
            "Epochs: 1570/2000 -> Loss : 150.35145568847656\n",
            "Epochs: 1580/2000 -> Loss : 150.35081481933594\n",
            "Epochs: 1590/2000 -> Loss : 150.35023498535156\n",
            "Epochs: 1600/2000 -> Loss : 150.34959411621094\n",
            "Epochs: 1610/2000 -> Loss : 150.3490447998047\n",
            "Epochs: 1620/2000 -> Loss : 150.34849548339844\n",
            "Epochs: 1630/2000 -> Loss : 150.3479461669922\n",
            "Epochs: 1640/2000 -> Loss : 150.3474578857422\n",
            "Epochs: 1650/2000 -> Loss : 150.34698486328125\n",
            "Epochs: 1660/2000 -> Loss : 150.34649658203125\n",
            "Epochs: 1670/2000 -> Loss : 150.3459930419922\n",
            "Epochs: 1680/2000 -> Loss : 150.3455352783203\n",
            "Epochs: 1690/2000 -> Loss : 150.3450164794922\n",
            "Epochs: 1700/2000 -> Loss : 150.34457397460938\n",
            "Epochs: 1710/2000 -> Loss : 150.3441925048828\n",
            "Epochs: 1720/2000 -> Loss : 150.34371948242188\n",
            "Epochs: 1730/2000 -> Loss : 150.3433074951172\n",
            "Epochs: 1740/2000 -> Loss : 150.34288024902344\n",
            "Epochs: 1750/2000 -> Loss : 150.3424835205078\n",
            "Epochs: 1760/2000 -> Loss : 150.34205627441406\n",
            "Epochs: 1770/2000 -> Loss : 150.3416748046875\n",
            "Epochs: 1780/2000 -> Loss : 150.34132385253906\n",
            "Epochs: 1790/2000 -> Loss : 150.3409423828125\n",
            "Epochs: 1800/2000 -> Loss : 150.34059143066406\n",
            "Epochs: 1810/2000 -> Loss : 150.34022521972656\n",
            "Epochs: 1820/2000 -> Loss : 150.33982849121094\n",
            "Epochs: 1830/2000 -> Loss : 150.3394775390625\n",
            "Epochs: 1840/2000 -> Loss : 150.33912658691406\n",
            "Epochs: 1850/2000 -> Loss : 150.33876037597656\n",
            "Epochs: 1860/2000 -> Loss : 150.33840942382812\n",
            "Epochs: 1870/2000 -> Loss : 150.3380889892578\n",
            "Epochs: 1880/2000 -> Loss : 150.33773803710938\n",
            "Epochs: 1890/2000 -> Loss : 150.3374481201172\n",
            "Epochs: 1900/2000 -> Loss : 150.3371124267578\n",
            "Epochs: 1910/2000 -> Loss : 150.3367919921875\n",
            "Epochs: 1920/2000 -> Loss : 150.33642578125\n",
            "Epochs: 1930/2000 -> Loss : 150.3361053466797\n",
            "Epochs: 1940/2000 -> Loss : 150.3358154296875\n",
            "Epochs: 1950/2000 -> Loss : 150.3354949951172\n",
            "Epochs: 1960/2000 -> Loss : 150.3351593017578\n",
            "Epochs: 1970/2000 -> Loss : 150.33482360839844\n",
            "Epochs: 1980/2000 -> Loss : 150.3345184326172\n",
            "Epochs: 1990/2000 -> Loss : 150.33421325683594\n"
          ]
        }
      ]
    },
    {
      "cell_type": "code",
      "source": [
        "prediction=model(input)\n",
        "prediction_vs_real_plot(prediction,target)"
      ],
      "metadata": {
        "colab": {
          "base_uri": "https://localhost:8080/",
          "height": 265
        },
        "id": "BQ1_tf_cDAvU",
        "outputId": "9984cd70-361e-4b2c-9cb7-68b080ae6712"
      },
      "execution_count": 137,
      "outputs": [
        {
          "output_type": "display_data",
          "data": {
            "image/png": "[encoded data removed]",
            "text/plain": [
              "<Figure size 432x288 with 1 Axes>"
            ]
          },
          "metadata": {
            "needs_background": "light"
          }
        }
      ]
    },
    {
      "cell_type": "code",
      "source": [
        ""
      ],
      "metadata": {
        "id": "GqHcyyqDDKOQ"
      },
      "execution_count": 137,
      "outputs": []
    },
    {
      "cell_type": "markdown",
      "source": [
        "## Now Let's see the same thing with pytorch inbuilt functions"
      ],
      "metadata": {
        "id": "PPjahHK2Nr6F"
      }
    },
    {
      "cell_type": "code",
      "source": [
        "import torch.nn as nn   ## torch.nn means torch.neauralnetwork"
      ],
      "metadata": {
        "id": "YLVp57zoJmWh"
      },
      "execution_count": 138,
      "outputs": []
    },
    {
      "cell_type": "code",
      "source": [
        "# Input (temp, rainfall, humidity)\n",
        "inputs = np.array([[73, 67, 43], \n",
        "                   [91, 88, 64], \n",
        "                   [87, 134, 58], \n",
        "                   [102, 43, 37], \n",
        "                   [69, 96, 70], \n",
        "                   [74, 66, 43], \n",
        "                   [91, 87, 65], \n",
        "                   [88, 134, 59], \n",
        "                   [101, 44, 37], \n",
        "                   [68, 96, 71], \n",
        "                   [73, 66, 44], \n",
        "                   [92, 87, 64], \n",
        "                   [87, 135, 57], \n",
        "                   [103, 43, 36], \n",
        "                   [68, 97, 70]], \n",
        "                  dtype='float32')\n",
        "\n",
        "#targets (Wheat and Rice)\n",
        "targets = np.array([[56, 70], \n",
        "                    [81, 101], \n",
        "                    [119, 133], \n",
        "                    [22, 37], \n",
        "                    [103, 119],\n",
        "                    [57, 69], \n",
        "                    [80, 102], \n",
        "                    [118, 132], \n",
        "                    [21, 38], \n",
        "                    [104, 118], \n",
        "                    [57, 69], \n",
        "                    [82, 100], \n",
        "                    [118, 134], \n",
        "                    [20, 38], \n",
        "                    [102, 120]], \n",
        "                   dtype='float32')\n",
        "\n",
        "inputs=torch.from_numpy(inputs)\n",
        "targets=torch.from_numpy(targets)"
      ],
      "metadata": {
        "id": "KizCwYO_OQN5"
      },
      "execution_count": 139,
      "outputs": []
    },
    {
      "cell_type": "code",
      "source": [
        "inputs,targets"
      ],
      "metadata": {
        "colab": {
          "base_uri": "https://localhost:8080/"
        },
        "id": "vLCBf5ewOhXm",
        "outputId": "d59a9cff-9a40-475c-9c55-f158b5aa3671"
      },
      "execution_count": 140,
      "outputs": [
        {
          "output_type": "execute_result",
          "data": {
            "text/plain": [
              "(tensor([[ 73.,  67.,  43.],\n",
              "         [ 91.,  88.,  64.],\n",
              "         [ 87., 134.,  58.],\n",
              "         [102.,  43.,  37.],\n",
              "         [ 69.,  96.,  70.],\n",
              "         [ 74.,  66.,  43.],\n",
              "         [ 91.,  87.,  65.],\n",
              "         [ 88., 134.,  59.],\n",
              "         [101.,  44.,  37.],\n",
              "         [ 68.,  96.,  71.],\n",
              "         [ 73.,  66.,  44.],\n",
              "         [ 92.,  87.,  64.],\n",
              "         [ 87., 135.,  57.],\n",
              "         [103.,  43.,  36.],\n",
              "         [ 68.,  97.,  70.]]), tensor([[ 56.,  70.],\n",
              "         [ 81., 101.],\n",
              "         [119., 133.],\n",
              "         [ 22.,  37.],\n",
              "         [103., 119.],\n",
              "         [ 57.,  69.],\n",
              "         [ 80., 102.],\n",
              "         [118., 132.],\n",
              "         [ 21.,  38.],\n",
              "         [104., 118.],\n",
              "         [ 57.,  69.],\n",
              "         [ 82., 100.],\n",
              "         [118., 134.],\n",
              "         [ 20.,  38.],\n",
              "         [102., 120.]]))"
            ]
          },
          "metadata": {},
          "execution_count": 140
        }
      ]
    },
    {
      "cell_type": "code",
      "source": [
        "## Now let's load the data, since we would want data in batches that's why we pass the data into tensordataset so that it can make it tuple and we can easily interate\n",
        "from torch.utils.data import TensorDataset, DataLoader\n",
        "train_ds=TensorDataset(inputs, targets)\n",
        "\n",
        "## Now we can see that we can easily perfrom slicing operation on this\n",
        "train_ds[0:2]"
      ],
      "metadata": {
        "colab": {
          "base_uri": "https://localhost:8080/"
        },
        "id": "L6yuqIxpOjS-",
        "outputId": "d585d63e-74ee-4419-c549-39a7f379504b"
      },
      "execution_count": 141,
      "outputs": [
        {
          "output_type": "execute_result",
          "data": {
            "text/plain": [
              "(tensor([[73., 67., 43.],\n",
              "         [91., 88., 64.]]), tensor([[ 56.,  70.],\n",
              "         [ 81., 101.]]))"
            ]
          },
          "metadata": {},
          "execution_count": 141
        }
      ]
    },
    {
      "cell_type": "code",
      "source": [
        "## Let's load the data with batch size defined\n",
        "batch_size=3\n",
        "train_data=DataLoader(train_ds,batch_size, shuffle=True)    ## Shuffling will take the random data, which will help the training to be robust."
      ],
      "metadata": {
        "id": "gAJQhWSUP7rd"
      },
      "execution_count": 142,
      "outputs": []
    },
    {
      "cell_type": "code",
      "source": [
        "for x,y in train_data:\n",
        "  print(x,y)      ## We can see that now we have 5 batches with data being spread randomly"
      ],
      "metadata": {
        "colab": {
          "base_uri": "https://localhost:8080/"
        },
        "id": "wK-d2x07RHNm",
        "outputId": "675eb60c-fc23-4f5f-97ab-30b40721d237"
      },
      "execution_count": 143,
      "outputs": [
        {
          "output_type": "stream",
          "name": "stdout",
          "text": [
            "tensor([[103.,  43.,  36.],\n",
            "        [ 69.,  96.,  70.],\n",
            "        [101.,  44.,  37.]]) tensor([[ 20.,  38.],\n",
            "        [103., 119.],\n",
            "        [ 21.,  38.]])\n",
            "tensor([[ 68.,  96.,  71.],\n",
            "        [ 68.,  97.,  70.],\n",
            "        [ 87., 135.,  57.]]) tensor([[104., 118.],\n",
            "        [102., 120.],\n",
            "        [118., 134.]])\n",
            "tensor([[ 87., 134.,  58.],\n",
            "        [ 88., 134.,  59.],\n",
            "        [ 92.,  87.,  64.]]) tensor([[119., 133.],\n",
            "        [118., 132.],\n",
            "        [ 82., 100.]])\n",
            "tensor([[102.,  43.,  37.],\n",
            "        [ 91.,  87.,  65.],\n",
            "        [ 91.,  88.,  64.]]) tensor([[ 22.,  37.],\n",
            "        [ 80., 102.],\n",
            "        [ 81., 101.]])\n",
            "tensor([[73., 66., 44.],\n",
            "        [73., 67., 43.],\n",
            "        [74., 66., 43.]]) tensor([[57., 69.],\n",
            "        [56., 70.],\n",
            "        [57., 69.]])\n"
          ]
        }
      ]
    },
    {
      "cell_type": "code",
      "source": [
        "## Let's define the model\n",
        "model=nn.Linear(3,2)   # 3 is the feature and 2 label   ## This function will provide the weight and bias randomly automatically.\n",
        "print(model.weight)\n",
        "print(model.bias)"
      ],
      "metadata": {
        "colab": {
          "base_uri": "https://localhost:8080/"
        },
        "id": "jkEqVW9CRLJC",
        "outputId": "1c68c7d9-b77a-4745-ebd1-aad0745a97fe"
      },
      "execution_count": 144,
      "outputs": [
        {
          "output_type": "stream",
          "name": "stdout",
          "text": [
            "Parameter containing:\n",
            "tensor([[-0.3783, -0.0638, -0.1526],\n",
            "        [ 0.3372, -0.2469,  0.1030]], requires_grad=True)\n",
            "Parameter containing:\n",
            "tensor([ 0.1726, -0.5640], requires_grad=True)\n"
          ]
        }
      ]
    },
    {
      "cell_type": "code",
      "source": [
        "model.parameters()    ## Since, it is a list so we either need to iterate or print as a list"
      ],
      "metadata": {
        "colab": {
          "base_uri": "https://localhost:8080/"
        },
        "id": "aGhoj1MXSBQq",
        "outputId": "2af0c07c-d04b-43d4-ed53-fc46ce8492a8"
      },
      "execution_count": 145,
      "outputs": [
        {
          "output_type": "execute_result",
          "data": {
            "text/plain": [
              "<generator object Module.parameters at 0x7f443b2df2d0>"
            ]
          },
          "metadata": {},
          "execution_count": 145
        }
      ]
    },
    {
      "cell_type": "code",
      "source": [
        "\n",
        "## Through iteration\n",
        "for i in model.parameters():\n",
        "  print(i)"
      ],
      "metadata": {
        "colab": {
          "base_uri": "https://localhost:8080/"
        },
        "id": "kxN_F1OmSOOh",
        "outputId": "50cd9159-f190-44ee-8314-50c0d06b4ca5"
      },
      "execution_count": 146,
      "outputs": [
        {
          "output_type": "stream",
          "name": "stdout",
          "text": [
            "Parameter containing:\n",
            "tensor([[-0.3783, -0.0638, -0.1526],\n",
            "        [ 0.3372, -0.2469,  0.1030]], requires_grad=True)\n",
            "Parameter containing:\n",
            "tensor([ 0.1726, -0.5640], requires_grad=True)\n"
          ]
        }
      ]
    },
    {
      "cell_type": "code",
      "source": [
        "## Through list\n",
        "list(model.parameters())"
      ],
      "metadata": {
        "colab": {
          "base_uri": "https://localhost:8080/"
        },
        "id": "Lgq8iCkVSZyc",
        "outputId": "dd201074-910e-4629-d638-eea4b762c102"
      },
      "execution_count": 147,
      "outputs": [
        {
          "output_type": "execute_result",
          "data": {
            "text/plain": [
              "[Parameter containing:\n",
              " tensor([[-0.3783, -0.0638, -0.1526],\n",
              "         [ 0.3372, -0.2469,  0.1030]], requires_grad=True),\n",
              " Parameter containing:\n",
              " tensor([ 0.1726, -0.5640], requires_grad=True)]"
            ]
          },
          "metadata": {},
          "execution_count": 147
        }
      ]
    },
    {
      "cell_type": "code",
      "source": [
        "## Let's check prediction using entire dataset\n",
        "prediction=model(inputs)\n",
        "prediction"
      ],
      "metadata": {
        "colab": {
          "base_uri": "https://localhost:8080/"
        },
        "id": "poeQDaaLSlY-",
        "outputId": "51259411-f268-4290-ed88-540511b3195e"
      },
      "execution_count": 148,
      "outputs": [
        {
          "output_type": "execute_result",
          "data": {
            "text/plain": [
              "tensor([[-38.2822,  11.9348],\n",
              "        [-49.6363,  14.9817],\n",
              "        [-50.1436,   1.6569],\n",
              "        [-46.8066,  27.0202],\n",
              "        [-42.7391,   6.2069],\n",
              "        [-38.5967,  12.5188],\n",
              "        [-49.7251,  15.3316],\n",
              "        [-50.6745,   2.0970],\n",
              "        [-46.4921,  26.4361],\n",
              "        [-42.5133,   5.9728],\n",
              "        [-38.3709,  12.2847],\n",
              "        [-49.9508,  15.5657],\n",
              "        [-50.0548,   1.3069],\n",
              "        [-47.0323,  27.2544],\n",
              "        [-42.4245,   5.6229]], grad_fn=<AddmmBackward0>)"
            ]
          },
          "metadata": {},
          "execution_count": 148
        }
      ]
    },
    {
      "cell_type": "code",
      "source": [
        "## Let's observe this using plot\n",
        "prediction_vs_real_plot(prediction, targets)"
      ],
      "metadata": {
        "colab": {
          "base_uri": "https://localhost:8080/",
          "height": 265
        },
        "id": "-xYb00xBTEg6",
        "outputId": "5454596d-48f0-4442-de7f-361e2dbe48b9"
      },
      "execution_count": 149,
      "outputs": [
        {
          "output_type": "display_data",
          "data": {
            "image/png": "[encoded data removed]",
            "text/plain": [
              "<Figure size 432x288 with 1 Axes>"
            ]
          },
          "metadata": {
            "needs_background": "light"
          }
        }
      ]
    },
    {
      "cell_type": "code",
      "source": [
        "## Let's check the loss \n",
        "import torch.nn.functional as f\n",
        "loss_function=f.mse_loss"
      ],
      "metadata": {
        "id": "Q4BicUK6TS9z"
      },
      "execution_count": 150,
      "outputs": []
    },
    {
      "cell_type": "code",
      "source": [
        "loss= loss_function(prediction,targets)\n",
        "loss"
      ],
      "metadata": {
        "colab": {
          "base_uri": "https://localhost:8080/"
        },
        "id": "QmU-Gk-eTs46",
        "outputId": "aba8d959-ec97-43fa-e00e-487a8db659e2"
      },
      "execution_count": 151,
      "outputs": [
        {
          "output_type": "execute_result",
          "data": {
            "text/plain": [
              "tensor(12111.1299, grad_fn=<MseLossBackward0>)"
            ]
          },
          "metadata": {},
          "execution_count": 151
        }
      ]
    },
    {
      "cell_type": "code",
      "source": [
        "## Let's define optimizers\n",
        "opt= torch.optim.SGD(model.parameters(), lr=1e-5)    ## Passing model parameters( weights and biases) for gradient \n"
      ],
      "metadata": {
        "id": "PStIGsR8TzYi"
      },
      "execution_count": 152,
      "outputs": []
    },
    {
      "cell_type": "code",
      "source": [
        "## Let's define training method now\n",
        "\n",
        "def fit(epochs,model, optimizer,loss_fn,train_data):\n",
        "  for epoch in range(epochs):\n",
        "    for x,y in train_data:\n",
        "      prediction=model(x)\n",
        "      loss=loss_fn(prediction,y)\n",
        "      loss.backward()\n",
        "      optimizer.step()    ## This will calculate the gradient and update the weights\n",
        "      optimizer.zero_grad()\n",
        "\n",
        "    if (epoch+1) % 10 == 0:\n",
        "      print(f\" Epochs {epoch+1}/{epochs}, Loss : {loss}\")\n",
        "  "
      ],
      "metadata": {
        "id": "6-3n5PgBVGjr"
      },
      "execution_count": 153,
      "outputs": []
    },
    {
      "cell_type": "code",
      "source": [
        "fit(100,model, opt, loss_function, train_data)"
      ],
      "metadata": {
        "colab": {
          "base_uri": "https://localhost:8080/"
        },
        "id": "tscrZjyLW84u",
        "outputId": "92f2be35-24dd-441b-e47e-06e47b61c16d"
      },
      "execution_count": 154,
      "outputs": [
        {
          "output_type": "stream",
          "name": "stdout",
          "text": [
            " Epochs 10/100, Loss : 122.2193832397461\n",
            " Epochs 20/100, Loss : 229.3536834716797\n",
            " Epochs 30/100, Loss : 159.26644897460938\n",
            " Epochs 40/100, Loss : 37.3142204284668\n",
            " Epochs 50/100, Loss : 35.51171112060547\n",
            " Epochs 60/100, Loss : 29.086851119995117\n",
            " Epochs 70/100, Loss : 3.222041368484497\n",
            " Epochs 80/100, Loss : 18.44583511352539\n",
            " Epochs 90/100, Loss : 8.524593353271484\n",
            " Epochs 100/100, Loss : 9.87745189666748\n"
          ]
        }
      ]
    },
    {
      "cell_type": "code",
      "source": [
        "prediction=model(inputs)"
      ],
      "metadata": {
        "id": "Qhdn4IAFXDdJ"
      },
      "execution_count": 155,
      "outputs": []
    },
    {
      "cell_type": "code",
      "source": [
        "## Let's plot\n",
        "prediction_vs_real_plot(prediction,targets)"
      ],
      "metadata": {
        "colab": {
          "base_uri": "https://localhost:8080/",
          "height": 265
        },
        "id": "6YVXNtlkYSZX",
        "outputId": "3a95f161-0e74-4053-d9da-931793ec4d86"
      },
      "execution_count": 156,
      "outputs": [
        {
          "output_type": "display_data",
          "data": {
            "image/png": "[encoded data removed]",
            "text/plain": [
              "<Figure size 432x288 with 1 Axes>"
            ]
          },
          "metadata": {
            "needs_background": "light"
          }
        }
      ]
    },
    {
      "cell_type": "markdown",
      "source": [
        "##### we can see that we have almost got the close prediction"
      ],
      "metadata": {
        "id": "Fo1yzV_IZKS7"
      }
    },
    {
      "cell_type": "code",
      "source": [
        "## Now let's predict\n",
        "model(torch.tensor([[10,11,12.]]))"
      ],
      "metadata": {
        "colab": {
          "base_uri": "https://localhost:8080/"
        },
        "id": "2Bswt31eYrO0",
        "outputId": "ac7651fa-606f-46aa-f930-e02df22b6ed4"
      },
      "execution_count": 158,
      "outputs": [
        {
          "output_type": "execute_result",
          "data": {
            "text/plain": [
              "tensor([[12.4289, 14.6324]], grad_fn=<AddmmBackward0>)"
            ]
          },
          "metadata": {},
          "execution_count": 158
        }
      ]
    },
    {
      "cell_type": "code",
      "source": [
        "## Saving the model\n",
        "torch.save(model.state_dict(), 'Simple_LR_pytorch_model.pth')"
      ],
      "metadata": {
        "id": "heTlBW7GZdnr"
      },
      "execution_count": 159,
      "outputs": []
    },
    {
      "cell_type": "code",
      "source": [
        "model=torch.load('Simple_LR_pytorch_model.pth')"
      ],
      "metadata": {
        "id": "X38-4rAeaPnT"
      },
      "execution_count": 160,
      "outputs": []
    },
    {
      "cell_type": "code",
      "source": [
        ""
      ],
      "metadata": {
        "id": "pkRW2AVxaYKV"
      },
      "execution_count": null,
      "outputs": []
    }
  ]
}