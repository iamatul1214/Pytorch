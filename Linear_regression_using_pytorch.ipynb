{
  "nbformat": 4,
  "nbformat_minor": 0,
  "metadata": {
    "colab": {
      "name": "Linear regression using pytorch.ipynb",
      "provenance": [],
      "collapsed_sections": [],
      "authorship_tag": "ABX9TyM9GzsEP4J1tQ9A0CGSfmI8",
      "include_colab_link": true
    },
    "kernelspec": {
      "name": "python3",
      "display_name": "Python 3"
    },
    "language_info": {
      "name": "python"
    },
    "accelerator": "GPU"
  },
  "cells": [
    {
      "cell_type": "markdown",
      "metadata": {
        "id": "view-in-github",
        "colab_type": "text"
      },
      "source": [
        "<a href=\"https://colab.research.google.com/github/iamatul1214/Pytorch/blob/main/Linear_regression_using_pytorch.ipynb\" target=\"_parent\"><img src=\"https://colab.research.google.com/assets/colab-badge.svg\" alt=\"Open In Colab\"/></a>"
      ]
    },
    {
      "cell_type": "code",
      "execution_count": 3,
      "metadata": {
        "colab": {
          "base_uri": "https://localhost:8080/"
        },
        "id": "ArL4gbNIjsTz",
        "outputId": "768982c0-d28b-4462-a37b-155d98b51616"
      },
      "outputs": [
        {
          "output_type": "stream",
          "name": "stdout",
          "text": [
            "Tue Mar  8 11:45:38 2022       \n",
            "+-----------------------------------------------------------------------------+\n",
            "| NVIDIA-SMI 460.32.03    Driver Version: 460.32.03    CUDA Version: 11.2     |\n",
            "|-------------------------------+----------------------+----------------------+\n",
            "| GPU  Name        Persistence-M| Bus-Id        Disp.A | Volatile Uncorr. ECC |\n",
            "| Fan  Temp  Perf  Pwr:Usage/Cap|         Memory-Usage | GPU-Util  Compute M. |\n",
            "|                               |                      |               MIG M. |\n",
            "|===============================+======================+======================|\n",
            "|   0  Tesla K80           Off  | 00000000:00:04.0 Off |                    0 |\n",
            "| N/A   31C    P8    29W / 149W |      0MiB / 11441MiB |      0%      Default |\n",
            "|                               |                      |                  N/A |\n",
            "+-------------------------------+----------------------+----------------------+\n",
            "                                                                               \n",
            "+-----------------------------------------------------------------------------+\n",
            "| Processes:                                                                  |\n",
            "|  GPU   GI   CI        PID   Type   Process name                  GPU Memory |\n",
            "|        ID   ID                                                   Usage      |\n",
            "|=============================================================================|\n",
            "|  No running processes found                                                 |\n",
            "+-----------------------------------------------------------------------------+\n"
          ]
        }
      ],
      "source": [
        "## To check the GPU allocated\n",
        "!nvidia-smi"
      ]
    },
    {
      "cell_type": "code",
      "source": [
        "## We have got Tesla K80 GPU"
      ],
      "metadata": {
        "id": "qkVOW6edkHMP"
      },
      "execution_count": 4,
      "outputs": []
    },
    {
      "cell_type": "markdown",
      "source": [
        "## Let's create a sample dataset with 4 features and two labels.\n",
        "### Features- Region, Temperature, Rainfall, humidity\n",
        "### Label- Production of wheat, production of rice.\n",
        "## Here we have two labels in same data so we will have two different equations for each label. \n",
        "### y1 (Prod. of wheat)=w11*temp + w12*rainfall + w13*humidity + bias1\n",
        "### y2 (Prod. of Rice)=w21*temp + w22*rainfall + w23*humidity + bias2\n"
      ],
      "metadata": {
        "id": "sRhYRo2akxdQ"
      }
    },
    {
      "cell_type": "code",
      "source": [
        "import numpy as np\n",
        "import torch\n",
        "import matplotlib.pyplot as plt\n"
      ],
      "metadata": {
        "id": "xXMrflVukcG3"
      },
      "execution_count": 5,
      "outputs": []
    },
    {
      "cell_type": "code",
      "source": [
        "## Let's create input data\n",
        "input=np.array([[32,55,77],\n",
        "                [82,15,37],\n",
        "                [72,74,90],\n",
        "                [34,56,90],\n",
        "                [67,32,45],\n",
        "                [91,90,45],], dtype='float32')        ## We can take float64 as well, but in order to save memory we are taking float32\n",
        "input"
      ],
      "metadata": {
        "colab": {
          "base_uri": "https://localhost:8080/"
        },
        "id": "oRzSfUV9keiL",
        "outputId": "459b0e7e-2509-40c8-8ccb-dc4c8a69f3a0"
      },
      "execution_count": 6,
      "outputs": [
        {
          "output_type": "execute_result",
          "data": {
            "text/plain": [
              "array([[32., 55., 77.],\n",
              "       [82., 15., 37.],\n",
              "       [72., 74., 90.],\n",
              "       [34., 56., 90.],\n",
              "       [67., 32., 45.],\n",
              "       [91., 90., 45.]], dtype=float32)"
            ]
          },
          "metadata": {},
          "execution_count": 6
        }
      ]
    },
    {
      "cell_type": "code",
      "source": [
        "## Let's create the target data of label\n",
        "target=np.array([[32,44],\n",
        "                 [78,61],\n",
        "                 [90,71],\n",
        "                 [74,32],\n",
        "                 [36,32],\n",
        "                 [22,69]], dtype='float32')\n",
        "target"
      ],
      "metadata": {
        "colab": {
          "base_uri": "https://localhost:8080/"
        },
        "id": "HgH3IyKJmn8V",
        "outputId": "992894bb-82dd-4fd7-a1af-3733ff08ad2b"
      },
      "execution_count": 7,
      "outputs": [
        {
          "output_type": "execute_result",
          "data": {
            "text/plain": [
              "array([[32., 44.],\n",
              "       [78., 61.],\n",
              "       [90., 71.],\n",
              "       [74., 32.],\n",
              "       [36., 32.],\n",
              "       [22., 69.]], dtype=float32)"
            ]
          },
          "metadata": {},
          "execution_count": 7
        }
      ]
    },
    {
      "cell_type": "code",
      "source": [
        "## Now we need to convert input and target to tensors because we are going to work with pytorch. Pytorch and Tensorflow required tensors only because they also work on GPU\n",
        "\n",
        "input=torch.from_numpy(input)\n",
        "target=torch.from_numpy(target)\n",
        "\n",
        "print(input)\n",
        "print(target)"
      ],
      "metadata": {
        "colab": {
          "base_uri": "https://localhost:8080/"
        },
        "id": "_Kzkpmu9nVQg",
        "outputId": "e134b5d6-9ce0-4a10-f9b3-5e1b174d958d"
      },
      "execution_count": 8,
      "outputs": [
        {
          "output_type": "stream",
          "name": "stdout",
          "text": [
            "tensor([[32., 55., 77.],\n",
            "        [82., 15., 37.],\n",
            "        [72., 74., 90.],\n",
            "        [34., 56., 90.],\n",
            "        [67., 32., 45.],\n",
            "        [91., 90., 45.]])\n",
            "tensor([[32., 44.],\n",
            "        [78., 61.],\n",
            "        [90., 71.],\n",
            "        [74., 32.],\n",
            "        [36., 32.],\n",
            "        [22., 69.]])\n"
          ]
        }
      ]
    },
    {
      "cell_type": "code",
      "source": [
        "## assigning random weights and biases initially\n",
        "weights=torch.randn(2,3, requires_grad=True)     ## We need 3 weights for wheat and rice each\n",
        "bias=torch.randn(2, requires_grad=True)          ## We only need two biases\n",
        "\n",
        "print(weights)\n",
        "print(bias)"
      ],
      "metadata": {
        "colab": {
          "base_uri": "https://localhost:8080/"
        },
        "id": "PYTZzNAOoCXP",
        "outputId": "74101753-c589-4a93-b6bf-790bee7131fe"
      },
      "execution_count": 9,
      "outputs": [
        {
          "output_type": "stream",
          "name": "stdout",
          "text": [
            "tensor([[ 1.3984,  1.5159, -1.5664],\n",
            "        [-1.3794,  0.1947, -0.4998]], requires_grad=True)\n",
            "tensor([ 1.0370, -1.2773], requires_grad=True)\n"
          ]
        }
      ]
    },
    {
      "cell_type": "code",
      "source": [
        "## Now let's create the matrix multiplication of our model\n",
        "def model(input):\n",
        "  return input @ weights.t() + bias       ## input @ weights.t()--> dot product of the input and transpose of weight matrix"
      ],
      "metadata": {
        "id": "3FT0dxR1p6rb"
      },
      "execution_count": 10,
      "outputs": []
    },
    {
      "cell_type": "code",
      "source": [
        "prediction=model(input)\n",
        "print(prediction)"
      ],
      "metadata": {
        "colab": {
          "base_uri": "https://localhost:8080/"
        },
        "id": "EbLoaoNIrA31",
        "outputId": "05acf843-566c-4c46-97c0-e009f78c1895"
      },
      "execution_count": 11,
      "outputs": [
        {
          "output_type": "stream",
          "name": "stdout",
          "text": [
            "tensor([[   8.5442,  -73.1939],\n",
            "        [  80.4824, -129.9586],\n",
            "        [  72.9173, -131.1666],\n",
            "        [  -7.5070,  -82.2558],\n",
            "        [  72.7464, -109.9561],\n",
            "        [ 194.2312, -131.7660]], grad_fn=<AddBackward0>)\n"
          ]
        }
      ]
    },
    {
      "cell_type": "code",
      "source": [
        "from numpy.lib.function_base import diff\n",
        "## Let's calculate Mean squared error\n",
        "def MSE(t1,t2):\n",
        "  difference=t1-t2\n",
        "  return torch.sum(difference * difference)/ difference.numel()\n",
        "\n"
      ],
      "metadata": {
        "id": "GpDYrqv2rJot"
      },
      "execution_count": 12,
      "outputs": []
    },
    {
      "cell_type": "code",
      "source": [
        "loss= MSE(prediction, target)\n",
        "print(loss)"
      ],
      "metadata": {
        "colab": {
          "base_uri": "https://localhost:8080/"
        },
        "id": "gDRXE3M5r0cP",
        "outputId": "e85380b3-70d2-45a4-9e24-ee9a8c6339cd"
      },
      "execution_count": 13,
      "outputs": [
        {
          "output_type": "stream",
          "name": "stdout",
          "text": [
            "tensor(16924.1074, grad_fn=<DivBackward0>)\n"
          ]
        }
      ]
    },
    {
      "cell_type": "code",
      "source": [
        "plt.plot(prediction.detach().numpy(), target.detach().numpy())\n",
        "plt.show()"
      ],
      "metadata": {
        "colab": {
          "base_uri": "https://localhost:8080/",
          "height": 265
        },
        "id": "dQ7cG5dEsqbl",
        "outputId": "1338769e-9036-4d27-82d7-1621793aeea7"
      },
      "execution_count": 14,
      "outputs": [
        {
          "output_type": "display_data",
          "data": {
            "image/png": "[encoded data removed]",
            "text/plain": [
              "<Figure size 432x288 with 1 Axes>"
            ]
          },
          "metadata": {
            "needs_background": "light"
          }
        }
      ]
    },
    {
      "cell_type": "markdown",
      "source": [
        "### We observed the loss value and also the graph and found that there are lot of differnces among both of the prediction and actual."
      ],
      "metadata": {
        "id": "USTTr84ctdtZ"
      }
    },
    {
      "cell_type": "code",
      "source": [
        "## Let's compute the gradient\n",
        "loss.backward()"
      ],
      "metadata": {
        "id": "wyMBxxCWRHlJ"
      },
      "execution_count": 15,
      "outputs": []
    },
    {
      "cell_type": "code",
      "source": [
        "print(\"Weights and biases before any kind of training\\n\"+\"**\"* 30)\n",
        "\n",
        "print(weights)\n",
        "print(weights.grad)\n",
        "\n",
        "print(bias)\n",
        "print(bias.grad)"
      ],
      "metadata": {
        "id": "cqH4g4Yys9mR",
        "colab": {
          "base_uri": "https://localhost:8080/"
        },
        "outputId": "60c8bef2-079c-410f-8552-3fc40fe28ae3"
      },
      "execution_count": 25,
      "outputs": [
        {
          "output_type": "stream",
          "name": "stdout",
          "text": [
            "Weights and biases before any kind of training\n",
            "************************************************************\n",
            "tensor([[ 1.3984,  1.5159, -1.5664],\n",
            "        [-1.3794,  0.1947, -0.4998]], requires_grad=True)\n",
            "tensor([[  2264.4714,   1599.2253,   -197.2212],\n",
            "        [-10938.3789,  -8880.0391,  -9998.3184]])\n",
            "tensor([ 1.0370, -1.2773], requires_grad=True)\n",
            "tensor([  14.9024, -161.2162])\n"
          ]
        }
      ]
    },
    {
      "cell_type": "code",
      "source": [
        "## Now let's try to change the value of weights and biases by multiplying it with some learning rate and using optimizer\n",
        "with torch.no_grad():\n",
        "  weights -= weights.grad * 1e-5\n",
        "  bias -= bias.grad * 1e-5"
      ],
      "metadata": {
        "id": "5U6uD0NlQqxG"
      },
      "execution_count": 26,
      "outputs": []
    },
    {
      "cell_type": "code",
      "source": [
        "print(\"Weights and biases After modifying them with multiplication with learning rate but not training\\n\"+\"**\"* 50)\n",
        "\n",
        "print(weights)\n",
        "print(weights.grad)\n",
        "\n",
        "print(bias)\n",
        "print(bias.grad)"
      ],
      "metadata": {
        "colab": {
          "base_uri": "https://localhost:8080/"
        },
        "id": "0rkjrByXbhCz",
        "outputId": "5df5e258-81d8-4614-e4d8-07fe35dd9278"
      },
      "execution_count": 28,
      "outputs": [
        {
          "output_type": "stream",
          "name": "stdout",
          "text": [
            "Weights and biases After modifying them with multiplication with learning rate but not training\n",
            "****************************************************************************************************\n",
            "tensor([[ 1.3757,  1.4999, -1.5645],\n",
            "        [-1.2700,  0.2835, -0.3999]], requires_grad=True)\n",
            "tensor([[  2264.4714,   1599.2253,   -197.2212],\n",
            "        [-10938.3789,  -8880.0391,  -9998.3184]])\n",
            "tensor([ 1.0368, -1.2757], requires_grad=True)\n",
            "tensor([  14.9024, -161.2162])\n"
          ]
        }
      ]
    },
    {
      "cell_type": "markdown",
      "source": [
        "## Now let's try to predict the output and check the loss with the modification of the weight what we did. Note that it was not training and just the modification of weights and biases once,."
      ],
      "metadata": {
        "id": "uEiJyQs0cKwY"
      }
    },
    {
      "cell_type": "code",
      "source": [
        "prediction=model(input=input)"
      ],
      "metadata": {
        "id": "hRb7p1i1brCQ"
      },
      "execution_count": 30,
      "outputs": []
    },
    {
      "cell_type": "code",
      "source": [
        "loss=MSE(prediction,target)\n",
        "print(f\"loss after checking with modfication of weights and biases= {loss}\")"
      ],
      "metadata": {
        "colab": {
          "base_uri": "https://localhost:8080/"
        },
        "id": "zbGRgr2Bcge5",
        "outputId": "91033bac-0d38-4993-ea4b-af9b6ae4be2d"
      },
      "execution_count": 33,
      "outputs": [
        {
          "output_type": "stream",
          "name": "stdout",
          "text": [
            "loss after checking with modfication of weights and biases= 14034.1923828125\n"
          ]
        }
      ]
    },
    {
      "cell_type": "code",
      "source": [
        "## Let's try to plot the loss now\n",
        "plt.plot(prediction.detach().numpy(), target.detach().numpy())\n",
        "plt.show()"
      ],
      "metadata": {
        "colab": {
          "base_uri": "https://localhost:8080/",
          "height": 265
        },
        "id": "U6dTz8accqzJ",
        "outputId": "979cfd51-a9e4-447a-e450-c417e636e373"
      },
      "execution_count": 34,
      "outputs": [
        {
          "output_type": "display_data",
          "data": {
            "image/png": "[encoded data removed]",
            "text/plain": [
              "<Figure size 432x288 with 1 Axes>"
            ]
          },
          "metadata": {
            "needs_background": "light"
          }
        }
      ]
    },
    {
      "cell_type": "code",
      "source": [
        ""
      ],
      "metadata": {
        "id": "FnFZsZswc9zH"
      },
      "execution_count": null,
      "outputs": []
    },
    {
      "cell_type": "markdown",
      "source": [
        "### We can observe very minute difference now, but we need to train our model in number of epochs which is a hyperparameter to get better result and lesser loss value."
      ],
      "metadata": {
        "id": "TF1p2OTSdXzB"
      }
    },
    {
      "cell_type": "code",
      "source": [
        "## Let's do training\n",
        "n=5000\n",
        "for i in range(n):\n",
        "  prediction=model(input)\n",
        "  loss=MSE(prediction,target)\n",
        "  loss.backward()\n",
        "\n",
        "  ## Updating weights and biases\n",
        "  with torch.no_grad():\n",
        "    weights -= weights.grad * 1e-5   ## W(new)=W(old) - [(dx/dw)*learning rate]\n",
        "    bias -= bias.grad * 1e-5\n",
        "\n",
        "    weights.grad.zero_()\n",
        "    bias.grad.zero_()\n",
        "  if i % 50 == 0:\n",
        "    print(f\"Epochs: {i}/{n} -> Loss : {loss}\")\n",
        "\n",
        "\n"
      ],
      "metadata": {
        "colab": {
          "base_uri": "https://localhost:8080/"
        },
        "id": "D5UkgTYddmR-",
        "outputId": "3f293575-9553-4692-a639-befda3c873c3"
      },
      "execution_count": 46,
      "outputs": [
        {
          "output_type": "stream",
          "name": "stdout",
          "text": [
            "Epochs: 0/5000 -> Loss : 150.32481384277344\n",
            "Epochs: 50/5000 -> Loss : 150.322998046875\n",
            "Epochs: 100/5000 -> Loss : 150.3212432861328\n",
            "Epochs: 150/5000 -> Loss : 150.31968688964844\n",
            "Epochs: 200/5000 -> Loss : 150.3180694580078\n",
            "Epochs: 250/5000 -> Loss : 150.3165740966797\n",
            "Epochs: 300/5000 -> Loss : 150.3150634765625\n",
            "Epochs: 350/5000 -> Loss : 150.3136444091797\n",
            "Epochs: 400/5000 -> Loss : 150.31216430664062\n",
            "Epochs: 450/5000 -> Loss : 150.31069946289062\n",
            "Epochs: 500/5000 -> Loss : 150.30926513671875\n",
            "Epochs: 550/5000 -> Loss : 150.30792236328125\n",
            "Epochs: 600/5000 -> Loss : 150.30645751953125\n",
            "Epochs: 650/5000 -> Loss : 150.30506896972656\n",
            "Epochs: 700/5000 -> Loss : 150.30360412597656\n",
            "Epochs: 750/5000 -> Loss : 150.30226135253906\n",
            "Epochs: 800/5000 -> Loss : 150.30079650878906\n",
            "Epochs: 850/5000 -> Loss : 150.2994384765625\n",
            "Epochs: 900/5000 -> Loss : 150.2980194091797\n",
            "Epochs: 950/5000 -> Loss : 150.29664611816406\n",
            "Epochs: 1000/5000 -> Loss : 150.29525756835938\n",
            "Epochs: 1050/5000 -> Loss : 150.29380798339844\n",
            "Epochs: 1100/5000 -> Loss : 150.29241943359375\n",
            "Epochs: 1150/5000 -> Loss : 150.2910614013672\n",
            "Epochs: 1200/5000 -> Loss : 150.2896270751953\n",
            "Epochs: 1250/5000 -> Loss : 150.28823852539062\n",
            "Epochs: 1300/5000 -> Loss : 150.28684997558594\n",
            "Epochs: 1350/5000 -> Loss : 150.28550720214844\n",
            "Epochs: 1400/5000 -> Loss : 150.2840576171875\n",
            "Epochs: 1450/5000 -> Loss : 150.2826690673828\n",
            "Epochs: 1500/5000 -> Loss : 150.28123474121094\n",
            "Epochs: 1550/5000 -> Loss : 150.27992248535156\n",
            "Epochs: 1600/5000 -> Loss : 150.2784881591797\n",
            "Epochs: 1650/5000 -> Loss : 150.2770538330078\n",
            "Epochs: 1700/5000 -> Loss : 150.27566528320312\n",
            "Epochs: 1750/5000 -> Loss : 150.27432250976562\n",
            "Epochs: 1800/5000 -> Loss : 150.27291870117188\n",
            "Epochs: 1850/5000 -> Loss : 150.27149963378906\n",
            "Epochs: 1900/5000 -> Loss : 150.27008056640625\n",
            "Epochs: 1950/5000 -> Loss : 150.26869201660156\n",
            "Epochs: 2000/5000 -> Loss : 150.2672882080078\n",
            "Epochs: 2050/5000 -> Loss : 150.26589965820312\n",
            "Epochs: 2100/5000 -> Loss : 150.26446533203125\n",
            "Epochs: 2150/5000 -> Loss : 150.26315307617188\n",
            "Epochs: 2200/5000 -> Loss : 150.26171875\n",
            "Epochs: 2250/5000 -> Loss : 150.2603302001953\n",
            "Epochs: 2300/5000 -> Loss : 150.25888061523438\n",
            "Epochs: 2350/5000 -> Loss : 150.257568359375\n",
            "Epochs: 2400/5000 -> Loss : 150.256103515625\n",
            "Epochs: 2450/5000 -> Loss : 150.25474548339844\n",
            "Epochs: 2500/5000 -> Loss : 150.2533416748047\n",
            "Epochs: 2550/5000 -> Loss : 150.25196838378906\n",
            "Epochs: 2600/5000 -> Loss : 150.2505340576172\n",
            "Epochs: 2650/5000 -> Loss : 150.24913024902344\n",
            "Epochs: 2700/5000 -> Loss : 150.24774169921875\n",
            "Epochs: 2750/5000 -> Loss : 150.24639892578125\n",
            "Epochs: 2800/5000 -> Loss : 150.24496459960938\n",
            "Epochs: 2850/5000 -> Loss : 150.24354553222656\n",
            "Epochs: 2900/5000 -> Loss : 150.2421417236328\n",
            "Epochs: 2950/5000 -> Loss : 150.2407989501953\n",
            "Epochs: 3000/5000 -> Loss : 150.2393341064453\n",
            "Epochs: 3050/5000 -> Loss : 150.2379913330078\n",
            "Epochs: 3100/5000 -> Loss : 150.23655700683594\n",
            "Epochs: 3150/5000 -> Loss : 150.23519897460938\n",
            "Epochs: 3200/5000 -> Loss : 150.23377990722656\n",
            "Epochs: 3250/5000 -> Loss : 150.23239135742188\n",
            "Epochs: 3300/5000 -> Loss : 150.2310028076172\n",
            "Epochs: 3350/5000 -> Loss : 150.22964477539062\n",
            "Epochs: 3400/5000 -> Loss : 150.2281951904297\n",
            "Epochs: 3450/5000 -> Loss : 150.2268524169922\n",
            "Epochs: 3500/5000 -> Loss : 150.22540283203125\n",
            "Epochs: 3550/5000 -> Loss : 150.2240447998047\n",
            "Epochs: 3600/5000 -> Loss : 150.22262573242188\n",
            "Epochs: 3650/5000 -> Loss : 150.2212371826172\n",
            "Epochs: 3700/5000 -> Loss : 150.21983337402344\n",
            "Epochs: 3750/5000 -> Loss : 150.21847534179688\n",
            "Epochs: 3800/5000 -> Loss : 150.21701049804688\n",
            "Epochs: 3850/5000 -> Loss : 150.21563720703125\n",
            "Epochs: 3900/5000 -> Loss : 150.2142333984375\n",
            "Epochs: 3950/5000 -> Loss : 150.212890625\n",
            "Epochs: 4000/5000 -> Loss : 150.21145629882812\n",
            "Epochs: 4050/5000 -> Loss : 150.2100830078125\n",
            "Epochs: 4100/5000 -> Loss : 150.2086639404297\n",
            "Epochs: 4150/5000 -> Loss : 150.20729064941406\n",
            "Epochs: 4200/5000 -> Loss : 150.20590209960938\n",
            "Epochs: 4250/5000 -> Loss : 150.2044677734375\n",
            "Epochs: 4300/5000 -> Loss : 150.2030487060547\n",
            "Epochs: 4350/5000 -> Loss : 150.20167541503906\n",
            "Epochs: 4400/5000 -> Loss : 150.20030212402344\n",
            "Epochs: 4450/5000 -> Loss : 150.19891357421875\n",
            "Epochs: 4500/5000 -> Loss : 150.1974639892578\n",
            "Epochs: 4550/5000 -> Loss : 150.19613647460938\n",
            "Epochs: 4600/5000 -> Loss : 150.19471740722656\n",
            "Epochs: 4650/5000 -> Loss : 150.19332885742188\n",
            "Epochs: 4700/5000 -> Loss : 150.19187927246094\n",
            "Epochs: 4750/5000 -> Loss : 150.19053649902344\n",
            "Epochs: 4800/5000 -> Loss : 150.18910217285156\n",
            "Epochs: 4850/5000 -> Loss : 150.1876983642578\n",
            "Epochs: 4900/5000 -> Loss : 150.18634033203125\n",
            "Epochs: 4950/5000 -> Loss : 150.18495178222656\n"
          ]
        }
      ]
    },
    {
      "cell_type": "code",
      "source": [
        "## Let's try to plot the loss now\n",
        "plt.plot(prediction.detach().numpy(), target.detach().numpy())\n",
        "plt.show()"
      ],
      "metadata": {
        "colab": {
          "base_uri": "https://localhost:8080/",
          "height": 265
        },
        "id": "MX-hDY-Wgm-b",
        "outputId": "76b65da0-9ea0-447c-8e4d-d9171cc1531d"
      },
      "execution_count": 47,
      "outputs": [
        {
          "output_type": "display_data",
          "data": {
            "image/png": "[encoded data removed]",
            "text/plain": [
              "<Figure size 432x288 with 1 Axes>"
            ]
          },
          "metadata": {
            "needs_background": "light"
          }
        }
      ]
    },
    {
      "cell_type": "code",
      "source": [
        ""
      ],
      "metadata": {
        "id": "AgX178jDob1L"
      },
      "execution_count": null,
      "outputs": []
    }
  ]
}