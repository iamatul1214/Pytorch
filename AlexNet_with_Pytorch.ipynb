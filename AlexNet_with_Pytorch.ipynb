{
  "nbformat": 4,
  "nbformat_minor": 0,
  "metadata": {
    "colab": {
      "name": "AlexNet_with_Pytorch.ipynb",
      "provenance": [],
      "collapsed_sections": [],
      "authorship_tag": "ABX9TyNCLmnCT2+xmlgzgjuAiXTL",
      "include_colab_link": true
    },
    "kernelspec": {
      "name": "python3",
      "display_name": "Python 3"
    },
    "language_info": {
      "name": "python"
    }
  },
  "cells": [
    {
      "cell_type": "markdown",
      "metadata": {
        "id": "view-in-github",
        "colab_type": "text"
      },
      "source": [
        "<a href=\"https://colab.research.google.com/github/iamatul1214/Pytorch/blob/main/AlexNet_with_Pytorch.ipynb\" target=\"_parent\"><img src=\"https://colab.research.google.com/assets/colab-badge.svg\" alt=\"Open In Colab\"/></a>"
      ]
    },
    {
      "cell_type": "code",
      "source": [
        "import pandas as pd\n",
        "import numpy as np\n",
        "import matplotlib.pyplot as plt\n",
        "import seaborn as sns\n",
        "import torch\n",
        "import torch.nn as nn\n",
        "from torchvision import transforms, datasets\n",
        "from torch.utils.data import DataLoader\n",
        "import torch.nn.functional as f\n",
        "from sklearn.metrics import confusion_matrix, accuracy_score\n",
        "from tqdm import tqdm"
      ],
      "metadata": {
        "id": "rIA8-0RlfutG"
      },
      "execution_count": 3,
      "outputs": []
    },
    {
      "cell_type": "code",
      "execution_count": 5,
      "metadata": {
        "id": "pHVvLnhieNSe"
      },
      "outputs": [],
      "source": [
        "## Let's create the structure of our model here\n",
        "class AlexNet(nn.Module):      # nn has All neural network modules, nn.Linear, nn.Conv2d, BatchNorm, Loss functions\n",
        "    def __init__(self):\n",
        "        super(AlexNet, self).__init__()\n",
        "        self.relu = nn.ReLU()\n",
        "        self.pool = nn.MaxPool2d(kernel_size=(3,3), stride=(2, 2))\n",
        "        self.conv1 = nn.Conv2d(\n",
        "            in_channels=3,       \n",
        "            out_channels=96,\n",
        "            kernel_size=(11, 11),\n",
        "            stride=(4, 4),\n",
        "            padding=(0, 0),    \n",
        "        )\n",
        "        self.conv2 = nn.Conv2d(\n",
        "            in_channels=96,\n",
        "            out_channels=256,\n",
        "            kernel_size=(5, 5),\n",
        "            stride=(1, 1),\n",
        "            padding=(2, 2),\n",
        "        )\n",
        "        self.conv3 = nn.Conv2d(\n",
        "            in_channels=256,\n",
        "            out_channels=384,\n",
        "            kernel_size=(3, 3),\n",
        "            stride=(1, 1),\n",
        "            padding=(1, 1),\n",
        "        )\n",
        "        self.conv4 = nn.Conv2d(\n",
        "            in_channels=384, \n",
        "            out_channels=384, \n",
        "            kernel_size=(3,3),\n",
        "            stride=(1, 1), \n",
        "            padding=(1,1)\n",
        "        )\n",
        "        self.conv5 = nn.Conv2d(\n",
        "            in_channels=384, \n",
        "            out_channels=256, \n",
        "            kernel_size=3, \n",
        "            stride=1, \n",
        "            padding=1)\n",
        "        \n",
        "        self.linear1  = nn.Linear(in_features= 9216, out_features= 4096)\n",
        "        self.linear2  = nn.Linear(in_features= 4096, out_features= 4096)\n",
        "        self.linear3 = nn.Linear(in_features=4096 , out_features=10)\n",
        "\n",
        "    def forward(self, x):\n",
        "        x = self.relu(self.conv1(x))\n",
        "        x = self.pool(x)\n",
        "        x = self.relu(self.conv2(x))\n",
        "        x = self.pool(x)\n",
        "        x = self.relu(self.conv3(x))\n",
        "        x = self.relu(self.conv4(x))\n",
        "        x = self.relu(self.conv5(x))\n",
        "        x = self.pool(x)\n",
        "        x = x.reshape(x.shape[0], -1)\n",
        "        x = self.relu(self.linear1(x))\n",
        "        x = self.relu(self.linear2(x))\n",
        "        x = self.linear3(x)\n",
        "        return x"
      ]
    },
    {
      "cell_type": "code",
      "source": [
        "x = torch.randn(32,3,227,227)\n",
        "model=AlexNet()\n",
        "print(model(x).shape)"
      ],
      "metadata": {
        "colab": {
          "base_uri": "https://localhost:8080/"
        },
        "id": "4J-1ueJbfkhc",
        "outputId": "87b25a24-9b44-4d4b-843d-317a2598db62"
      },
      "execution_count": 7,
      "outputs": [
        {
          "output_type": "stream",
          "name": "stdout",
          "text": [
            "torch.Size([32, 10])\n"
          ]
        }
      ]
    },
    {
      "cell_type": "code",
      "source": [
        "model.forward"
      ],
      "metadata": {
        "colab": {
          "base_uri": "https://localhost:8080/"
        },
        "id": "0q_KHHm2f8dr",
        "outputId": "5a96c015-da8b-42fa-ae69-cd6a98ddd6ec"
      },
      "execution_count": 8,
      "outputs": [
        {
          "output_type": "execute_result",
          "data": {
            "text/plain": [
              "<bound method AlexNet.forward of AlexNet(\n",
              "  (relu): ReLU()\n",
              "  (pool): MaxPool2d(kernel_size=(3, 3), stride=(2, 2), padding=0, dilation=1, ceil_mode=False)\n",
              "  (conv1): Conv2d(3, 96, kernel_size=(11, 11), stride=(4, 4))\n",
              "  (conv2): Conv2d(96, 256, kernel_size=(5, 5), stride=(1, 1), padding=(2, 2))\n",
              "  (conv3): Conv2d(256, 384, kernel_size=(3, 3), stride=(1, 1), padding=(1, 1))\n",
              "  (conv4): Conv2d(384, 384, kernel_size=(3, 3), stride=(1, 1), padding=(1, 1))\n",
              "  (conv5): Conv2d(384, 256, kernel_size=(3, 3), stride=(1, 1), padding=(1, 1))\n",
              "  (linear1): Linear(in_features=9216, out_features=4096, bias=True)\n",
              "  (linear2): Linear(in_features=4096, out_features=4096, bias=True)\n",
              "  (linear3): Linear(in_features=4096, out_features=10, bias=True)\n",
              ")>"
            ]
          },
          "metadata": {},
          "execution_count": 8
        }
      ]
    },
    {
      "cell_type": "code",
      "source": [
        ""
      ],
      "metadata": {
        "id": "TCQDztRygFV2"
      },
      "execution_count": 9,
      "outputs": []
    },
    {
      "cell_type": "code",
      "source": [
        ""
      ],
      "metadata": {
        "id": "8UBf9hiagMEV"
      },
      "execution_count": null,
      "outputs": []
    }
  ]
}