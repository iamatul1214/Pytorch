{
  "nbformat": 4,
  "nbformat_minor": 0,
  "metadata": {
    "colab": {
      "name": "Lenet-CNN-Architecture.ipynb",
      "provenance": [],
      "collapsed_sections": [],
      "mount_file_id": "1GYkh2oXWcrDQ1QPNbnvbbPyb1TbgqO6Z",
      "authorship_tag": "ABX9TyMLHghhmF7zPjfnSWnRfY4n",
      "include_colab_link": true
    },
    "kernelspec": {
      "name": "python3",
      "display_name": "Python 3"
    },
    "language_info": {
      "name": "python"
    },
    "accelerator": "GPU"
  },
  "cells": [
    {
      "cell_type": "markdown",
      "metadata": {
        "id": "view-in-github",
        "colab_type": "text"
      },
      "source": [
        "<a href=\"https://colab.research.google.com/github/iamatul1214/Pytorch/blob/main/Lenet_CNN_Architecture.ipynb\" target=\"_parent\"><img src=\"https://colab.research.google.com/assets/colab-badge.svg\" alt=\"Open In Colab\"/></a>"
      ]
    },
    {
      "cell_type": "code",
      "execution_count": 231,
      "metadata": {
        "id": "fGzF_25ZSqro"
      },
      "outputs": [],
      "source": [
        "import os\n",
        "ROOT=\"/content/drive/MyDrive/CNN using Pytorch\"\n",
        "os.chdir(ROOT)"
      ]
    },
    {
      "cell_type": "code",
      "source": [
        "## To see which GPU is allocated to us\n",
        "!nvidia-smi"
      ],
      "metadata": {
        "colab": {
          "base_uri": "https://localhost:8080/"
        },
        "id": "oNe20uRZYLun",
        "outputId": "214b186c-eef2-4d04-f0ec-4c21e7ba851b"
      },
      "execution_count": 232,
      "outputs": [
        {
          "output_type": "stream",
          "name": "stdout",
          "text": [
            "Sun Mar 27 03:38:30 2022       \n",
            "+-----------------------------------------------------------------------------+\n",
            "| NVIDIA-SMI 460.32.03    Driver Version: 460.32.03    CUDA Version: 11.2     |\n",
            "|-------------------------------+----------------------+----------------------+\n",
            "| GPU  Name        Persistence-M| Bus-Id        Disp.A | Volatile Uncorr. ECC |\n",
            "| Fan  Temp  Perf  Pwr:Usage/Cap|         Memory-Usage | GPU-Util  Compute M. |\n",
            "|                               |                      |               MIG M. |\n",
            "|===============================+======================+======================|\n",
            "|   0  Tesla K80           Off  | 00000000:00:04.0 Off |                    0 |\n",
            "| N/A   55C    P0    58W / 149W |    576MiB / 11441MiB |      0%      Default |\n",
            "|                               |                      |                  N/A |\n",
            "+-------------------------------+----------------------+----------------------+\n",
            "                                                                               \n",
            "+-----------------------------------------------------------------------------+\n",
            "| Processes:                                                                  |\n",
            "|  GPU   GI   CI        PID   Type   Process name                  GPU Memory |\n",
            "|        ID   ID                                                   Usage      |\n",
            "|=============================================================================|\n",
            "+-----------------------------------------------------------------------------+\n"
          ]
        }
      ]
    },
    {
      "cell_type": "code",
      "source": [
        "## Let's print present working directory\n",
        "!pwd"
      ],
      "metadata": {
        "colab": {
          "base_uri": "https://localhost:8080/"
        },
        "id": "Iu4L8e11TnBR",
        "outputId": "d0289803-ea8f-42ae-fab6-ac95c9a39860"
      },
      "execution_count": 233,
      "outputs": [
        {
          "output_type": "stream",
          "name": "stdout",
          "text": [
            "/content/drive/MyDrive/CNN using Pytorch\n"
          ]
        }
      ]
    },
    {
      "cell_type": "code",
      "source": [
        "import pandas as pd\n",
        "import numpy as np\n",
        "import matplotlib.pyplot as plt\n",
        "import seaborn as sns\n",
        "import torch\n",
        "import torch.nn as nn\n",
        "from torchvision import transforms, datasets\n",
        "from torch.utils.data import DataLoader\n",
        "import torch.nn.functional as f\n",
        "from sklearn.metrics import confusion_matrix, accuracy_score\n",
        "from tqdm import tqdm"
      ],
      "metadata": {
        "id": "cwlGLAVTV-qN"
      },
      "execution_count": 234,
      "outputs": []
    },
    {
      "cell_type": "code",
      "source": [
        "class Config:\n",
        "  def __init__(self):\n",
        "    self.ROOT_DATA_DIR=\"MNISTDir\"\n",
        "    self.EPOCH=10\n",
        "    self.BATCH_SIZE=32\n",
        "    self.LEARNING_RATE= 0.01\n",
        "    self.IMAGE_SIZE=(28,28)\n",
        "    self.DEVICE= \"cuda\" if torch.cuda.is_available() else \"cpu\"     ## If you have GPU either in local or using colab then it will use CUDA or else running in local then it will use CPU\n",
        "\n",
        "    print(f\"This notebook is using {self.DEVICE} device..\")\n",
        "    self.SEED= 2022\n",
        "\n",
        "config = Config() "
      ],
      "metadata": {
        "colab": {
          "base_uri": "https://localhost:8080/"
        },
        "id": "TZyMlYVyW6hd",
        "outputId": "2bc0fdef-2c81-4b03-e1df-59aea9dfed40"
      },
      "execution_count": 235,
      "outputs": [
        {
          "output_type": "stream",
          "name": "stdout",
          "text": [
            "This notebook is using cuda device..\n"
          ]
        }
      ]
    },
    {
      "cell_type": "markdown",
      "source": [
        "#### We are using torchvision because it provides lot of inbuilt datasets for CNN or vision related operations."
      ],
      "metadata": {
        "id": "1C5EU45xagKM"
      }
    },
    {
      "cell_type": "code",
      "source": [
        "## Let's download the training and testing subsets\n",
        "train_data=datasets.MNIST(\n",
        "    root=config.ROOT_DATA_DIR,\n",
        "    train=True,\n",
        "    download=True,\n",
        "    transform=transforms.ToTensor()\n",
        ")\n",
        "test_data= datasets.MNIST(\n",
        "    root=config.ROOT_DATA_DIR,\n",
        "    train=False,\n",
        "    download=True,\n",
        "    transform=transforms.ToTensor()\n",
        ")"
      ],
      "metadata": {
        "id": "MM_AlnS6XtwO"
      },
      "execution_count": 236,
      "outputs": []
    },
    {
      "cell_type": "code",
      "source": [
        "## Let's check the shape of our train and test data\n",
        "train_data.data.shape"
      ],
      "metadata": {
        "colab": {
          "base_uri": "https://localhost:8080/"
        },
        "id": "HD9x77e-bRfa",
        "outputId": "168ba189-dced-4345-fe4c-f2158bbb6dc0"
      },
      "execution_count": 237,
      "outputs": [
        {
          "output_type": "execute_result",
          "data": {
            "text/plain": [
              "torch.Size([60000, 28, 28])"
            ]
          },
          "metadata": {},
          "execution_count": 237
        }
      ]
    },
    {
      "cell_type": "code",
      "source": [
        "test_data.data.shape"
      ],
      "metadata": {
        "colab": {
          "base_uri": "https://localhost:8080/"
        },
        "id": "JF1veiTKdJDu",
        "outputId": "3d096511-8a90-4fe2-c50d-efc95bce21d9"
      },
      "execution_count": 238,
      "outputs": [
        {
          "output_type": "execute_result",
          "data": {
            "text/plain": [
              "torch.Size([10000, 28, 28])"
            ]
          },
          "metadata": {},
          "execution_count": 238
        }
      ]
    },
    {
      "cell_type": "code",
      "source": [
        "## Now let's check the labels/targets to understand what we will require to predict\n",
        "train_data.class_to_idx"
      ],
      "metadata": {
        "colab": {
          "base_uri": "https://localhost:8080/"
        },
        "id": "SNn7o2NAdMup",
        "outputId": "4e742b5c-bf79-47ad-bd0a-719617c4fa6e"
      },
      "execution_count": 239,
      "outputs": [
        {
          "output_type": "execute_result",
          "data": {
            "text/plain": [
              "{'0 - zero': 0,\n",
              " '1 - one': 1,\n",
              " '2 - two': 2,\n",
              " '3 - three': 3,\n",
              " '4 - four': 4,\n",
              " '5 - five': 5,\n",
              " '6 - six': 6,\n",
              " '7 - seven': 7,\n",
              " '8 - eight': 8,\n",
              " '9 - nine': 9}"
            ]
          },
          "metadata": {},
          "execution_count": 239
        }
      ]
    },
    {
      "cell_type": "markdown",
      "source": [
        "### The above output shows that the there are 9 classes in the dataset, which includes 0,1..9."
      ],
      "metadata": {
        "id": "FRTKLycNfCK8"
      }
    },
    {
      "cell_type": "code",
      "source": [
        "train_data.targets"
      ],
      "metadata": {
        "colab": {
          "base_uri": "https://localhost:8080/"
        },
        "id": "Wt5wyGRbe535",
        "outputId": "ee8840f3-d5c0-4d90-d872-2a9ba5f89efe"
      },
      "execution_count": 240,
      "outputs": [
        {
          "output_type": "execute_result",
          "data": {
            "text/plain": [
              "tensor([5, 0, 4,  ..., 5, 6, 8])"
            ]
          },
          "metadata": {},
          "execution_count": 240
        }
      ]
    },
    {
      "cell_type": "code",
      "source": [
        "given_label_map=train_data.class_to_idx\n",
        "given_label_map"
      ],
      "metadata": {
        "colab": {
          "base_uri": "https://localhost:8080/"
        },
        "id": "aBDfdgTgjXTy",
        "outputId": "cc3e9918-e96a-40ef-81ce-74631c3e8967"
      },
      "execution_count": 241,
      "outputs": [
        {
          "output_type": "execute_result",
          "data": {
            "text/plain": [
              "{'0 - zero': 0,\n",
              " '1 - one': 1,\n",
              " '2 - two': 2,\n",
              " '3 - three': 3,\n",
              " '4 - four': 4,\n",
              " '5 - five': 5,\n",
              " '6 - six': 6,\n",
              " '7 - seven': 7,\n",
              " '8 - eight': 8,\n",
              " '9 - nine': 9}"
            ]
          },
          "metadata": {},
          "execution_count": 241
        }
      ]
    },
    {
      "cell_type": "code",
      "source": [
        "## Now let's rearrange the labels, such that 1:Trouser, 2:pullover\n",
        "\n",
        "converted_label_map={ value:key for key, value in given_label_map.items()}\n",
        "converted_label_map\n",
        "  "
      ],
      "metadata": {
        "colab": {
          "base_uri": "https://localhost:8080/"
        },
        "id": "-73pDGeknm1J",
        "outputId": "b173287d-78f9-45c1-f35a-35bafca1f6aa"
      },
      "execution_count": 242,
      "outputs": [
        {
          "output_type": "execute_result",
          "data": {
            "text/plain": [
              "{0: '0 - zero',\n",
              " 1: '1 - one',\n",
              " 2: '2 - two',\n",
              " 3: '3 - three',\n",
              " 4: '4 - four',\n",
              " 5: '5 - five',\n",
              " 6: '6 - six',\n",
              " 7: '7 - seven',\n",
              " 8: '8 - eight',\n",
              " 9: '9 - nine'}"
            ]
          },
          "metadata": {},
          "execution_count": 242
        }
      ]
    },
    {
      "cell_type": "markdown",
      "source": [
        "### Now let's visualize one of the samples provided to us"
      ],
      "metadata": {
        "id": "oknV314Ko8lh"
      }
    },
    {
      "cell_type": "code",
      "source": [
        "def view_input_img(data, idx, label_map, cmap='gray'):\n",
        "  plt.imshow(data.data[idx], cmap=cmap)\n",
        "  plt.title(f\"data label : {label_map[data.targets[idx].item()]}\")\n",
        "  plt.axis(\"off\")\n",
        "\n",
        "view_input_img(train_data, 1010, converted_label_map)"
      ],
      "metadata": {
        "colab": {
          "base_uri": "https://localhost:8080/",
          "height": 264
        },
        "id": "VJgF-ZBeoGxx",
        "outputId": "8ac18504-4bff-4819-bcca-0a17c2964202"
      },
      "execution_count": 243,
      "outputs": [
        {
          "output_type": "display_data",
          "data": {
            "text/plain": [
              "<Figure size 432x288 with 1 Axes>"
            ],
            "image/png": "[encoded data removed]"
          },
          "metadata": {
            "needs_background": "light"
          }
        }
      ]
    },
    {
      "cell_type": "markdown",
      "source": [
        "### Now let's create the dataloader , to load the data and pass it to training algorithm batch by batch"
      ],
      "metadata": {
        "id": "UG34jVU7uPWc"
      }
    },
    {
      "cell_type": "code",
      "source": [
        "training_data_loader=DataLoader(\n",
        "    dataset=train_data,\n",
        "    batch_size=config.BATCH_SIZE,\n",
        "    shuffle=True\n",
        ")\n",
        "\n",
        "test_data_loader=DataLoader(\n",
        "    dataset=test_data,\n",
        "    batch_size=config.BATCH_SIZE,\n",
        "    shuffle=False     ## generally we don't shuffle the test data, but its upto us, if we want we can do that.\n",
        ")"
      ],
      "metadata": {
        "id": "wlTeKTYgp5g5"
      },
      "execution_count": 244,
      "outputs": []
    },
    {
      "cell_type": "code",
      "source": [
        "## Let's see what each dataloader(test vs train) will contain\n",
        "for imgs, labels in  training_data_loader:\n",
        "  print(imgs.shape)\n",
        "  print(labels.shape)\n",
        "  break\n",
        "\n",
        "## This will show that each training batch has [32, 1, 28, 28], Here-\n",
        "# 32= number of images\n",
        "# 1= only gray scale no RGB\n",
        "# 28,28= 28 x 28 matrix present\n",
        "# and since we have 32 images so we will have 32 labels for them as well."
      ],
      "metadata": {
        "colab": {
          "base_uri": "https://localhost:8080/"
        },
        "id": "OsqOgrn-p8hW",
        "outputId": "0560a13d-c1a3-45d9-aa39-2390bd4a4abe"
      },
      "execution_count": 245,
      "outputs": [
        {
          "output_type": "stream",
          "name": "stdout",
          "text": [
            "torch.Size([32, 1, 28, 28])\n",
            "torch.Size([32])\n"
          ]
        }
      ]
    },
    {
      "cell_type": "code",
      "source": [
        "## Now if we want we can't plot imgs[0] because its shape is (1,28,28) and plotlib only takes 28,28 to plot. So in this case we will try to \n",
        "## to squeeze the size of the imgs using squeeze().\n",
        "try:\n",
        "  plt.imshow(imgs[0])\n",
        "except Exception as e:\n",
        "  print(f\" couldn't display the image because of : {e}\")\n",
        "\n",
        "print(\"\\n\\nDisplaying image with the help of squeeze\\n\")\n",
        "## Let's convert the image now using squeeze\n",
        "plt.imshow(imgs[0].squeeze(), cmap='gray')"
      ],
      "metadata": {
        "colab": {
          "base_uri": "https://localhost:8080/",
          "height": 369
        },
        "id": "HjvMx78_H1co",
        "outputId": "2c88b0f8-24f7-4818-eb1f-13fbcdf59c1b"
      },
      "execution_count": 246,
      "outputs": [
        {
          "output_type": "stream",
          "name": "stdout",
          "text": [
            " couldn't display the image because of : Invalid shape (1, 28, 28) for image data\n",
            "\n",
            "\n",
            "Displaying image with the help of squeeze\n",
            "\n"
          ]
        },
        {
          "output_type": "execute_result",
          "data": {
            "text/plain": [
              "<matplotlib.image.AxesImage at 0x7f61333c4190>"
            ]
          },
          "metadata": {},
          "execution_count": 246
        },
        {
          "output_type": "display_data",
          "data": {
            "text/plain": [
              "<Figure size 432x288 with 1 Axes>"
            ],
            "image/png": "[encoded data removed]"
          },
          "metadata": {
            "needs_background": "light"
          }
        }
      ]
    },
    {
      "cell_type": "code",
      "source": [
        "## Let's see how squeeze helps us here\n",
        "\n",
        "print(\"Image size without squeeze() \", imgs[0].shape)\n",
        "print(\"Image size with squeeze() \", imgs[0].squeeze().shape)\n",
        "print(\"Image size with unsqueeze() \", imgs[0].unsqueeze(dim=1).shape)"
      ],
      "metadata": {
        "colab": {
          "base_uri": "https://localhost:8080/"
        },
        "id": "P5VET1ucJnpZ",
        "outputId": "3b2a3ce0-e87f-465c-9bb5-38034155117b"
      },
      "execution_count": 247,
      "outputs": [
        {
          "output_type": "stream",
          "name": "stdout",
          "text": [
            "Image size without squeeze()  torch.Size([1, 28, 28])\n",
            "Image size with squeeze()  torch.Size([28, 28])\n",
            "Image size with unsqueeze()  torch.Size([1, 1, 28, 28])\n"
          ]
        }
      ]
    },
    {
      "cell_type": "code",
      "source": [
        "## We can also convert the image into numpy data from torch tensor\n",
        "\n",
        "numpy_data=imgs[0].squeeze().numpy()\n",
        "numpy_data\n",
        "## ploting the numpy image\n",
        "plt.imshow(numpy_data, cmap='gray')"
      ],
      "metadata": {
        "colab": {
          "base_uri": "https://localhost:8080/",
          "height": 282
        },
        "id": "DQF0zwEsLmD8",
        "outputId": "37bcb506-f12c-4c69-e3e0-e7c46f34346f"
      },
      "execution_count": 248,
      "outputs": [
        {
          "output_type": "execute_result",
          "data": {
            "text/plain": [
              "<matplotlib.image.AxesImage at 0x7f6131126850>"
            ]
          },
          "metadata": {},
          "execution_count": 248
        },
        {
          "output_type": "display_data",
          "data": {
            "text/plain": [
              "<Figure size 432x288 with 1 Axes>"
            ],
            "image/png": "[encoded data removed]"
          },
          "metadata": {
            "needs_background": "light"
          }
        }
      ]
    },
    {
      "cell_type": "code",
      "source": [
        "## Let's create the structure of our model here\n",
        "class LeNet(nn.Module):      # nn has All neural network modules, nn.Linear, nn.Conv2d, BatchNorm, Loss functions\n",
        "    def __init__(self):\n",
        "        super(LeNet, self).__init__()\n",
        "        self.tanh = nn.Tanh()\n",
        "        self.pool = nn.AvgPool2d(kernel_size=(2, 2), stride=(2, 2))\n",
        "        self.conv1 = nn.Conv2d(\n",
        "            in_channels=1,\n",
        "            out_channels=6,\n",
        "            kernel_size=(5, 5),\n",
        "            stride=(1, 1),\n",
        "            padding=(2, 2),    ## Have to use padding because the Lenet arch, requires image of 32x32 and we have 28x28.\n",
        "        )\n",
        "        self.conv2 = nn.Conv2d(\n",
        "            in_channels=6,\n",
        "            out_channels=16,\n",
        "            kernel_size=(5, 5),\n",
        "            stride=(1, 1),\n",
        "            padding=(0, 0),\n",
        "        )\n",
        "        self.conv3 = nn.Conv2d(\n",
        "            in_channels=16,\n",
        "            out_channels=120,\n",
        "            kernel_size=(5, 5),\n",
        "            stride=(1, 1),\n",
        "            padding=(0, 0),\n",
        "        )\n",
        "        self.linear1 = nn.Linear(120, 84)\n",
        "        self.linear2 = nn.Linear(84, 10)\n",
        "\n",
        "    def forward(self, x):\n",
        "        x = self.tanh(self.conv1(x))\n",
        "        x = self.pool(x)\n",
        "        x = self.tanh(self.conv2(x))\n",
        "        x = self.pool(x)\n",
        "        x = self.tanh(\n",
        "            self.conv3(x)\n",
        "        )  # Reshaping to get the array of 120*1*1\n",
        "        x = x.reshape(x.shape[0], -1)\n",
        "        x = self.tanh(self.linear1(x))\n",
        "        x = self.linear2(x)\n",
        "        return x\n",
        "\n"
      ],
      "metadata": {
        "id": "aqwCXS9tMXUP"
      },
      "execution_count": 249,
      "outputs": []
    },
    {
      "cell_type": "code",
      "source": [
        "x = torch.randn(32,1,28,28)\n",
        "model=LeNet()\n",
        "print(model(x).shape)  ## It says that we can have 32 images with 10 class output"
      ],
      "metadata": {
        "colab": {
          "base_uri": "https://localhost:8080/"
        },
        "id": "4gaLEMBJeIyN",
        "outputId": "1dfc0c26-52fe-4755-8ca8-3d0432b0ed45"
      },
      "execution_count": 250,
      "outputs": [
        {
          "output_type": "stream",
          "name": "stdout",
          "text": [
            "torch.Size([32, 10])\n"
          ]
        }
      ]
    },
    {
      "cell_type": "code",
      "source": [
        "model.forward"
      ],
      "metadata": {
        "colab": {
          "base_uri": "https://localhost:8080/"
        },
        "id": "heWBffJpevj7",
        "outputId": "492309e8-5323-4131-efc3-9f82fabf3ac7"
      },
      "execution_count": 251,
      "outputs": [
        {
          "output_type": "execute_result",
          "data": {
            "text/plain": [
              "<bound method LeNet.forward of LeNet(\n",
              "  (tanh): Tanh()\n",
              "  (pool): AvgPool2d(kernel_size=(2, 2), stride=(2, 2), padding=0)\n",
              "  (conv1): Conv2d(1, 6, kernel_size=(5, 5), stride=(1, 1), padding=(2, 2))\n",
              "  (conv2): Conv2d(6, 16, kernel_size=(5, 5), stride=(1, 1))\n",
              "  (conv3): Conv2d(16, 120, kernel_size=(5, 5), stride=(1, 1))\n",
              "  (linear1): Linear(in_features=120, out_features=84, bias=True)\n",
              "  (linear2): Linear(in_features=84, out_features=10, bias=True)\n",
              ")>"
            ]
          },
          "metadata": {},
          "execution_count": 251
        }
      ]
    },
    {
      "cell_type": "code",
      "source": [
        "## By default it is not runnning on CUDA\n",
        "next(model.parameters()).is_cuda"
      ],
      "metadata": {
        "colab": {
          "base_uri": "https://localhost:8080/"
        },
        "id": "e_aU9bIxe1HW",
        "outputId": "ba52c614-fccf-4418-d95d-2d27cf5fb492"
      },
      "execution_count": 252,
      "outputs": [
        {
          "output_type": "execute_result",
          "data": {
            "text/plain": [
              "False"
            ]
          },
          "metadata": {},
          "execution_count": 252
        }
      ]
    },
    {
      "cell_type": "code",
      "source": [
        "model.to(config.DEVICE)   ## calling config functions device variable to decide on device"
      ],
      "metadata": {
        "colab": {
          "base_uri": "https://localhost:8080/"
        },
        "id": "yIGDgWyjfBXT",
        "outputId": "70aaaf0c-aea6-4c88-bad7-5e683f705878"
      },
      "execution_count": 253,
      "outputs": [
        {
          "output_type": "execute_result",
          "data": {
            "text/plain": [
              "LeNet(\n",
              "  (tanh): Tanh()\n",
              "  (pool): AvgPool2d(kernel_size=(2, 2), stride=(2, 2), padding=0)\n",
              "  (conv1): Conv2d(1, 6, kernel_size=(5, 5), stride=(1, 1), padding=(2, 2))\n",
              "  (conv2): Conv2d(6, 16, kernel_size=(5, 5), stride=(1, 1))\n",
              "  (conv3): Conv2d(16, 120, kernel_size=(5, 5), stride=(1, 1))\n",
              "  (linear1): Linear(in_features=120, out_features=84, bias=True)\n",
              "  (linear2): Linear(in_features=84, out_features=10, bias=True)\n",
              ")"
            ]
          },
          "metadata": {},
          "execution_count": 253
        }
      ]
    },
    {
      "cell_type": "code",
      "source": [
        "## Now it will be running on CUDA/GPU\n",
        "next(model.parameters()).is_cuda"
      ],
      "metadata": {
        "colab": {
          "base_uri": "https://localhost:8080/"
        },
        "id": "e3AhZx5ZfRqH",
        "outputId": "ef84eb75-ce16-42ef-a084-9f2f10d746a2"
      },
      "execution_count": 254,
      "outputs": [
        {
          "output_type": "execute_result",
          "data": {
            "text/plain": [
              "True"
            ]
          },
          "metadata": {},
          "execution_count": 254
        }
      ]
    },
    {
      "cell_type": "markdown",
      "source": [
        "## Count the number of trainable paramters"
      ],
      "metadata": {
        "id": "bjhjK0o4fj1Y"
      }
    },
    {
      "cell_type": "code",
      "source": [
        "def count_params(model):\n",
        "  model_params= {\"Modules\":list(), \"Parameters\":list()}\n",
        "  total={\"trainable\":0, \"non-trainable\":0}\n",
        "\n",
        "  for name, parameters in model.named_parameters():\n",
        "    param = parameters.numel()\n",
        "\n",
        "    if not parameters.requires_grad:\n",
        "      total['non-trainable'] += param\n",
        "      continue\n",
        "    model_params[\"Modules\"].append(name)\n",
        "    model_params[\"Parameters\"].append(param)\n",
        "    total[\"trainable\"] += param\n",
        "\n",
        "  df=pd.DataFrame(model_params)\n",
        "  df=df.style.set_caption(f\" total parameters of the model : {total}\")\n",
        "  return df\n",
        "\n",
        "count_params(model)"
      ],
      "metadata": {
        "colab": {
          "base_uri": "https://localhost:8080/",
          "height": 415
        },
        "id": "GFea5kw-fd5b",
        "outputId": "99c01286-8b58-47e4-eab8-1d6522ebd320"
      },
      "execution_count": 255,
      "outputs": [
        {
          "output_type": "execute_result",
          "data": {
            "text/plain": [
              "<pandas.io.formats.style.Styler at 0x7f61316ad4d0>"
            ],
            "text/html": [
              "<style type=\"text/css\">\n",
              "</style>\n",
              "<table id=\"T_d871d_\" class=\"dataframe\">\n",
              "  <caption> total parameters of the model : {'trainable': 61706, 'non-trainable': 0}</caption>\n",
              "  <thead>\n",
              "    <tr>\n",
              "      <th class=\"blank level0\" >&nbsp;</th>\n",
              "      <th class=\"col_heading level0 col0\" >Modules</th>\n",
              "      <th class=\"col_heading level0 col1\" >Parameters</th>\n",
              "    </tr>\n",
              "  </thead>\n",
              "  <tbody>\n",
              "    <tr>\n",
              "      <th id=\"T_d871d_level0_row0\" class=\"row_heading level0 row0\" >0</th>\n",
              "      <td id=\"T_d871d_row0_col0\" class=\"data row0 col0\" >conv1.weight</td>\n",
              "      <td id=\"T_d871d_row0_col1\" class=\"data row0 col1\" >150</td>\n",
              "    </tr>\n",
              "    <tr>\n",
              "      <th id=\"T_d871d_level0_row1\" class=\"row_heading level0 row1\" >1</th>\n",
              "      <td id=\"T_d871d_row1_col0\" class=\"data row1 col0\" >conv1.bias</td>\n",
              "      <td id=\"T_d871d_row1_col1\" class=\"data row1 col1\" >6</td>\n",
              "    </tr>\n",
              "    <tr>\n",
              "      <th id=\"T_d871d_level0_row2\" class=\"row_heading level0 row2\" >2</th>\n",
              "      <td id=\"T_d871d_row2_col0\" class=\"data row2 col0\" >conv2.weight</td>\n",
              "      <td id=\"T_d871d_row2_col1\" class=\"data row2 col1\" >2400</td>\n",
              "    </tr>\n",
              "    <tr>\n",
              "      <th id=\"T_d871d_level0_row3\" class=\"row_heading level0 row3\" >3</th>\n",
              "      <td id=\"T_d871d_row3_col0\" class=\"data row3 col0\" >conv2.bias</td>\n",
              "      <td id=\"T_d871d_row3_col1\" class=\"data row3 col1\" >16</td>\n",
              "    </tr>\n",
              "    <tr>\n",
              "      <th id=\"T_d871d_level0_row4\" class=\"row_heading level0 row4\" >4</th>\n",
              "      <td id=\"T_d871d_row4_col0\" class=\"data row4 col0\" >conv3.weight</td>\n",
              "      <td id=\"T_d871d_row4_col1\" class=\"data row4 col1\" >48000</td>\n",
              "    </tr>\n",
              "    <tr>\n",
              "      <th id=\"T_d871d_level0_row5\" class=\"row_heading level0 row5\" >5</th>\n",
              "      <td id=\"T_d871d_row5_col0\" class=\"data row5 col0\" >conv3.bias</td>\n",
              "      <td id=\"T_d871d_row5_col1\" class=\"data row5 col1\" >120</td>\n",
              "    </tr>\n",
              "    <tr>\n",
              "      <th id=\"T_d871d_level0_row6\" class=\"row_heading level0 row6\" >6</th>\n",
              "      <td id=\"T_d871d_row6_col0\" class=\"data row6 col0\" >linear1.weight</td>\n",
              "      <td id=\"T_d871d_row6_col1\" class=\"data row6 col1\" >10080</td>\n",
              "    </tr>\n",
              "    <tr>\n",
              "      <th id=\"T_d871d_level0_row7\" class=\"row_heading level0 row7\" >7</th>\n",
              "      <td id=\"T_d871d_row7_col0\" class=\"data row7 col0\" >linear1.bias</td>\n",
              "      <td id=\"T_d871d_row7_col1\" class=\"data row7 col1\" >84</td>\n",
              "    </tr>\n",
              "    <tr>\n",
              "      <th id=\"T_d871d_level0_row8\" class=\"row_heading level0 row8\" >8</th>\n",
              "      <td id=\"T_d871d_row8_col0\" class=\"data row8 col0\" >linear2.weight</td>\n",
              "      <td id=\"T_d871d_row8_col1\" class=\"data row8 col1\" >840</td>\n",
              "    </tr>\n",
              "    <tr>\n",
              "      <th id=\"T_d871d_level0_row9\" class=\"row_heading level0 row9\" >9</th>\n",
              "      <td id=\"T_d871d_row9_col0\" class=\"data row9 col0\" >linear2.bias</td>\n",
              "      <td id=\"T_d871d_row9_col1\" class=\"data row9 col1\" >10</td>\n",
              "    </tr>\n",
              "  </tbody>\n",
              "</table>\n"
            ]
          },
          "metadata": {},
          "execution_count": 255
        }
      ]
    },
    {
      "cell_type": "markdown",
      "source": [
        "## Training "
      ],
      "metadata": {
        "id": "LabO3Bj1SUF-"
      }
    },
    {
      "cell_type": "code",
      "source": [
        "## We have 60000 training images and our batch size is 32 so\n",
        "60000/32\n",
        "# which is equal to 1875, which means we should have 1875 steps per epoch."
      ],
      "metadata": {
        "colab": {
          "base_uri": "https://localhost:8080/"
        },
        "id": "5Ma_lR4KPkeP",
        "outputId": "e91c7ce6-b27a-4922-9620-40155a503bc7"
      },
      "execution_count": 256,
      "outputs": [
        {
          "output_type": "execute_result",
          "data": {
            "text/plain": [
              "1875.0"
            ]
          },
          "metadata": {},
          "execution_count": 256
        }
      ]
    },
    {
      "cell_type": "code",
      "source": [
        "criterion = nn.CrossEntropyLoss()   ## defining our loss function\n",
        "optimizer = torch.optim.Adam(model.parameters(), lr = config.LEARNING_RATE)"
      ],
      "metadata": {
        "id": "zkB18SCyV7gE"
      },
      "execution_count": 257,
      "outputs": []
    },
    {
      "cell_type": "code",
      "source": [
        "len(training_data_loader)       ## Steps per epoch"
      ],
      "metadata": {
        "colab": {
          "base_uri": "https://localhost:8080/"
        },
        "id": "0YBBWnkPWSBD",
        "outputId": "636ad343-5745-4f8d-ba1a-44cf00ceed54"
      },
      "execution_count": 258,
      "outputs": [
        {
          "output_type": "execute_result",
          "data": {
            "text/plain": [
              "1875"
            ]
          },
          "metadata": {},
          "execution_count": 258
        }
      ]
    },
    {
      "cell_type": "code",
      "source": [
        "for epoch in range(config.EPOCH):\n",
        "  with tqdm(training_data_loader) as tqdm_epoch:\n",
        "    for images, labels in tqdm_epoch:\n",
        "      tqdm_epoch.set_description(f\"Epoch {epoch+1}/{config.EPOCH}\")\n",
        "\n",
        "      ## Put the images on the gpu memory\n",
        "      images = images.to(config.DEVICE)\n",
        "      labels = labels.to(config.DEVICE)\n",
        "\n",
        "      ##FORWARD PASS\n",
        "      outputs = model(images)\n",
        "      loss = criterion(outputs, labels)    ## as convention people write loss as criterion()\n",
        "\n",
        "      ## backward pass\n",
        "      optimizer.zero_grad()  ## we zero the gradient, so that it should not store any residual\n",
        "      loss.backward()       ## calculating the gradients of weights\n",
        "      optimizer.step()   ## Updating the weights\n",
        "\n",
        "\n",
        "      tqdm_epoch.set_postfix(loss = loss.item())    ## We do loss.item() because loss is a tensor element, in order to print the value of loss we have to call .item()"
      ],
      "metadata": {
        "id": "MQNyfJdCgzXB",
        "colab": {
          "base_uri": "https://localhost:8080/"
        },
        "outputId": "236550fb-f238-42ba-b1c5-a6921b4bd2c7"
      },
      "execution_count": 259,
      "outputs": [
        {
          "output_type": "stream",
          "name": "stderr",
          "text": [
            "Epoch 1/10: 100%|██████████| 1875/1875 [00:35<00:00, 52.26it/s, loss=0.28]\n",
            "Epoch 2/10: 100%|██████████| 1875/1875 [00:35<00:00, 52.79it/s, loss=0.0353]\n",
            "Epoch 3/10: 100%|██████████| 1875/1875 [00:35<00:00, 52.83it/s, loss=0.0842]\n",
            "Epoch 4/10: 100%|██████████| 1875/1875 [00:35<00:00, 52.63it/s, loss=0.329]\n",
            "Epoch 5/10: 100%|██████████| 1875/1875 [00:35<00:00, 52.65it/s, loss=0.0661]\n",
            "Epoch 6/10: 100%|██████████| 1875/1875 [00:35<00:00, 52.48it/s, loss=0.0765]\n",
            "Epoch 7/10: 100%|██████████| 1875/1875 [00:35<00:00, 52.76it/s, loss=0.141]\n",
            "Epoch 8/10: 100%|██████████| 1875/1875 [00:35<00:00, 52.40it/s, loss=0.0399]\n",
            "Epoch 9/10: 100%|██████████| 1875/1875 [00:35<00:00, 52.36it/s, loss=0.327]\n",
            "Epoch 10/10: 100%|██████████| 1875/1875 [00:35<00:00, 52.64it/s, loss=0.368]\n"
          ]
        }
      ]
    },
    {
      "cell_type": "markdown",
      "source": [
        "### Saving the model"
      ],
      "metadata": {
        "id": "YgH0WZxD0P2p"
      }
    },
    {
      "cell_type": "code",
      "source": [
        "os.makedirs(\"model_dir\", exist_ok=True)\n",
        "model_file_path = os.path.join(\"model_dir\",\"LeNet_CNN_Pytorch_mnist.pth\")\n",
        "torch.save(model,model_file_path)"
      ],
      "metadata": {
        "id": "LrASdyyZUd0R"
      },
      "execution_count": 260,
      "outputs": []
    },
    {
      "cell_type": "markdown",
      "source": [
        "### Loading the model"
      ],
      "metadata": {
        "id": "_fy_yCCZ9PnC"
      }
    },
    {
      "cell_type": "code",
      "source": [
        "loaded_model = torch.load(model_file_path)\n",
        "loaded_model.parameters"
      ],
      "metadata": {
        "colab": {
          "base_uri": "https://localhost:8080/"
        },
        "id": "MTKinanW9RtU",
        "outputId": "1e6fef67-94c5-49b1-efc2-761db79c391e"
      },
      "execution_count": 261,
      "outputs": [
        {
          "output_type": "execute_result",
          "data": {
            "text/plain": [
              "<bound method Module.parameters of LeNet(\n",
              "  (tanh): Tanh()\n",
              "  (pool): AvgPool2d(kernel_size=(2, 2), stride=(2, 2), padding=0)\n",
              "  (conv1): Conv2d(1, 6, kernel_size=(5, 5), stride=(1, 1), padding=(2, 2))\n",
              "  (conv2): Conv2d(6, 16, kernel_size=(5, 5), stride=(1, 1))\n",
              "  (conv3): Conv2d(16, 120, kernel_size=(5, 5), stride=(1, 1))\n",
              "  (linear1): Linear(in_features=120, out_features=84, bias=True)\n",
              "  (linear2): Linear(in_features=84, out_features=10, bias=True)\n",
              ")>"
            ]
          },
          "metadata": {},
          "execution_count": 261
        }
      ]
    },
    {
      "cell_type": "markdown",
      "source": [
        "### Evaluating the model"
      ],
      "metadata": {
        "id": "527_ilkL0SeG"
      }
    },
    {
      "cell_type": "code",
      "source": [
        "pred = np.array([])\n",
        "target = np.array([])\n",
        "\n",
        "with torch.no_grad():    ## because we are only doing forward pass to predict and not backward pass, hence no need of gradient calculation\n",
        "  for batch, data in enumerate(test_data_loader): # Since, enumerator returns the index and data. Hence, here index is the batch and data contains labels and images\n",
        "    images = data[0].to(config.DEVICE)     # converting the images for GPU\n",
        "    labels = data[1].to(config.DEVICE)\n",
        "\n",
        "    y_pred = model(images)\n",
        "\n",
        "    pred = np.concatenate((pred, torch.argmax(y_pred,1).cpu().numpy()))   ## we selected the probability of the highest class prediction using argmax, converted it into cpu as pred is a numpy array and then converted it into numpy()\n",
        "    target = np.concatenate((target, labels.cpu().numpy()))\n",
        "\n"
      ],
      "metadata": {
        "id": "x1TBbqdKWsFF"
      },
      "execution_count": 262,
      "outputs": []
    },
    {
      "cell_type": "code",
      "source": [
        "## Let's print the confusion matrix\n",
        "cm = confusion_matrix(target, pred)\n",
        "cm"
      ],
      "metadata": {
        "colab": {
          "base_uri": "https://localhost:8080/"
        },
        "id": "g3g884Otq6tw",
        "outputId": "debea8fc-4950-4b1a-e8e9-e0a14c5757e0"
      },
      "execution_count": 263,
      "outputs": [
        {
          "output_type": "execute_result",
          "data": {
            "text/plain": [
              "array([[ 965,    1,    2,    0,    0,    1,    1,    2,    8,    0],\n",
              "       [   0, 1101,    9,    0,    4,    0,    6,    1,   13,    1],\n",
              "       [   9,    2,  979,   13,    7,    0,    4,    3,   13,    2],\n",
              "       [   3,    0,   11,  959,    0,   13,    0,    4,   18,    2],\n",
              "       [   2,    0,    0,    0,  914,    0,   10,    0,    7,   49],\n",
              "       [   9,    0,    0,   20,    1,  838,    4,    3,   13,    4],\n",
              "       [  13,    3,    0,    0,    2,    6,  932,    0,    2,    0],\n",
              "       [   2,    3,   30,   11,    0,    0,    0,  945,    5,   32],\n",
              "       [   9,    1,    6,    7,    3,    6,    3,    0,  934,    5],\n",
              "       [   7,    2,    1,    2,    7,    5,    2,    2,   16,  965]])"
            ]
          },
          "metadata": {},
          "execution_count": 263
        }
      ]
    },
    {
      "cell_type": "code",
      "source": [
        "## Let's plot the confusion matrix\n",
        "plt.figure(figsize=(12,10))\n",
        "plt.title(\"Confusion matrix of mnist data using LeNet\")\n",
        "sns.heatmap(cm, annot = True,fmt='d', xticklabels=converted_label_map.values(), yticklabels=converted_label_map.values(), cbar = False)\n",
        "# "
      ],
      "metadata": {
        "colab": {
          "base_uri": "https://localhost:8080/",
          "height": 624
        },
        "id": "X1SGbLYqq_Er",
        "outputId": "ba9edf75-9d9e-4a58-e5dd-f22e8c500fec"
      },
      "execution_count": 264,
      "outputs": [
        {
          "output_type": "execute_result",
          "data": {
            "text/plain": [
              "<matplotlib.axes._subplots.AxesSubplot at 0x7f6131560050>"
            ]
          },
          "metadata": {},
          "execution_count": 264
        },
        {
          "output_type": "display_data",
          "data": {
            "text/plain": [
              "<Figure size 864x720 with 1 Axes>"
            ],
            "image/png": "[encoded data removed]"
          },
          "metadata": {
            "needs_background": "light"
          }
        }
      ]
    },
    {
      "cell_type": "code",
      "source": [
        "## checking the accuracy score\n",
        "Lenet_with_Tanh = accuracy_score(target, pred)\n",
        "Lenet_with_Tanh"
      ],
      "metadata": {
        "colab": {
          "base_uri": "https://localhost:8080/"
        },
        "id": "gWpHaE2SGss0",
        "outputId": "ccc9382a-9904-4338-c7e7-31533e0385d7"
      },
      "execution_count": 265,
      "outputs": [
        {
          "output_type": "execute_result",
          "data": {
            "text/plain": [
              "0.9532"
            ]
          },
          "metadata": {},
          "execution_count": 265
        }
      ]
    },
    {
      "cell_type": "markdown",
      "source": [
        "### Making our own predictions"
      ],
      "metadata": {
        "id": "f4kzo-LBVJWW"
      }
    },
    {
      "cell_type": "code",
      "source": [
        "data = next(iter(test_data_loader))    #As equvilent to writing--->  i[0] for i in test_data_loader\n",
        "data     ## It has two items, one is image matrix and other is labels"
      ],
      "metadata": {
        "id": "H8-eNEntGzlb",
        "colab": {
          "base_uri": "https://localhost:8080/"
        },
        "outputId": "9c692479-fc88-4ae6-e0aa-ce35d79237f0"
      },
      "execution_count": 266,
      "outputs": [
        {
          "output_type": "execute_result",
          "data": {
            "text/plain": [
              "[tensor([[[[0., 0., 0.,  ..., 0., 0., 0.],\n",
              "           [0., 0., 0.,  ..., 0., 0., 0.],\n",
              "           [0., 0., 0.,  ..., 0., 0., 0.],\n",
              "           ...,\n",
              "           [0., 0., 0.,  ..., 0., 0., 0.],\n",
              "           [0., 0., 0.,  ..., 0., 0., 0.],\n",
              "           [0., 0., 0.,  ..., 0., 0., 0.]]],\n",
              " \n",
              " \n",
              "         [[[0., 0., 0.,  ..., 0., 0., 0.],\n",
              "           [0., 0., 0.,  ..., 0., 0., 0.],\n",
              "           [0., 0., 0.,  ..., 0., 0., 0.],\n",
              "           ...,\n",
              "           [0., 0., 0.,  ..., 0., 0., 0.],\n",
              "           [0., 0., 0.,  ..., 0., 0., 0.],\n",
              "           [0., 0., 0.,  ..., 0., 0., 0.]]],\n",
              " \n",
              " \n",
              "         [[[0., 0., 0.,  ..., 0., 0., 0.],\n",
              "           [0., 0., 0.,  ..., 0., 0., 0.],\n",
              "           [0., 0., 0.,  ..., 0., 0., 0.],\n",
              "           ...,\n",
              "           [0., 0., 0.,  ..., 0., 0., 0.],\n",
              "           [0., 0., 0.,  ..., 0., 0., 0.],\n",
              "           [0., 0., 0.,  ..., 0., 0., 0.]]],\n",
              " \n",
              " \n",
              "         ...,\n",
              " \n",
              " \n",
              "         [[[0., 0., 0.,  ..., 0., 0., 0.],\n",
              "           [0., 0., 0.,  ..., 0., 0., 0.],\n",
              "           [0., 0., 0.,  ..., 0., 0., 0.],\n",
              "           ...,\n",
              "           [0., 0., 0.,  ..., 0., 0., 0.],\n",
              "           [0., 0., 0.,  ..., 0., 0., 0.],\n",
              "           [0., 0., 0.,  ..., 0., 0., 0.]]],\n",
              " \n",
              " \n",
              "         [[[0., 0., 0.,  ..., 0., 0., 0.],\n",
              "           [0., 0., 0.,  ..., 0., 0., 0.],\n",
              "           [0., 0., 0.,  ..., 0., 0., 0.],\n",
              "           ...,\n",
              "           [0., 0., 0.,  ..., 0., 0., 0.],\n",
              "           [0., 0., 0.,  ..., 0., 0., 0.],\n",
              "           [0., 0., 0.,  ..., 0., 0., 0.]]],\n",
              " \n",
              " \n",
              "         [[[0., 0., 0.,  ..., 0., 0., 0.],\n",
              "           [0., 0., 0.,  ..., 0., 0., 0.],\n",
              "           [0., 0., 0.,  ..., 0., 0., 0.],\n",
              "           ...,\n",
              "           [0., 0., 0.,  ..., 0., 0., 0.],\n",
              "           [0., 0., 0.,  ..., 0., 0., 0.],\n",
              "           [0., 0., 0.,  ..., 0., 0., 0.]]]]),\n",
              " tensor([7, 2, 1, 0, 4, 1, 4, 9, 5, 9, 0, 6, 9, 0, 1, 5, 9, 7, 3, 4, 9, 6, 6, 5,\n",
              "         4, 0, 7, 4, 0, 1, 3, 1])]"
            ]
          },
          "metadata": {},
          "execution_count": 266
        }
      ]
    },
    {
      "cell_type": "code",
      "source": [
        "len(data)   ### It has two items, one is image matrix and other is labels"
      ],
      "metadata": {
        "colab": {
          "base_uri": "https://localhost:8080/"
        },
        "id": "zbwL4DIRVT-2",
        "outputId": "c76f126b-666b-471f-9ea2-b2db2d866736"
      },
      "execution_count": 267,
      "outputs": [
        {
          "output_type": "execute_result",
          "data": {
            "text/plain": [
              "2"
            ]
          },
          "metadata": {},
          "execution_count": 267
        }
      ]
    },
    {
      "cell_type": "code",
      "source": [
        "images, label = data\n",
        "images.shape    ## Since, we have 32 images in one batch"
      ],
      "metadata": {
        "colab": {
          "base_uri": "https://localhost:8080/"
        },
        "id": "JglAFiICVoaF",
        "outputId": "ee3c5b88-6d15-47cc-80a0-20485b5a9684"
      },
      "execution_count": 268,
      "outputs": [
        {
          "output_type": "execute_result",
          "data": {
            "text/plain": [
              "torch.Size([32, 1, 28, 28])"
            ]
          },
          "metadata": {},
          "execution_count": 268
        }
      ]
    },
    {
      "cell_type": "code",
      "source": [
        "label.shape"
      ],
      "metadata": {
        "colab": {
          "base_uri": "https://localhost:8080/"
        },
        "id": "58LVBniOVwdh",
        "outputId": "6741082b-94cf-4e8e-ceef-7b63902836e3"
      },
      "execution_count": 269,
      "outputs": [
        {
          "output_type": "execute_result",
          "data": {
            "text/plain": [
              "torch.Size([32])"
            ]
          },
          "metadata": {},
          "execution_count": 269
        }
      ]
    },
    {
      "cell_type": "code",
      "source": [
        "## Let;s display any of the random image \n",
        "img = images[3]\n",
        "img"
      ],
      "metadata": {
        "colab": {
          "base_uri": "https://localhost:8080/"
        },
        "id": "ROXDMoEEV3ow",
        "outputId": "cfe6cfb5-b47e-43ae-e00e-02e1c2e5ba9e"
      },
      "execution_count": 270,
      "outputs": [
        {
          "output_type": "execute_result",
          "data": {
            "text/plain": [
              "tensor([[[0.0000, 0.0000, 0.0000, 0.0000, 0.0000, 0.0000, 0.0000, 0.0000,\n",
              "          0.0000, 0.0000, 0.0000, 0.0000, 0.0000, 0.0000, 0.0000, 0.0000,\n",
              "          0.0000, 0.0000, 0.0000, 0.0000, 0.0000, 0.0000, 0.0000, 0.0000,\n",
              "          0.0000, 0.0000, 0.0000, 0.0000],\n",
              "         [0.0000, 0.0000, 0.0000, 0.0000, 0.0000, 0.0000, 0.0000, 0.0000,\n",
              "          0.0000, 0.0000, 0.0000, 0.0000, 0.0000, 0.0000, 0.0000, 0.0000,\n",
              "          0.0000, 0.0000, 0.0000, 0.0000, 0.0000, 0.0000, 0.0000, 0.0000,\n",
              "          0.0000, 0.0000, 0.0000, 0.0000],\n",
              "         [0.0000, 0.0000, 0.0000, 0.0000, 0.0000, 0.0000, 0.0000, 0.0000,\n",
              "          0.0000, 0.0000, 0.0000, 0.0000, 0.0000, 0.0000, 0.0000, 0.0000,\n",
              "          0.0000, 0.0000, 0.0000, 0.0000, 0.0000, 0.0000, 0.0000, 0.0000,\n",
              "          0.0000, 0.0000, 0.0000, 0.0000],\n",
              "         [0.0000, 0.0000, 0.0000, 0.0000, 0.0000, 0.0000, 0.0000, 0.0000,\n",
              "          0.0000, 0.0000, 0.0000, 0.0000, 0.0000, 0.0000, 0.0000, 0.0000,\n",
              "          0.0000, 0.0000, 0.0000, 0.0000, 0.0000, 0.0000, 0.0000, 0.0000,\n",
              "          0.0000, 0.0000, 0.0000, 0.0000],\n",
              "         [0.0000, 0.0000, 0.0000, 0.0000, 0.0000, 0.0000, 0.0000, 0.0000,\n",
              "          0.0000, 0.0000, 0.0000, 0.0000, 0.0431, 0.5882, 0.9922, 0.7922,\n",
              "          0.1216, 0.0000, 0.0000, 0.0000, 0.0000, 0.0000, 0.0000, 0.0000,\n",
              "          0.0000, 0.0000, 0.0000, 0.0000],\n",
              "         [0.0000, 0.0000, 0.0000, 0.0000, 0.0000, 0.0000, 0.0000, 0.0000,\n",
              "          0.0000, 0.0000, 0.0000, 0.0000, 0.1451, 0.9843, 0.9843, 0.9922,\n",
              "          0.4196, 0.0000, 0.0000, 0.0000, 0.0000, 0.0000, 0.0000, 0.0000,\n",
              "          0.0000, 0.0000, 0.0000, 0.0000],\n",
              "         [0.0000, 0.0000, 0.0000, 0.0000, 0.0000, 0.0000, 0.0000, 0.0000,\n",
              "          0.0000, 0.0000, 0.0000, 0.0824, 0.7725, 0.9843, 0.9843, 0.9922,\n",
              "          0.4196, 0.0000, 0.0000, 0.0000, 0.0000, 0.0000, 0.0000, 0.0000,\n",
              "          0.0000, 0.0000, 0.0000, 0.0000],\n",
              "         [0.0000, 0.0000, 0.0000, 0.0000, 0.0000, 0.0000, 0.0000, 0.0000,\n",
              "          0.0000, 0.0000, 0.4314, 0.7451, 0.9843, 0.9843, 0.9843, 0.9922,\n",
              "          0.6627, 0.4275, 0.2431, 0.0000, 0.0000, 0.0000, 0.0000, 0.0000,\n",
              "          0.0000, 0.0000, 0.0000, 0.0000],\n",
              "         [0.0000, 0.0000, 0.0000, 0.0000, 0.0000, 0.0000, 0.0000, 0.0000,\n",
              "          0.0000, 0.0000, 0.9922, 0.9843, 0.9843, 0.9843, 0.9843, 0.9922,\n",
              "          0.9843, 0.9843, 0.8627, 0.2000, 0.0000, 0.0000, 0.0000, 0.0000,\n",
              "          0.0000, 0.0000, 0.0000, 0.0000],\n",
              "         [0.0000, 0.0000, 0.0000, 0.0000, 0.0000, 0.0000, 0.0000, 0.0000,\n",
              "          0.0000, 0.7137, 1.0000, 0.9922, 0.9922, 0.9922, 0.9922, 0.9176,\n",
              "          0.8706, 0.9922, 0.9922, 0.9922, 0.0000, 0.0000, 0.0000, 0.0000,\n",
              "          0.0000, 0.0000, 0.0000, 0.0000],\n",
              "         [0.0000, 0.0000, 0.0000, 0.0000, 0.0000, 0.0000, 0.0000, 0.0000,\n",
              "          0.2471, 0.8667, 0.9922, 0.9843, 0.9843, 0.9843, 0.5765, 0.3020,\n",
              "          0.2431, 0.5020, 0.9843, 0.9843, 0.4118, 0.0000, 0.0000, 0.0000,\n",
              "          0.0000, 0.0000, 0.0000, 0.0000],\n",
              "         [0.0000, 0.0000, 0.0000, 0.0000, 0.0000, 0.0000, 0.0000, 0.1255,\n",
              "          0.9059, 0.9843, 0.9922, 0.9843, 0.8627, 0.5373, 0.0392, 0.0000,\n",
              "          0.0000, 0.1216, 0.9020, 0.9843, 0.9529, 0.4431, 0.0196, 0.0000,\n",
              "          0.0000, 0.0000, 0.0000, 0.0000],\n",
              "         [0.0000, 0.0000, 0.0000, 0.0000, 0.0000, 0.0000, 0.0000, 0.1451,\n",
              "          0.9843, 0.9843, 0.9922, 0.7373, 0.0784, 0.0000, 0.0000, 0.0000,\n",
              "          0.0000, 0.0000, 0.4275, 0.9843, 0.9922, 0.9843, 0.1373, 0.0000,\n",
              "          0.0000, 0.0000, 0.0000, 0.0000],\n",
              "         [0.0000, 0.0000, 0.0000, 0.0000, 0.0000, 0.0000, 0.0000, 0.1451,\n",
              "          0.9843, 0.9843, 0.7882, 0.1176, 0.0000, 0.0000, 0.0000, 0.0000,\n",
              "          0.0000, 0.0000, 0.1216, 0.7843, 0.9922, 0.9843, 0.1373, 0.0000,\n",
              "          0.0000, 0.0000, 0.0000, 0.0000],\n",
              "         [0.0000, 0.0000, 0.0000, 0.0000, 0.0000, 0.0000, 0.0000, 0.1451,\n",
              "          0.9922, 0.9922, 0.0000, 0.0000, 0.0000, 0.0000, 0.0000, 0.0000,\n",
              "          0.0000, 0.0000, 0.1255, 0.7922, 1.0000, 0.9922, 0.6431, 0.0000,\n",
              "          0.0000, 0.0000, 0.0000, 0.0000],\n",
              "         [0.0000, 0.0000, 0.0000, 0.0000, 0.0000, 0.0000, 0.0000, 0.5490,\n",
              "          0.9843, 0.9843, 0.0000, 0.0000, 0.0000, 0.0000, 0.0000, 0.0000,\n",
              "          0.0000, 0.0000, 0.4275, 0.9843, 0.9922, 0.9843, 0.1373, 0.0000,\n",
              "          0.0000, 0.0000, 0.0000, 0.0000],\n",
              "         [0.0000, 0.0000, 0.0000, 0.0000, 0.0000, 0.0000, 0.0000, 0.8510,\n",
              "          0.9843, 0.9843, 0.0000, 0.0000, 0.0000, 0.0000, 0.0000, 0.0000,\n",
              "          0.0824, 0.2471, 0.9059, 0.9843, 0.9922, 0.9020, 0.1176, 0.0000,\n",
              "          0.0000, 0.0000, 0.0000, 0.0000],\n",
              "         [0.0000, 0.0000, 0.0000, 0.0000, 0.0000, 0.0000, 0.0000, 0.8510,\n",
              "          0.9843, 0.9843, 0.0000, 0.0000, 0.0000, 0.0000, 0.0000, 0.0000,\n",
              "          0.5647, 0.9843, 0.9843, 0.9843, 0.8667, 0.2392, 0.0000, 0.0000,\n",
              "          0.0000, 0.0000, 0.0000, 0.0000],\n",
              "         [0.0000, 0.0000, 0.0000, 0.0000, 0.0000, 0.0000, 0.0000, 0.8510,\n",
              "          0.9843, 0.9843, 0.0000, 0.0000, 0.0000, 0.0000, 0.0000, 0.7137,\n",
              "          0.8667, 0.9843, 0.9843, 0.9843, 0.7059, 0.0000, 0.0000, 0.0000,\n",
              "          0.0000, 0.0000, 0.0000, 0.0000],\n",
              "         [0.0000, 0.0000, 0.0000, 0.0000, 0.0000, 0.0000, 0.0000, 0.8549,\n",
              "          0.9922, 0.9922, 0.2863, 0.2863, 0.8941, 0.9922, 0.9922, 1.0000,\n",
              "          0.9922, 0.9922, 0.9922, 0.9922, 0.0000, 0.0000, 0.0000, 0.0000,\n",
              "          0.0000, 0.0000, 0.0000, 0.0000],\n",
              "         [0.0000, 0.0000, 0.0000, 0.0000, 0.0000, 0.0000, 0.0000, 0.4431,\n",
              "          0.9843, 0.9843, 0.9922, 0.9843, 0.9843, 0.9843, 0.9843, 0.9922,\n",
              "          0.9843, 0.9843, 0.9843, 0.5765, 0.0000, 0.0000, 0.0000, 0.0000,\n",
              "          0.0000, 0.0000, 0.0000, 0.0000],\n",
              "         [0.0000, 0.0000, 0.0000, 0.0000, 0.0000, 0.0000, 0.0000, 0.1216,\n",
              "          0.9020, 0.9843, 0.9922, 0.9843, 0.9843, 0.9843, 0.9843, 0.9922,\n",
              "          0.9020, 0.7412, 0.1373, 0.0392, 0.0000, 0.0000, 0.0000, 0.0000,\n",
              "          0.0000, 0.0000, 0.0000, 0.0000],\n",
              "         [0.0000, 0.0000, 0.0000, 0.0000, 0.0000, 0.0000, 0.0000, 0.0000,\n",
              "          0.2431, 0.5569, 0.9922, 0.9843, 0.9843, 0.9843, 0.9843, 0.9922,\n",
              "          0.4196, 0.0000, 0.0000, 0.0000, 0.0000, 0.0000, 0.0000, 0.0000,\n",
              "          0.0000, 0.0000, 0.0000, 0.0000],\n",
              "         [0.0000, 0.0000, 0.0000, 0.0000, 0.0000, 0.0000, 0.0000, 0.0000,\n",
              "          0.0000, 0.0000, 0.2824, 0.6824, 0.9843, 0.6784, 0.2784, 0.2824,\n",
              "          0.1176, 0.0000, 0.0000, 0.0000, 0.0000, 0.0000, 0.0000, 0.0000,\n",
              "          0.0000, 0.0000, 0.0000, 0.0000],\n",
              "         [0.0000, 0.0000, 0.0000, 0.0000, 0.0000, 0.0000, 0.0000, 0.0000,\n",
              "          0.0000, 0.0000, 0.0000, 0.0000, 0.0000, 0.0000, 0.0000, 0.0000,\n",
              "          0.0000, 0.0000, 0.0000, 0.0000, 0.0000, 0.0000, 0.0000, 0.0000,\n",
              "          0.0000, 0.0000, 0.0000, 0.0000],\n",
              "         [0.0000, 0.0000, 0.0000, 0.0000, 0.0000, 0.0000, 0.0000, 0.0000,\n",
              "          0.0000, 0.0000, 0.0000, 0.0000, 0.0000, 0.0000, 0.0000, 0.0000,\n",
              "          0.0000, 0.0000, 0.0000, 0.0000, 0.0000, 0.0000, 0.0000, 0.0000,\n",
              "          0.0000, 0.0000, 0.0000, 0.0000],\n",
              "         [0.0000, 0.0000, 0.0000, 0.0000, 0.0000, 0.0000, 0.0000, 0.0000,\n",
              "          0.0000, 0.0000, 0.0000, 0.0000, 0.0000, 0.0000, 0.0000, 0.0000,\n",
              "          0.0000, 0.0000, 0.0000, 0.0000, 0.0000, 0.0000, 0.0000, 0.0000,\n",
              "          0.0000, 0.0000, 0.0000, 0.0000],\n",
              "         [0.0000, 0.0000, 0.0000, 0.0000, 0.0000, 0.0000, 0.0000, 0.0000,\n",
              "          0.0000, 0.0000, 0.0000, 0.0000, 0.0000, 0.0000, 0.0000, 0.0000,\n",
              "          0.0000, 0.0000, 0.0000, 0.0000, 0.0000, 0.0000, 0.0000, 0.0000,\n",
              "          0.0000, 0.0000, 0.0000, 0.0000]]])"
            ]
          },
          "metadata": {},
          "execution_count": 270
        }
      ]
    },
    {
      "cell_type": "code",
      "source": [
        "## We will require to squeeze the image here as it has rgb channel value as well and matplotlib doesn't recognize that\n",
        "print(img.squeeze().shape)\n",
        "plt.imshow(img.squeeze(), cmap = \"gray\")"
      ],
      "metadata": {
        "colab": {
          "base_uri": "https://localhost:8080/",
          "height": 300
        },
        "id": "fTI7MlHcX0Gi",
        "outputId": "8c045a75-bd8c-42f5-e95f-f37e82b28eb0"
      },
      "execution_count": 271,
      "outputs": [
        {
          "output_type": "stream",
          "name": "stdout",
          "text": [
            "torch.Size([28, 28])\n"
          ]
        },
        {
          "output_type": "execute_result",
          "data": {
            "text/plain": [
              "<matplotlib.image.AxesImage at 0x7f6131321110>"
            ]
          },
          "metadata": {},
          "execution_count": 271
        },
        {
          "output_type": "display_data",
          "data": {
            "text/plain": [
              "<Figure size 432x288 with 1 Axes>"
            ],
            "image/png": "[encoded data removed]"
          },
          "metadata": {
            "needs_background": "light"
          }
        }
      ]
    },
    {
      "cell_type": "code",
      "source": [
        "## Now let's retrieve the label value of the above image\n",
        "num = label[3]\n",
        "num"
      ],
      "metadata": {
        "colab": {
          "base_uri": "https://localhost:8080/"
        },
        "id": "ley8eNHzX5Bz",
        "outputId": "0f0862b9-b69e-449c-9485-967625582c67"
      },
      "execution_count": 272,
      "outputs": [
        {
          "output_type": "execute_result",
          "data": {
            "text/plain": [
              "tensor(0)"
            ]
          },
          "metadata": {},
          "execution_count": 272
        }
      ]
    },
    {
      "cell_type": "markdown",
      "source": [
        "#### cloth_type has returned one but in tensor format so we have to use .item() to get the numeric value"
      ],
      "metadata": {
        "id": "cd6iw12nYuMk"
      }
    },
    {
      "cell_type": "code",
      "source": [
        "num.item()"
      ],
      "metadata": {
        "colab": {
          "base_uri": "https://localhost:8080/"
        },
        "id": "bZiaGlHNY4I8",
        "outputId": "0875bc85-ae9a-43ea-c091-cf66e104db9a"
      },
      "execution_count": 273,
      "outputs": [
        {
          "output_type": "execute_result",
          "data": {
            "text/plain": [
              "0"
            ]
          },
          "metadata": {},
          "execution_count": 273
        }
      ]
    },
    {
      "cell_type": "markdown",
      "source": [
        "#### Now cloth_type has returned us the number but we don't know what does the 1 indicate, so we will retrieve it from the converted_label_map"
      ],
      "metadata": {
        "id": "Za8hhw5wY8dl"
      }
    },
    {
      "cell_type": "code",
      "source": [
        "converted_label_map[num.item()]"
      ],
      "metadata": {
        "colab": {
          "base_uri": "https://localhost:8080/",
          "height": 35
        },
        "id": "giAFKETcY6lj",
        "outputId": "b349af3c-bcc3-47b2-ae74-24c918424bf2"
      },
      "execution_count": 274,
      "outputs": [
        {
          "output_type": "execute_result",
          "data": {
            "text/plain": [
              "'0 - zero'"
            ],
            "application/vnd.google.colaboratory.intrinsic+json": {
              "type": "string"
            }
          },
          "metadata": {},
          "execution_count": 274
        }
      ]
    },
    {
      "cell_type": "code",
      "source": [
        "## In order to pass image to the model for the prediction, we need to unsqueeze it and add batch to it and then convert it into the cuda as our model is built on cuda and only works on cuda\n",
        "img.unsqueeze(dim=1).shape"
      ],
      "metadata": {
        "colab": {
          "base_uri": "https://localhost:8080/"
        },
        "id": "vq7zRnBQZNnO",
        "outputId": "5d641248-6738-4302-d6bc-7b54a4cd0312"
      },
      "execution_count": 275,
      "outputs": [
        {
          "output_type": "execute_result",
          "data": {
            "text/plain": [
              "torch.Size([1, 1, 28, 28])"
            ]
          },
          "metadata": {},
          "execution_count": 275
        }
      ]
    },
    {
      "cell_type": "code",
      "source": [
        "logit = model(img.unsqueeze(dim=1).to(config.DEVICE))\n",
        "logit"
      ],
      "metadata": {
        "colab": {
          "base_uri": "https://localhost:8080/"
        },
        "id": "n_tP0AWueKxS",
        "outputId": "ff332f69-8f65-4802-e933-56c8f382d574"
      },
      "execution_count": 276,
      "outputs": [
        {
          "output_type": "execute_result",
          "data": {
            "text/plain": [
              "tensor([[14.0746, -3.1550,  0.5755, -5.2554, -3.1598,  4.4666,  2.5277, -0.7867,\n",
              "         -4.4694,  0.2420]], device='cuda:0', grad_fn=<AddmmBackward0>)"
            ]
          },
          "metadata": {},
          "execution_count": 276
        }
      ]
    },
    {
      "cell_type": "code",
      "source": [
        "## If we sum all the values retured by our model which is stored in logit named tensor, we will see that sum is not equal to 1.\n",
        "sum( [1.1486,   15.8646,   -4.6792,    1.2059,    2.6057,  -19.1494,\n",
        "           -2.5345, -168.9294,  -25.0900,  -17.0688])\n",
        "\n",
        "## So we have to convert these values from the activation function which we used in the last layer or our CNN, and as we know the last layer for classification is softmax"
      ],
      "metadata": {
        "colab": {
          "base_uri": "https://localhost:8080/"
        },
        "id": "3H3MjMgwebOJ",
        "outputId": "68f198aa-b818-4d9d-964a-48d24a43ebde"
      },
      "execution_count": 277,
      "outputs": [
        {
          "output_type": "execute_result",
          "data": {
            "text/plain": [
              "-216.6265"
            ]
          },
          "metadata": {},
          "execution_count": 277
        }
      ]
    },
    {
      "cell_type": "code",
      "source": [
        "pred_prob = f.softmax(logit, dim =1)\n",
        "pred_prob"
      ],
      "metadata": {
        "colab": {
          "base_uri": "https://localhost:8080/"
        },
        "id": "JJjr84Bffnm8",
        "outputId": "ef82603a-33ed-4b27-9b53-d642255ce982"
      },
      "execution_count": 278,
      "outputs": [
        {
          "output_type": "execute_result",
          "data": {
            "text/plain": [
              "tensor([[9.9992e-01, 3.2904e-08, 1.3721e-06, 4.0277e-09, 3.2746e-08, 6.7183e-05,\n",
              "         9.6656e-06, 3.5139e-07, 8.8389e-09, 9.8298e-07]], device='cuda:0',\n",
              "       grad_fn=<SoftmaxBackward0>)"
            ]
          },
          "metadata": {},
          "execution_count": 278
        }
      ]
    },
    {
      "cell_type": "code",
      "source": [
        "## Now let's do the sum and we will find that it is equal to one which was our label.\n",
        "sum([4.0634e-07, 1.0000e+00, 1.1965e-09, 4.3033e-07, 1.7447e-06, 6.2172e-16,\n",
        "         1.0218e-08, 0.0000e+00, 1.6353e-18, 4.9796e-15])"
      ],
      "metadata": {
        "colab": {
          "base_uri": "https://localhost:8080/"
        },
        "id": "fimNag4ogdob",
        "outputId": "a19a4672-fbd1-4c2a-d87e-663259332fea"
      },
      "execution_count": 279,
      "outputs": [
        {
          "output_type": "execute_result",
          "data": {
            "text/plain": [
              "1.0000025927845058"
            ]
          },
          "metadata": {},
          "execution_count": 279
        }
      ]
    },
    {
      "cell_type": "code",
      "source": [
        "## Finding the maximum probablity of which label\n",
        "max_prob = torch.argmax(pred_prob).item()\n",
        "max_prob"
      ],
      "metadata": {
        "colab": {
          "base_uri": "https://localhost:8080/"
        },
        "id": "3EqW5lshgmnf",
        "outputId": "6aad925c-66fc-441e-dcc9-deb8179397e1"
      },
      "execution_count": 280,
      "outputs": [
        {
          "output_type": "execute_result",
          "data": {
            "text/plain": [
              "0"
            ]
          },
          "metadata": {},
          "execution_count": 280
        }
      ]
    },
    {
      "cell_type": "code",
      "source": [
        "## passing the label value into the label dictionary\n",
        "converted_label_map[max_prob]"
      ],
      "metadata": {
        "colab": {
          "base_uri": "https://localhost:8080/",
          "height": 35
        },
        "id": "qFlQWHtBgz8K",
        "outputId": "50d998a5-7566-4dfa-e1a6-def9d9e0bd9e"
      },
      "execution_count": 281,
      "outputs": [
        {
          "output_type": "execute_result",
          "data": {
            "text/plain": [
              "'0 - zero'"
            ],
            "application/vnd.google.colaboratory.intrinsic+json": {
              "type": "string"
            }
          },
          "metadata": {},
          "execution_count": 281
        }
      ]
    },
    {
      "cell_type": "markdown",
      "source": [
        "## Let's create a function to predict the labels when images provided to the model"
      ],
      "metadata": {
        "id": "RhC0hUNThhWi"
      }
    },
    {
      "cell_type": "code",
      "source": [
        "def predict(data, model,device,label_map,index=0):\n",
        "  images, labels = data\n",
        "  img = images[index]\n",
        "  label = labels[index]\n",
        "\n",
        "  plt.imshow(img.squeeze(), cmap='gray')\n",
        "  logit = model(img.unsqueeze(dim = 1).to(device))\n",
        "  pred_prob = f.softmax(logit, dim=1)\n",
        "  max_prob = torch.argmax(pred_prob).item()\n",
        "\n",
        "  predicted_label = label_map[max_prob]\n",
        "  actual_label = label_map[label.item()]\n",
        "\n",
        "\n",
        "  plt.title(f\"Actual label = {actual_label}, Predicted label = {predicted_label}\")\n",
        "  plt.show()"
      ],
      "metadata": {
        "id": "X78SA_IEhl3Z"
      },
      "execution_count": 282,
      "outputs": []
    },
    {
      "cell_type": "code",
      "source": [
        "predict(data,model,config.DEVICE, converted_label_map, index = 10)"
      ],
      "metadata": {
        "colab": {
          "base_uri": "https://localhost:8080/",
          "height": 281
        },
        "id": "1OU0-s60jyFl",
        "outputId": "5ebd79b8-6661-4a5b-c6d6-1a2a8fe25dd1"
      },
      "execution_count": 283,
      "outputs": [
        {
          "output_type": "display_data",
          "data": {
            "text/plain": [
              "<Figure size 432x288 with 1 Axes>"
            ],
            "image/png": "[encoded data removed]"
          },
          "metadata": {
            "needs_background": "light"
          }
        }
      ]
    },
    {
      "cell_type": "code",
      "source": [
        "for i in range(32):\n",
        "  predict(data,model,config.DEVICE, converted_label_map, index = i)"
      ],
      "metadata": {
        "colab": {
          "base_uri": "https://localhost:8080/",
          "height": 1000
        },
        "id": "tagEkJBTj3D0",
        "outputId": "3d59cdd8-6909-44b5-b55d-cf99715750a0"
      },
      "execution_count": 284,
      "outputs": [
        {
          "output_type": "display_data",
          "data": {
            "text/plain": [
              "<Figure size 432x288 with 1 Axes>"
            ],
            "image/png": "[encoded data removed]"
          },
          "metadata": {
            "needs_background": "light"
          }
        },
        {
          "output_type": "display_data",
          "data": {
            "text/plain": [
              "<Figure size 432x288 with 1 Axes>"
            ],
            "image/png": "[encoded data removed]"
          },
          "metadata": {
            "needs_background": "light"
          }
        },
        {
          "output_type": "display_data",
          "data": {
            "text/plain": [
              "<Figure size 432x288 with 1 Axes>"
            ],
            "image/png": "[encoded data removed]"
          },
          "metadata": {
            "needs_background": "light"
          }
        },
        {
          "output_type": "display_data",
          "data": {
            "text/plain": [
              "<Figure size 432x288 with 1 Axes>"
            ],
            "image/png": "[encoded data removed]"
          },
          "metadata": {
            "needs_background": "light"
          }
        },
        {
          "output_type": "display_data",
          "data": {
            "text/plain": [
              "<Figure size 432x288 with 1 Axes>"
            ],
            "image/png": "[encoded data removed]"
          },
          "metadata": {
            "needs_background": "light"
          }
        },
        {
          "output_type": "display_data",
          "data": {
            "text/plain": [
              "<Figure size 432x288 with 1 Axes>"
            ],
            "image/png": "[encoded data removed]"
          },
          "metadata": {
            "needs_background": "light"
          }
        },
        {
          "output_type": "display_data",
          "data": {
            "text/plain": [
              "<Figure size 432x288 with 1 Axes>"
            ],
            "image/png": "[encoded data removed]"
          },
          "metadata": {
            "needs_background": "light"
          }
        },
        {
          "output_type": "display_data",
          "data": {
            "text/plain": [
              "<Figure size 432x288 with 1 Axes>"
            ],
            "image/png": "[encoded data removed]"
          },
          "metadata": {
            "needs_background": "light"
          }
        },
        {
          "output_type": "display_data",
          "data": {
            "text/plain": [
              "<Figure size 432x288 with 1 Axes>"
            ],
            "image/png": "[encoded data removed]"
          },
          "metadata": {
            "needs_background": "light"
          }
        },
        {
          "output_type": "display_data",
          "data": {
            "text/plain": [
              "<Figure size 432x288 with 1 Axes>"
            ],
            "image/png": "[encoded data removed]"
          },
          "metadata": {
            "needs_background": "light"
          }
        },
        {
          "output_type": "display_data",
          "data": {
            "text/plain": [
              "<Figure size 432x288 with 1 Axes>"
            ],
            "image/png": "[encoded data removed]"
          },
          "metadata": {
            "needs_background": "light"
          }
        },
        {
          "output_type": "display_data",
          "data": {
            "text/plain": [
              "<Figure size 432x288 with 1 Axes>"
            ],
            "image/png": "[encoded data removed]"
          },
          "metadata": {
            "needs_background": "light"
          }
        },
        {
          "output_type": "display_data",
          "data": {
            "text/plain": [
              "<Figure size 432x288 with 1 Axes>"
            ],
            "image/png": "[encoded data removed]"
          },
          "metadata": {
            "needs_background": "light"
          }
        },
        {
          "output_type": "display_data",
          "data": {
            "text/plain": [
              "<Figure size 432x288 with 1 Axes>"
            ],
            "image/png": "[encoded data removed]"
          },
          "metadata": {
            "needs_background": "light"
          }
        },
        {
          "output_type": "display_data",
          "data": {
            "text/plain": [
              "<Figure size 432x288 with 1 Axes>"
            ],
            "image/png": "[encoded data removed]"
          },
          "metadata": {
            "needs_background": "light"
          }
        },
        {
          "output_type": "display_data",
          "data": {
            "text/plain": [
              "<Figure size 432x288 with 1 Axes>"
            ],
            "image/png": "[encoded data removed]"
          },
          "metadata": {
            "needs_background": "light"
          }
        },
        {
          "output_type": "display_data",
          "data": {
            "text/plain": [
              "<Figure size 432x288 with 1 Axes>"
            ],
            "image/png": "[encoded data removed]"
          },
          "metadata": {
            "needs_background": "light"
          }
        },
        {
          "output_type": "display_data",
          "data": {
            "text/plain": [
              "<Figure size 432x288 with 1 Axes>"
            ],
            "image/png": "[encoded data removed]"
          },
          "metadata": {
            "needs_background": "light"
          }
        },
        {
          "output_type": "display_data",
          "data": {
            "text/plain": [
              "<Figure size 432x288 with 1 Axes>"
            ],
            "image/png": "[encoded data removed]"
          },
          "metadata": {
            "needs_background": "light"
          }
        },
        {
          "output_type": "display_data",
          "data": {
            "text/plain": [
              "<Figure size 432x288 with 1 Axes>"
            ],
            "image/png": "[encoded data removed]"
          },
          "metadata": {
            "needs_background": "light"
          }
        },
        {
          "output_type": "display_data",
          "data": {
            "text/plain": [
              "<Figure size 432x288 with 1 Axes>"
            ],
            "image/png": "[encoded data removed]"
          },
          "metadata": {
            "needs_background": "light"
          }
        },
        {
          "output_type": "display_data",
          "data": {
            "text/plain": [
              "<Figure size 432x288 with 1 Axes>"
            ],
            "image/png": "[encoded data removed]"
          },
          "metadata": {
            "needs_background": "light"
          }
        },
        {
          "output_type": "display_data",
          "data": {
            "text/plain": [
              "<Figure size 432x288 with 1 Axes>"
            ],
            "image/png": "[encoded data removed]"
          },
          "metadata": {
            "needs_background": "light"
          }
        },
        {
          "output_type": "display_data",
          "data": {
            "text/plain": [
              "<Figure size 432x288 with 1 Axes>"
            ],
            "image/png": "[encoded data removed]"
          },
          "metadata": {
            "needs_background": "light"
          }
        },
        {
          "output_type": "display_data",
          "data": {
            "text/plain": [
              "<Figure size 432x288 with 1 Axes>"
            ],
            "image/png": "[encoded data removed]"
          },
          "metadata": {
            "needs_background": "light"
          }
        },
        {
          "output_type": "display_data",
          "data": {
            "text/plain": [
              "<Figure size 432x288 with 1 Axes>"
            ],
            "image/png": "[encoded data removed]"
          },
          "metadata": {
            "needs_background": "light"
          }
        },
        {
          "output_type": "display_data",
          "data": {
            "text/plain": [
              "<Figure size 432x288 with 1 Axes>"
            ],
            "image/png": "[encoded data removed]"
          },
          "metadata": {
            "needs_background": "light"
          }
        },
        {
          "output_type": "display_data",
          "data": {
            "text/plain": [
              "<Figure size 432x288 with 1 Axes>"
            ],
            "image/png": "[encoded data removed]"
          },
          "metadata": {
            "needs_background": "light"
          }
        },
        {
          "output_type": "display_data",
          "data": {
            "text/plain": [
              "<Figure size 432x288 with 1 Axes>"
            ],
            "image/png": "[encoded data removed]"
          },
          "metadata": {
            "needs_background": "light"
          }
        },
        {
          "output_type": "display_data",
          "data": {
            "text/plain": [
              "<Figure size 432x288 with 1 Axes>"
            ],
            "image/png": "[encoded data removed]"
          },
          "metadata": {
            "needs_background": "light"
          }
        },
        {
          "output_type": "display_data",
          "data": {
            "text/plain": [
              "<Figure size 432x288 with 1 Axes>"
            ],
            "image/png": "[encoded data removed]"
          },
          "metadata": {
            "needs_background": "light"
          }
        },
        {
          "output_type": "display_data",
          "data": {
            "text/plain": [
              "<Figure size 432x288 with 1 Axes>"
            ],
            "image/png": "[encoded data removed]"
          },
          "metadata": {
            "needs_background": "light"
          }
        }
      ]
    },
    {
      "cell_type": "markdown",
      "source": [
        "### Let's create Lenet achitecture using Relu as activation function"
      ],
      "metadata": {
        "id": "IbuD38eFYs1H"
      }
    },
    {
      "cell_type": "code",
      "source": [
        "## Let's create the structure of our model here\n",
        "class LeNet(nn.Module):      # nn has All neural network modules, nn.Linear, nn.Conv2d, BatchNorm, Loss functions\n",
        "    def __init__(self):\n",
        "        super(LeNet, self).__init__()\n",
        "        self.Relu = nn.ReLU()\n",
        "        self.pool = nn.AvgPool2d(kernel_size=(2, 2), stride=(2, 2))\n",
        "        self.conv1 = nn.Conv2d(\n",
        "            in_channels=1,\n",
        "            out_channels=6,\n",
        "            kernel_size=(5, 5),\n",
        "            stride=(1, 1),\n",
        "            padding=(2, 2),    ## Have to use padding because the Lenet arch, requires image of 32x32 and we have 28x28.\n",
        "        )\n",
        "        self.conv2 = nn.Conv2d(\n",
        "            in_channels=6,\n",
        "            out_channels=16,\n",
        "            kernel_size=(5, 5),\n",
        "            stride=(1, 1),\n",
        "            padding=(0, 0),\n",
        "        )\n",
        "        self.conv3 = nn.Conv2d(\n",
        "            in_channels=16,\n",
        "            out_channels=120,\n",
        "            kernel_size=(5, 5),\n",
        "            stride=(1, 1),\n",
        "            padding=(0, 0),\n",
        "        )\n",
        "        self.linear1 = nn.Linear(120, 84)\n",
        "        self.linear2 = nn.Linear(84, 10)\n",
        "\n",
        "    def forward(self, x):\n",
        "        x = self.Relu (self.conv1(x))\n",
        "        x = self.pool(x)\n",
        "        x = self.Relu (self.conv2(x))\n",
        "        x = self.pool(x)\n",
        "        x = self.Relu (\n",
        "            self.conv3(x)\n",
        "        )  # Reshaping to get the array of 120*1*1\n",
        "        x = x.reshape(x.shape[0], -1)\n",
        "        x = self.Relu (self.linear1(x))\n",
        "        x = self.linear2(x)\n",
        "        return x\n"
      ],
      "metadata": {
        "id": "q6dQV_qUlGOp"
      },
      "execution_count": 285,
      "outputs": []
    },
    {
      "cell_type": "code",
      "source": [
        "x = torch.randn(32,1,28,28)\n",
        "model_Relu=LeNet()\n",
        "print(model_Relu(x).shape) "
      ],
      "metadata": {
        "colab": {
          "base_uri": "https://localhost:8080/"
        },
        "id": "hUqcLbaVaMbS",
        "outputId": "99f24ba0-1ca4-4197-bcf4-17612243a69b"
      },
      "execution_count": 286,
      "outputs": [
        {
          "output_type": "stream",
          "name": "stdout",
          "text": [
            "torch.Size([32, 10])\n"
          ]
        }
      ]
    },
    {
      "cell_type": "code",
      "source": [
        "model_Relu.forward"
      ],
      "metadata": {
        "colab": {
          "base_uri": "https://localhost:8080/"
        },
        "id": "W9RbQlqcaO8j",
        "outputId": "630df014-eecf-4ad8-dfa9-ce66b7b0bf86"
      },
      "execution_count": 287,
      "outputs": [
        {
          "output_type": "execute_result",
          "data": {
            "text/plain": [
              "<bound method LeNet.forward of LeNet(\n",
              "  (Relu): ReLU()\n",
              "  (pool): AvgPool2d(kernel_size=(2, 2), stride=(2, 2), padding=0)\n",
              "  (conv1): Conv2d(1, 6, kernel_size=(5, 5), stride=(1, 1), padding=(2, 2))\n",
              "  (conv2): Conv2d(6, 16, kernel_size=(5, 5), stride=(1, 1))\n",
              "  (conv3): Conv2d(16, 120, kernel_size=(5, 5), stride=(1, 1))\n",
              "  (linear1): Linear(in_features=120, out_features=84, bias=True)\n",
              "  (linear2): Linear(in_features=84, out_features=10, bias=True)\n",
              ")>"
            ]
          },
          "metadata": {},
          "execution_count": 287
        }
      ]
    },
    {
      "cell_type": "code",
      "source": [
        "model_Relu.to(config.DEVICE)"
      ],
      "metadata": {
        "colab": {
          "base_uri": "https://localhost:8080/"
        },
        "id": "bT1vmZA6aShX",
        "outputId": "dae3adac-af81-404a-80bb-74ae5f54661c"
      },
      "execution_count": 288,
      "outputs": [
        {
          "output_type": "execute_result",
          "data": {
            "text/plain": [
              "LeNet(\n",
              "  (Relu): ReLU()\n",
              "  (pool): AvgPool2d(kernel_size=(2, 2), stride=(2, 2), padding=0)\n",
              "  (conv1): Conv2d(1, 6, kernel_size=(5, 5), stride=(1, 1), padding=(2, 2))\n",
              "  (conv2): Conv2d(6, 16, kernel_size=(5, 5), stride=(1, 1))\n",
              "  (conv3): Conv2d(16, 120, kernel_size=(5, 5), stride=(1, 1))\n",
              "  (linear1): Linear(in_features=120, out_features=84, bias=True)\n",
              "  (linear2): Linear(in_features=84, out_features=10, bias=True)\n",
              ")"
            ]
          },
          "metadata": {},
          "execution_count": 288
        }
      ]
    },
    {
      "cell_type": "code",
      "source": [
        "def count_params(model):\n",
        "  model_params= {\"Modules\":list(), \"Parameters\":list()}\n",
        "  total={\"trainable\":0, \"non-trainable\":0}\n",
        "\n",
        "  for name, parameters in model.named_parameters():\n",
        "    param = parameters.numel()\n",
        "\n",
        "    if not parameters.requires_grad:\n",
        "      total['non-trainable'] += param\n",
        "      continue\n",
        "    model_params[\"Modules\"].append(name)\n",
        "    model_params[\"Parameters\"].append(param)\n",
        "    total[\"trainable\"] += param\n",
        "\n",
        "  df=pd.DataFrame(model_params)\n",
        "  df=df.style.set_caption(f\" total parameters of the model : {total}\")\n",
        "  return df\n",
        "\n",
        "count_params(model_Relu)"
      ],
      "metadata": {
        "colab": {
          "base_uri": "https://localhost:8080/",
          "height": 415
        },
        "id": "-G8gXEbSZq8T",
        "outputId": "2b1938ea-3a1d-4f3c-cc26-486a33a4e8de"
      },
      "execution_count": 289,
      "outputs": [
        {
          "output_type": "execute_result",
          "data": {
            "text/plain": [
              "<pandas.io.formats.style.Styler at 0x7f6131292a90>"
            ],
            "text/html": [
              "<style type=\"text/css\">\n",
              "</style>\n",
              "<table id=\"T_b126b_\" class=\"dataframe\">\n",
              "  <caption> total parameters of the model : {'trainable': 61706, 'non-trainable': 0}</caption>\n",
              "  <thead>\n",
              "    <tr>\n",
              "      <th class=\"blank level0\" >&nbsp;</th>\n",
              "      <th class=\"col_heading level0 col0\" >Modules</th>\n",
              "      <th class=\"col_heading level0 col1\" >Parameters</th>\n",
              "    </tr>\n",
              "  </thead>\n",
              "  <tbody>\n",
              "    <tr>\n",
              "      <th id=\"T_b126b_level0_row0\" class=\"row_heading level0 row0\" >0</th>\n",
              "      <td id=\"T_b126b_row0_col0\" class=\"data row0 col0\" >conv1.weight</td>\n",
              "      <td id=\"T_b126b_row0_col1\" class=\"data row0 col1\" >150</td>\n",
              "    </tr>\n",
              "    <tr>\n",
              "      <th id=\"T_b126b_level0_row1\" class=\"row_heading level0 row1\" >1</th>\n",
              "      <td id=\"T_b126b_row1_col0\" class=\"data row1 col0\" >conv1.bias</td>\n",
              "      <td id=\"T_b126b_row1_col1\" class=\"data row1 col1\" >6</td>\n",
              "    </tr>\n",
              "    <tr>\n",
              "      <th id=\"T_b126b_level0_row2\" class=\"row_heading level0 row2\" >2</th>\n",
              "      <td id=\"T_b126b_row2_col0\" class=\"data row2 col0\" >conv2.weight</td>\n",
              "      <td id=\"T_b126b_row2_col1\" class=\"data row2 col1\" >2400</td>\n",
              "    </tr>\n",
              "    <tr>\n",
              "      <th id=\"T_b126b_level0_row3\" class=\"row_heading level0 row3\" >3</th>\n",
              "      <td id=\"T_b126b_row3_col0\" class=\"data row3 col0\" >conv2.bias</td>\n",
              "      <td id=\"T_b126b_row3_col1\" class=\"data row3 col1\" >16</td>\n",
              "    </tr>\n",
              "    <tr>\n",
              "      <th id=\"T_b126b_level0_row4\" class=\"row_heading level0 row4\" >4</th>\n",
              "      <td id=\"T_b126b_row4_col0\" class=\"data row4 col0\" >conv3.weight</td>\n",
              "      <td id=\"T_b126b_row4_col1\" class=\"data row4 col1\" >48000</td>\n",
              "    </tr>\n",
              "    <tr>\n",
              "      <th id=\"T_b126b_level0_row5\" class=\"row_heading level0 row5\" >5</th>\n",
              "      <td id=\"T_b126b_row5_col0\" class=\"data row5 col0\" >conv3.bias</td>\n",
              "      <td id=\"T_b126b_row5_col1\" class=\"data row5 col1\" >120</td>\n",
              "    </tr>\n",
              "    <tr>\n",
              "      <th id=\"T_b126b_level0_row6\" class=\"row_heading level0 row6\" >6</th>\n",
              "      <td id=\"T_b126b_row6_col0\" class=\"data row6 col0\" >linear1.weight</td>\n",
              "      <td id=\"T_b126b_row6_col1\" class=\"data row6 col1\" >10080</td>\n",
              "    </tr>\n",
              "    <tr>\n",
              "      <th id=\"T_b126b_level0_row7\" class=\"row_heading level0 row7\" >7</th>\n",
              "      <td id=\"T_b126b_row7_col0\" class=\"data row7 col0\" >linear1.bias</td>\n",
              "      <td id=\"T_b126b_row7_col1\" class=\"data row7 col1\" >84</td>\n",
              "    </tr>\n",
              "    <tr>\n",
              "      <th id=\"T_b126b_level0_row8\" class=\"row_heading level0 row8\" >8</th>\n",
              "      <td id=\"T_b126b_row8_col0\" class=\"data row8 col0\" >linear2.weight</td>\n",
              "      <td id=\"T_b126b_row8_col1\" class=\"data row8 col1\" >840</td>\n",
              "    </tr>\n",
              "    <tr>\n",
              "      <th id=\"T_b126b_level0_row9\" class=\"row_heading level0 row9\" >9</th>\n",
              "      <td id=\"T_b126b_row9_col0\" class=\"data row9 col0\" >linear2.bias</td>\n",
              "      <td id=\"T_b126b_row9_col1\" class=\"data row9 col1\" >10</td>\n",
              "    </tr>\n",
              "  </tbody>\n",
              "</table>\n"
            ]
          },
          "metadata": {},
          "execution_count": 289
        }
      ]
    },
    {
      "cell_type": "code",
      "source": [
        "criterion = nn.CrossEntropyLoss()   ## defining our loss function\n",
        "optimizer = torch.optim.Adam(model_Relu.parameters(), lr = config.LEARNING_RATE)"
      ],
      "metadata": {
        "id": "lQppUm-cZwPm"
      },
      "execution_count": 292,
      "outputs": []
    },
    {
      "cell_type": "code",
      "source": [
        "for epoch in range(config.EPOCH):\n",
        "  with tqdm(training_data_loader) as tqdm_epoch:\n",
        "    for images, labels in tqdm_epoch:\n",
        "      tqdm_epoch.set_description(f\"Epoch {epoch+1}/{config.EPOCH}\")\n",
        "\n",
        "      ## Put the images on the gpu memory\n",
        "      images = images.to(config.DEVICE)\n",
        "      labels = labels.to(config.DEVICE)\n",
        "\n",
        "      ##FORWARD PASS\n",
        "      outputs = model_Relu(images)\n",
        "      loss = criterion(outputs, labels)    ## as convention people write loss as criterion()\n",
        "\n",
        "      ## backward pass\n",
        "      optimizer.zero_grad()  ## we zero the gradient, so that it should not store any residual\n",
        "      loss.backward()       ## calculating the gradients of weights\n",
        "      optimizer.step()   ## Updating the weights\n",
        "\n",
        "\n",
        "      tqdm_epoch.set_postfix(loss = loss.item())    ## We do loss.item() because loss is a tensor element, in order to print the value of loss we have to call .item()"
      ],
      "metadata": {
        "colab": {
          "base_uri": "https://localhost:8080/"
        },
        "id": "8pTTQp3nZ2N8",
        "outputId": "9bf78f57-da60-4058-d539-ca1233ff2d81"
      },
      "execution_count": 293,
      "outputs": [
        {
          "output_type": "stream",
          "name": "stderr",
          "text": [
            "Epoch 1/10: 100%|██████████| 1875/1875 [00:36<00:00, 52.06it/s, loss=0.011]\n",
            "Epoch 2/10: 100%|██████████| 1875/1875 [00:35<00:00, 52.42it/s, loss=0.132]\n",
            "Epoch 3/10: 100%|██████████| 1875/1875 [00:35<00:00, 52.50it/s, loss=0.00119]\n",
            "Epoch 4/10: 100%|██████████| 1875/1875 [00:36<00:00, 52.01it/s, loss=0.0735]\n",
            "Epoch 5/10: 100%|██████████| 1875/1875 [00:36<00:00, 51.76it/s, loss=0.0118]\n",
            "Epoch 6/10: 100%|██████████| 1875/1875 [00:36<00:00, 51.96it/s, loss=0.00106]\n",
            "Epoch 7/10: 100%|██████████| 1875/1875 [00:36<00:00, 51.88it/s, loss=0.0286]\n",
            "Epoch 8/10: 100%|██████████| 1875/1875 [00:36<00:00, 51.99it/s, loss=0.0254]\n",
            "Epoch 9/10: 100%|██████████| 1875/1875 [00:35<00:00, 52.17it/s, loss=0.0151]\n",
            "Epoch 10/10: 100%|██████████| 1875/1875 [00:35<00:00, 52.10it/s, loss=0.0769]\n"
          ]
        }
      ]
    },
    {
      "cell_type": "code",
      "source": [
        "pred = np.array([])\n",
        "target = np.array([])\n",
        "\n",
        "with torch.no_grad():    ## because we are only doing forward pass to predict and not backward pass, hence no need of gradient calculation\n",
        "  for batch, data in enumerate(test_data_loader): # Since, enumerator returns the index and data. Hence, here index is the batch and data contains labels and images\n",
        "    images = data[0].to(config.DEVICE)     # converting the images for GPU\n",
        "    labels = data[1].to(config.DEVICE)\n",
        "\n",
        "    y_pred = model_Relu(images)\n",
        "\n",
        "    pred = np.concatenate((pred, torch.argmax(y_pred,1).cpu().numpy()))   ## we selected the probability of the highest class prediction using argmax, converted it into cpu as pred is a numpy array and then converted it into numpy()\n",
        "    target = np.concatenate((target, labels.cpu().numpy()))"
      ],
      "metadata": {
        "id": "Q1-oVpbhadu_"
      },
      "execution_count": 294,
      "outputs": []
    },
    {
      "cell_type": "code",
      "source": [
        "## Let's print the confusion matrix\n",
        "cm = confusion_matrix(target, pred)\n",
        "cm"
      ],
      "metadata": {
        "colab": {
          "base_uri": "https://localhost:8080/"
        },
        "id": "h1miOhdWaix6",
        "outputId": "87697ffa-6036-4da7-d600-a3155f26bb29"
      },
      "execution_count": 295,
      "outputs": [
        {
          "output_type": "execute_result",
          "data": {
            "text/plain": [
              "array([[ 970,    0,    1,    0,    0,    0,    4,    1,    4,    0],\n",
              "       [   0, 1130,    1,    1,    1,    0,    0,    1,    1,    0],\n",
              "       [   1,    1, 1022,    4,    0,    0,    0,    4,    0,    0],\n",
              "       [   0,    2,    3,  995,    0,    7,    0,    2,    1,    0],\n",
              "       [   0,    1,    1,    0,  974,    0,    1,    0,    0,    5],\n",
              "       [   0,    1,    1,    4,    0,  884,    1,    0,    0,    1],\n",
              "       [   3,    3,    1,    0,    5,    4,  939,    0,    3,    0],\n",
              "       [   0,    3,    5,    2,    2,    0,    0, 1014,    0,    2],\n",
              "       [   0,    1,    3,    2,    0,    1,    3,    2,  961,    1],\n",
              "       [   2,    1,    4,    4,    5,    5,    0,    6,    6,  976]])"
            ]
          },
          "metadata": {},
          "execution_count": 295
        }
      ]
    },
    {
      "cell_type": "code",
      "source": [
        "## Let's plot the confusion matrix\n",
        "plt.figure(figsize=(12,10))\n",
        "plt.title(\"Confusion matrix of mnist data using LeNet\")\n",
        "sns.heatmap(cm, annot = True,fmt='d', xticklabels=converted_label_map.values(), yticklabels=converted_label_map.values(), cbar = False)"
      ],
      "metadata": {
        "colab": {
          "base_uri": "https://localhost:8080/",
          "height": 624
        },
        "id": "2_c3dju0aoDr",
        "outputId": "80a7272e-c477-484e-ef7d-8d61e7526039"
      },
      "execution_count": 296,
      "outputs": [
        {
          "output_type": "execute_result",
          "data": {
            "text/plain": [
              "<matplotlib.axes._subplots.AxesSubplot at 0x7f613010a710>"
            ]
          },
          "metadata": {},
          "execution_count": 296
        },
        {
          "output_type": "display_data",
          "data": {
            "text/plain": [
              "<Figure size 864x720 with 1 Axes>"
            ],
            "image/png": "[encoded data removed]"
          },
          "metadata": {
            "needs_background": "light"
          }
        }
      ]
    },
    {
      "cell_type": "code",
      "source": [
        "## checking the accuracy score\n",
        "Lenet_with_Relu = accuracy_score(target, pred)\n",
        "Lenet_with_Relu"
      ],
      "metadata": {
        "colab": {
          "base_uri": "https://localhost:8080/"
        },
        "id": "zFE1s-q_aswT",
        "outputId": "aa6c0e45-dc4e-414b-82d1-a9bb63c0f7e5"
      },
      "execution_count": 297,
      "outputs": [
        {
          "output_type": "execute_result",
          "data": {
            "text/plain": [
              "0.9865"
            ]
          },
          "metadata": {},
          "execution_count": 297
        }
      ]
    },
    {
      "cell_type": "code",
      "source": [
        "## Let's plot both the accuracies\n",
        "models_score = {}\n",
        "models_score['with Tanh'] = Lenet_with_Tanh * 100\n",
        "models_score['with Relu'] = Lenet_with_Relu * 100\n",
        "\n",
        "plt.bar(*zip(*models_score.items()))\n",
        "plt.title(\"Lenet with Relu and tanh activation functions\")\n",
        "plt.ylabel(\"Accuracy\")\n",
        "plt.xlabel(\"Models with different activation functions\")"
      ],
      "metadata": {
        "colab": {
          "base_uri": "https://localhost:8080/",
          "height": 312
        },
        "id": "wnS9Wk1Haw6T",
        "outputId": "4a091a0c-ed0a-4b2e-fb25-4e6f6c3dec64"
      },
      "execution_count": 298,
      "outputs": [
        {
          "output_type": "execute_result",
          "data": {
            "text/plain": [
              "Text(0.5, 0, 'Models with different activation functions')"
            ]
          },
          "metadata": {},
          "execution_count": 298
        },
        {
          "output_type": "display_data",
          "data": {
            "text/plain": [
              "<Figure size 432x288 with 1 Axes>"
            ],
            "image/png": "[encoded data removed]"
          },
          "metadata": {
            "needs_background": "light"
          }
        }
      ]
    }
  ]
}